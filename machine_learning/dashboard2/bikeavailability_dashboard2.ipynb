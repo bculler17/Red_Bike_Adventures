{
 "cells": [
  {
   "cell_type": "code",
   "execution_count": 1,
   "metadata": {},
   "outputs": [],
   "source": [
    "%matplotlib inline\n",
    "import numpy as np\n",
    "import pandas as pd\n",
    "import matplotlib.pyplot as plt\n",
    "import seaborn as sns\n",
    "%matplotlib inline\n",
    "from datetime import datetime\n",
    "from datetime import date\n",
    "import calendar\n",
    "from sklearn.cluster import KMeans\n",
    "from matplotlib import pyplot as plt\n",
    "import seaborn as sns\n",
    "sns.set_context('notebook')\n",
    "from sklearn.model_selection import train_test_split\n",
    "from sklearn.linear_model import LinearRegression\n",
    "\n",
    "\n",
    "def getTrainedModel():\n",
    "    # Historical bike rental dataset\n",
    "    DATA=\"C:/users/moao/desktop/bethculler_webfiles/RBA/bike-sharing-dataset/hour.csv\"\n",
    "    raw = pd.read_csv(DATA, parse_dates=['dteday'])\n",
    "    type(raw['dteday'][0])\n",
    "    \n",
    "    #Clean the data\n",
    "    raw.drop(['instant', 'hum', 'windspeed', 'casual', 'registered', 'weathersit'], axis=1, inplace=True) \n",
    "    raw.drop(['dteday','atemp', 'yr'], axis=1, inplace=True)\n",
    "    \n",
    "    # To improve the accuracy of the linear regression model,because this dataset is a combination of continuous and categorical data:\n",
    "    # Create dummy variables of the dataset\n",
    "    # Dummy variables are a numeric variable which represents the sub-categories or sub-groups of the categorical variables of the dataset\n",
    "    season = pd.get_dummies(raw['season'],prefix='season',drop_first=False)\n",
    "    holiday = pd.get_dummies(raw['holiday'],prefix='holiday',drop_first=False)\n",
    "    mnth = pd.get_dummies(raw['mnth'],prefix='mnth',drop_first=False)\n",
    "    hr = pd.get_dummies(raw['hr'],prefix='hr',drop_first=False)\n",
    "    data = pd.concat([raw,season,holiday,mnth,hr],axis=1)\n",
    "    data.drop(['season','holiday','mnth','hr'], axis=1,inplace=True)\n",
    "\n",
    "    # Create the x-array\n",
    "    x = data.drop('cnt',axis=1)\n",
    "    \n",
    "    # Create the y-array\n",
    "    y = raw['cnt']\n",
    "    \n",
    "    # Test data will be 30% of entire dataset\n",
    "    x_train, x_test, y_train, y_test = train_test_split(x, y, test_size = 0.3)\n",
    "    \n",
    "    # Create instance of the Linear Regression object\n",
    "    model = LinearRegression()\n",
    "    \n",
    "    # Train this model on the training data using scikit-learn's fit method\n",
    "    trainedModel = model.fit(x_train, y_train)\n",
    "    \n",
    "    return trainedModel\n"
   ]
  },
  {
   "cell_type": "code",
   "execution_count": 2,
   "id": "9a1d50e1",
   "metadata": {},
   "outputs": [
    {
     "name": "stdout",
     "output_type": "stream",
     "text": [
      "today= 2021-09-09 16:57:46.851747\n",
      "tomorrow= 2021-09-10 16:57:46.856803\n"
     ]
    }
   ],
   "source": [
    "# To allow users to request a day for a prediction of future bike availability\n",
    "# Make dashboard start with tomorrow\n",
    "import datetime\n",
    "\n",
    "currentday = datetime.datetime.today()\n",
    "print(\"today=\", currentday)\n",
    "tomorrow = datetime.datetime.today() + datetime.timedelta(days=1)\n",
    "print(\"tomorrow=\", tomorrow)\n",
    "\n",
    "def get_months(day):\n",
    "    month = day.month\n",
    "    month_1= 0\n",
    "    month_2 = 0\n",
    "    month_3 = 0\n",
    "    month_4 = 0\n",
    "    month_5 = 0\n",
    "    month_6 = 0\n",
    "    month_7 = 0\n",
    "    month_8 = 0\n",
    "    month_9 = 0\n",
    "    month_10 = 0\n",
    "    month_11 = 0\n",
    "    month_12 = 0\n",
    "    if month == 1:\n",
    "        month_1 = 1\n",
    "    elif month == 2:\n",
    "        month_2 = 1\n",
    "    elif month == 3:\n",
    "        month_3 = 1\n",
    "    elif month == 4:\n",
    "        month_4 = 1\n",
    "    elif month == 5:\n",
    "        month_5 = 1\n",
    "    elif month == 6:\n",
    "        month_6 = 1\n",
    "    elif month == 7:\n",
    "        month_7 = 1\n",
    "    elif month == 8:\n",
    "        month_8 = 1\n",
    "    elif month == 9:\n",
    "        month_9 = 1\n",
    "    elif month == 10:\n",
    "        month_10 = 1\n",
    "    elif month == 11:\n",
    "        month_11 = 1\n",
    "    elif month == 12:\n",
    "        month_12 = 1\n",
    "    return month, month_1, month_2, month_3, month_4, month_5, month_6, month_7, month_8, month_9, month_10, month_11, month_12\n",
    "    \n",
    "        \n",
    "mnths = get_months(tomorrow)\n",
    "month = mnths[0]\n",
    "month_1 = mnths[1]\n",
    "month_2 = mnths[2]\n",
    "month_3 = mnths[3]\n",
    "month_4 = mnths[4]\n",
    "month_5 = mnths[5]\n",
    "month_6 = mnths[6]\n",
    "month_7 = mnths[7]\n",
    "month_8 = mnths[8]\n",
    "month_9 = mnths[9]\n",
    "month_10 = mnths[10]\n",
    "month_11 = mnths[11]\n",
    "month_12 = mnths[12]"
   ]
  },
  {
   "cell_type": "code",
   "execution_count": 3,
   "id": "292f6741",
   "metadata": {},
   "outputs": [
    {
     "name": "stdout",
     "output_type": "stream",
     "text": [
      "(0, 1, 0, 0)\n"
     ]
    }
   ],
   "source": [
    "Y = 2000 # dummy leap year to allow input X-02-29 (leap day)\n",
    "seasons = [('4', (date(Y,  1,  1),  date(Y,  3, 20))),\n",
    "           ('1', (date(Y,  3, 21),  date(Y,  6, 20))),\n",
    "           ('2', (date(Y,  6, 21),  date(Y,  9, 22))),\n",
    "           ('3', (date(Y,  9, 23),  date(Y, 12, 20))),\n",
    "           ('4', (date(Y, 12, 21),  date(Y, 12, 31)))]\n",
    "\n",
    "tom = tomorrow.date()\n",
    "\n",
    "def get_season(day):\n",
    "    day = day.replace(year=Y)\n",
    "    return next(season for season, (start, end) in seasons\n",
    "                if start <= day <= end)\n",
    "\n",
    "seasonout = get_season(tom) \n",
    "\n",
    "def set_seasons(season):\n",
    "    if season == '1':\n",
    "        season1 = 1\n",
    "        season2 = 0\n",
    "        season3 = 0\n",
    "        season4 = 0\n",
    "        return season1, season2, season3, season4\n",
    "    elif season == '2':\n",
    "        season1 = 0\n",
    "        season2 = 1\n",
    "        season3 = 0\n",
    "        season4 = 0\n",
    "        return season1, season2, season3, season4\n",
    "    elif season == '3':\n",
    "        season1 = 0\n",
    "        season2 = 0\n",
    "        season3 = 1\n",
    "        season4 = 0\n",
    "        return season1, season2, season3, season4\n",
    "    elif season == '4':\n",
    "        season1 = 0\n",
    "        season2 = 0\n",
    "        season3 = 0\n",
    "        season4 = 1\n",
    "        return season1, season2, season3, season4\n",
    "    else:\n",
    "        print('Something wrong happened.')\n",
    "        \n",
    "seasonsset = set_seasons(seasonout)\n",
    "print(seasonsset)\n",
    "\n",
    "season1 = seasonsset[0]\n",
    "season2 = seasonsset[1]\n",
    "season3 = seasonsset[2]\n",
    "season4 = seasonsset[3]"
   ]
  },
  {
   "cell_type": "code",
   "execution_count": 4,
   "id": "816f525f",
   "metadata": {},
   "outputs": [
    {
     "name": "stdout",
     "output_type": "stream",
     "text": [
      "(datetime.date(2020, 1, 1), \"New Year's Day\")\n",
      "(datetime.date(2020, 1, 20), 'Martin Luther King Jr. Day')\n",
      "(datetime.date(2020, 2, 17), \"Washington's Birthday\")\n",
      "(datetime.date(2020, 5, 25), 'Memorial Day')\n",
      "(datetime.date(2020, 7, 4), 'Independence Day')\n",
      "(datetime.date(2020, 7, 3), 'Independence Day (Observed)')\n",
      "(datetime.date(2020, 9, 7), 'Labor Day')\n",
      "(datetime.date(2020, 10, 12), 'Columbus Day')\n",
      "(datetime.date(2020, 11, 11), 'Veterans Day')\n",
      "(datetime.date(2020, 11, 26), 'Thanksgiving')\n",
      "(datetime.date(2020, 12, 25), 'Christmas Day')\n",
      "False\n",
      "0\n"
     ]
    }
   ],
   "source": [
    "import holidays\n",
    "us_holidays = holidays.UnitedStates()\n",
    "# Print all the holidays in UnitedKingdom in year 2018\n",
    "for ptr in holidays.UnitedStates(years = 2020).items():\n",
    "    print(ptr)\n",
    "    \n",
    "print(tomorrow in us_holidays)\n",
    "\n",
    "def get_holiday(day):\n",
    "    status = day in us_holidays\n",
    "    if status == True:\n",
    "        holiday = 1\n",
    "    elif status == False:\n",
    "        holiday = 0\n",
    "    return holiday\n",
    "\n",
    "holidayout = get_holiday(tomorrow)\n",
    "print(holidayout)\n",
    "\n",
    "def set_holidays(holiday):\n",
    "    if holidayout == 1:\n",
    "        holiday_0 = 0\n",
    "        holiday_1 = 1\n",
    "    elif holidayout == 0:\n",
    "        holiday_0 = 1\n",
    "        holiday_1 = 0\n",
    "    else:\n",
    "        print('Something wrong happened.')\n",
    "    return holiday_0, holiday_1\n",
    "\n",
    "holidaysset = set_holidays(holidayout)\n",
    "holiday_0 = holidaysset[0]\n",
    "holiday_1 = holidaysset[1]\n"
   ]
  },
  {
   "cell_type": "code",
   "execution_count": 5,
   "id": "393d9548",
   "metadata": {},
   "outputs": [],
   "source": [
    "def get_day_of_week(day):\n",
    "    day_of_week = day.weekday()\n",
    "    return day_of_week\n",
    "\n",
    "day_of_week = get_day_of_week(tomorrow)\n"
   ]
  },
  {
   "cell_type": "code",
   "execution_count": 6,
   "id": "8f73e7b4",
   "metadata": {},
   "outputs": [],
   "source": [
    "def get_workingday(day):\n",
    "    daynum = day.weekday()\n",
    "    if get_holiday(day) == True or daynum == 5 or daynum == 6:\n",
    "        workday = 1\n",
    "    else:\n",
    "        workday = 0\n",
    "    return workday\n",
    "\n",
    "workday = get_workingday(tomorrow)"
   ]
  },
  {
   "cell_type": "code",
   "execution_count": 7,
   "id": "32e4d64a",
   "metadata": {},
   "outputs": [],
   "source": [
    "avgtemp = [0.3, 0.3, 0.3, 0.3, 0.3, 0.3, 0.4, 0.4, 0.4, 0.5, 0.5, 0.6, 0.7, 0.7, 0.7, 0.6, 0.6, 0.6, 0.5, 0.5, 0.5, 0.4, 0.4, 0.4]\n",
    "cnt = 0\n",
    "\n",
    "userout = {'weekday': day_of_week,\n",
    "           'workingday': workday,\n",
    "           'temp': avgtemp,\n",
    "           'season': seasonout,\n",
    "           'holiday': holidayout,         \n",
    "           'mnth': month,\n",
    "           'hr': [0,1,2,3,4,5,6,7,8,9,10,11,12,13,14,15,16,17,18,19,20,21,22,23]\n",
    "          }\n",
    "\n",
    "user_out = pd.DataFrame (userout, columns = ['weekday', 'workingday', 'temp','season','holiday', 'mnth','hr'])\n"
   ]
  },
  {
   "cell_type": "code",
   "execution_count": 8,
   "id": "67fee73f",
   "metadata": {},
   "outputs": [],
   "source": [
    "cnt = 0\n",
    "\n",
    "user = {'weekday': day_of_week,\n",
    "        'workingday': workday,\n",
    "        'temp': avgtemp,\n",
    "        'season_1': season1,\n",
    "        'season_2': season2,\n",
    "        'season_3': season3,\n",
    "        'season_4': season4,\n",
    "        'holiday_0': holiday_0,\n",
    "        'holiday_1': holiday_1,\n",
    "        'mnth_1': month_1,\n",
    "        'mnth_2': month_2,\n",
    "        'mnth_3': month_3,\n",
    "        'mnth_4': month_4,\n",
    "        'mnth_5': month_5,\n",
    "        'mnth_6': month_6,\n",
    "        'mnth_7': month_7,\n",
    "        'mnth_8': month_8,\n",
    "        'mnth_9': month_9,\n",
    "        'mnth_10': month_10,\n",
    "        'mnth_11': month_11,\n",
    "        'mnth_12': month_12,\n",
    "        'hr': [0,1,2,3,4,5,6,7,8,9,10,11,12,13,14,15,16,17,18,19,20,21,22,23],\n",
    "        'cnt' : cnt\n",
    "        }\n",
    "\n",
    "user_predictions = pd.DataFrame (user, columns = ['weekday', 'workingday', 'temp','season_1', 'season_2', 'season_3', 'season_4','holiday_0', 'holiday_1','mnth_1', 'mnth_2', 'mnth_3', 'mnth_4', 'mnth_5', 'mnth_6', 'mnth_7', 'mnth_8', 'mnth_9', 'mnth_10', 'mnth_11', 'mnth_12','hr', 'cnt'])\n"
   ]
  },
  {
   "cell_type": "code",
   "execution_count": 9,
   "id": "edb706c6",
   "metadata": {},
   "outputs": [],
   "source": [
    "# Create dummy variables of the user dataset\n",
    "hr = pd.get_dummies(user_predictions['hr'],prefix='hr',drop_first=False)\n",
    "data1 = pd.concat([user_predictions,hr],axis=1)\n",
    "data1.drop(['hr'], axis=1,inplace=True)"
   ]
  },
  {
   "cell_type": "code",
   "execution_count": 10,
   "id": "df79de6e",
   "metadata": {},
   "outputs": [],
   "source": [
    "# Predict the number of bikes rented per hour tomorrow\n",
    "# Create the x-array\n",
    "x2 = data1.drop('cnt',axis=1)"
   ]
  },
  {
   "cell_type": "code",
   "execution_count": 11,
   "id": "20c29a7d",
   "metadata": {},
   "outputs": [],
   "source": [
    "# Make prediction on the x values \n",
    "trainedModel = getTrainedModel()\n",
    "predictions2 = trainedModel.predict(x2)"
   ]
  },
  {
   "cell_type": "code",
   "execution_count": 12,
   "id": "c2de0008",
   "metadata": {},
   "outputs": [],
   "source": [
    "user_out.insert(7, \"bikes_rented\", predictions2)"
   ]
  },
  {
   "cell_type": "code",
   "execution_count": 13,
   "id": "a0945a5a",
   "metadata": {},
   "outputs": [],
   "source": [
    "# Predict the number of bikes rented each hour on the day the user chose with pre-supplied average temps \n",
    "import calendar\n",
    "\n",
    "def get_day_prediction(day):\n",
    "    months = get_months(day)\n",
    "    month = months[0]\n",
    "    month_1 = months[1]\n",
    "    month_2 = months[2]\n",
    "    month_3 = months[3]\n",
    "    month_4 = months[4]\n",
    "    month_5 = months[5]\n",
    "    month_6 = months[6]\n",
    "    month_7 = months[7]\n",
    "    month_8 = months[8]\n",
    "    month_9 = months[9]\n",
    "    month_10 = months[10]\n",
    "    month_11 = months[11]\n",
    "    month_12 = months[12]\n",
    "    season = get_season(day)\n",
    "    seasons = set_seasons(season)\n",
    "    season1 = seasons[0]\n",
    "    season2 = seasons[1]\n",
    "    season3 = seasons[2]\n",
    "    season4 = seasons[3]\n",
    "    holiday = get_holiday(day)\n",
    "    holidays = set_holidays(holiday)\n",
    "    holiday_0 = holidays[0]\n",
    "    holiday_1 = holidays[1]\n",
    "    day_of_week = get_day_of_week(day)\n",
    "    workingday = get_workingday(day)\n",
    "    cnt = 0\n",
    "    \n",
    "    user_out.weekday = day_of_week\n",
    "    user_out.workingday = workingday\n",
    "    user_out.season = season\n",
    "    user_out.holiday = holiday         \n",
    "    user_out.mnth =  month\n",
    "    \n",
    "    user_predictions.weekday = day_of_week\n",
    "    user_predictions.workingday = workingday\n",
    "    user_predictions.season_1 = season1\n",
    "    user_predictions.season_2 = season2\n",
    "    user_predictions.season_3 = season3\n",
    "    user_predictions.season_4 = season4\n",
    "    user_predictions.holiday_0 = holiday_0\n",
    "    user_predictions.holiday_1 = holiday_1\n",
    "    user_predictions.mnth_1 = month_1\n",
    "    user_predictions.mnth_2 = month_2\n",
    "    user_predictions.mnth_3 = month_3\n",
    "    user_predictions.mnth_4 = month_4\n",
    "    user_predictions.mnth_5 = month_5\n",
    "    user_predictions.mnth_6 = month_6\n",
    "    user_predictions.mnth_7 = month_7\n",
    "    user_predictions.mnth_8 = month_8\n",
    "    user_predictions.mnth_9 = month_9\n",
    "    user_predictions.mnth_10 = month_10\n",
    "    user_predictions.mnth_11 = month_11\n",
    "    user_predictions.mnth_12 = month_12\n",
    "\n",
    "    # Create dummy variables of the user dataset\n",
    "    hr = pd.get_dummies(user_predictions['hr'],prefix='hr',drop_first=False)\n",
    "    data1 = pd.concat([user_predictions,hr],axis=1)\n",
    "    data1.drop(['hr'], axis=1,inplace=True)\n",
    "    x3 = data1.drop('cnt',axis=1)\n",
    "    \n",
    "    trainedModel = getTrainedModel()\n",
    "    predictions = trainedModel.predict(x3)\n",
    "    user_out.bikes_rented = predictions\n",
    "    \n",
    "    user_out['mnth'] = user_out['mnth'].apply(lambda x: calendar.month_abbr[x])\n",
    "    wdi = {0:\"Mon\", 1:\"Tue\", 2:\"Wed\", 3:\"Thu\", 4:\"Fri\", 5:\"Sat\", 6:\"Sun\"}\n",
    "    user_out[\"weekday\"].replace(wdi, inplace=True)\n",
    "    sdi = {\"1\":\"spring\", \"2\":\"summer\", \"3\":\"fall\", \"4\":\"winter\"}\n",
    "    user_out[\"season\"].replace(sdi, inplace=True)\n",
    "    di = {1: \"no\", 0: \"yes\"}\n",
    "    user_out[\"workingday\"].replace(di, inplace=True)\n",
    "    di2 = {1: \"yes\", 0: \"no\"}\n",
    "    user_out[\"holiday\"].replace(di2, inplace=True)\n",
    "    print(user_out[['mnth', 'weekday','season','workingday','holiday', 'hr', 'bikes_rented']])\n",
    "    \n",
    "# Demand per hour\n",
    "# Negative numbers can be assumed to = 0 bikes rented for that hour\n",
    "\n",
    "    dt = day.strftime(\"%B %d, %Y\")\n",
    "\n",
    "    plt.figure(figsize=(12,6))\n",
    "    plt.ylim(0, 700)\n",
    "    sns.barplot(data = user_out, x = 'hr', y = 'bikes_rented', palette = 'rainbow').set(title= dt)\n",
    "    "
   ]
  },
  {
   "cell_type": "code",
   "execution_count": 14,
   "id": "d6da16ac",
   "metadata": {},
   "outputs": [],
   "source": [
    "# Predict the number of bikes rented each hour on the day and for the temp the user chose\n",
    "def get_tmp_prediction(day, temp):\n",
    "    months = get_months(day)\n",
    "    month = months[0]\n",
    "    month_1 = months[1]\n",
    "    month_2 = months[2]\n",
    "    month_3 = months[3]\n",
    "    month_4 = months[4]\n",
    "    month_5 = months[5]\n",
    "    month_6 = months[6]\n",
    "    month_7 = months[7]\n",
    "    month_8 = months[8]\n",
    "    month_9 = months[9]\n",
    "    month_10 = months[10]\n",
    "    month_11 = months[11]\n",
    "    month_12 = months[12]\n",
    "    season = get_season(day)\n",
    "    seasons = set_seasons(season)\n",
    "    season1 = seasons[0]\n",
    "    season2 = seasons[1]\n",
    "    season3 = seasons[2]\n",
    "    season4 = seasons[3]\n",
    "    holiday = get_holiday(day)\n",
    "    holidays = set_holidays(holiday)\n",
    "    holiday_0 = holidays[0]\n",
    "    holiday_1 = holidays[1]\n",
    "    day_of_week = get_day_of_week(day)\n",
    "    workingday = get_workingday(day)\n",
    "    cnt = 0\n",
    "    \n",
    "    user_out.weekday = day_of_week\n",
    "    user_out.workingday = workingday\n",
    "    user_out.season = season\n",
    "    user_out.holiday = holiday         \n",
    "    user_out.mnth =  month\n",
    "    user_out.temp =  temp\n",
    "    \n",
    "    user_predictions.weekday = day_of_week\n",
    "    user_predictions.workingday = workingday\n",
    "    user_predictions.season_1 = season1\n",
    "    user_predictions.season_2 = season2\n",
    "    user_predictions.season_3 = season3\n",
    "    user_predictions.season_4 = season4\n",
    "    user_predictions.holiday_0 = holiday_0\n",
    "    user_predictions.holiday_1 = holiday_1\n",
    "    user_predictions.temp = temp\n",
    "    user_predictions.mnth_1 = month_1\n",
    "    user_predictions.mnth_2 = month_2\n",
    "    user_predictions.mnth_3 = month_3\n",
    "    user_predictions.mnth_4 = month_4\n",
    "    user_predictions.mnth_5 = month_5\n",
    "    user_predictions.mnth_6 = month_6\n",
    "    user_predictions.mnth_7 = month_7\n",
    "    user_predictions.mnth_8 = month_8\n",
    "    user_predictions.mnth_9 = month_9\n",
    "    user_predictions.mnth_10 = month_10\n",
    "    user_predictions.mnth_11 = month_11\n",
    "    user_predictions.mnth_12 = month_12\n",
    "\n",
    "    # Create dummy variables of the user dataset\n",
    "    hr = pd.get_dummies(user_predictions['hr'],prefix='hr',drop_first=False)\n",
    "    data1 = pd.concat([user_predictions,hr],axis=1)\n",
    "    data1.drop(['hr'], axis=1,inplace=True)\n",
    "    x4 = data1.drop('cnt',axis=1)\n",
    "    \n",
    "    trainedModel = getTrainedModel()\n",
    "    predictions = trainedModel.predict(x4)\n",
    "    user_out.bikes_rented = predictions\n",
    "    \n",
    "    user_out['mnth'] = user_out['mnth'].apply(lambda x: calendar.month_abbr[x])\n",
    "    wdi = {0:\"Mon\", 1:\"Tue\", 2:\"Wed\", 3:\"Thu\", 4:\"Fri\", 5:\"Sat\", 6:\"Sun\"}\n",
    "    user_out[\"weekday\"].replace(wdi, inplace=True)\n",
    "    sdi = {\"1\":\"spring\", \"2\":\"summer\", \"3\":\"fall\", \"4\":\"winter\"}\n",
    "    user_out[\"season\"].replace(sdi, inplace=True)\n",
    "    di = {1: \"no\", 0: \"yes\"}\n",
    "    user_out[\"workingday\"].replace(di, inplace=True)\n",
    "    di2 = {1: \"yes\", 0: \"no\"}\n",
    "    user_out[\"holiday\"].replace(di2, inplace=True)\n",
    "    \n",
    "    print(user_out[['mnth', 'weekday', 'temp','season','workingday','holiday', 'hr', 'bikes_rented']])\n",
    "    \n",
    "    # Demand per hour\n",
    "    # Negative numbers can be assumed to = 0 bikes rented for that hour\n",
    "\n",
    "    dt = day.strftime(\"%B %d, %Y\")\n",
    "\n",
    "    plt.figure(figsize=(12,6))\n",
    "    plt.ylim(0, 700)\n",
    "    sns.barplot(data = user_out, x = 'hr', y = 'bikes_rented', palette = 'rainbow').set(title= dt)\n",
    "    "
   ]
  },
  {
   "cell_type": "code",
   "execution_count": 15,
   "id": "cd0f5b95",
   "metadata": {},
   "outputs": [],
   "source": [
    "# Predict the number of bikes rented during the hour of user's choice for each temperature in range 0.0 - 1.0 C, predicted in 0.2 increments\n",
    "def get_hr_prediction(dy, hr):\n",
    "    hour = hr\n",
    "    day = dy\n",
    "    df = pd.DataFrame()\n",
    "    \n",
    "    months = get_months(day)\n",
    "    month = months[0]\n",
    "    month_1 = months[1]\n",
    "    month_2 = months[2]\n",
    "    month_3 = months[3]\n",
    "    month_4 = months[4]\n",
    "    month_5 = months[5]\n",
    "    month_6 = months[6]\n",
    "    month_7 = months[7]\n",
    "    month_8 = months[8]\n",
    "    month_9 = months[9]\n",
    "    month_10 = months[10]\n",
    "    month_11 = months[11]\n",
    "    month_12 = months[12]\n",
    "    season = get_season(day)\n",
    "    seasons = set_seasons(season)\n",
    "    season1 = seasons[0]\n",
    "    season2 = seasons[1]\n",
    "    season3 = seasons[2]\n",
    "    season4 = seasons[3]\n",
    "    holiday = get_holiday(day)\n",
    "    holidays = set_holidays(holiday)\n",
    "    holiday_0 = holidays[0]\n",
    "    holiday_1 = holidays[1]\n",
    "    day_of_week = get_day_of_week(day)\n",
    "    workingday = get_workingday(day)\n",
    "    cnt = 0\n",
    "    \n",
    "    user_out.weekday = day_of_week\n",
    "    user_out.workingday = workingday\n",
    "    user_out.season = season\n",
    "    user_out.holiday = holiday         \n",
    "    user_out.mnth =  month\n",
    "    \n",
    "    user_predictions.weekday = day_of_week\n",
    "    user_predictions.workingday = workingday\n",
    "    user_predictions.season_1 = season1\n",
    "    user_predictions.season_2 = season2\n",
    "    user_predictions.season_3 = season3\n",
    "    user_predictions.season_4 = season4\n",
    "    user_predictions.holiday_0 = holiday_0\n",
    "    user_predictions.holiday_1 = holiday_1\n",
    "    user_predictions.mnth_1 = month_1\n",
    "    user_predictions.mnth_2 = month_2\n",
    "    user_predictions.mnth_3 = month_3\n",
    "    user_predictions.mnth_4 = month_4\n",
    "    user_predictions.mnth_5 = month_5\n",
    "    user_predictions.mnth_6 = month_6\n",
    "    user_predictions.mnth_7 = month_7\n",
    "    user_predictions.mnth_8 = month_8\n",
    "    user_predictions.mnth_9 = month_9\n",
    "    user_predictions.mnth_10 = month_10\n",
    "    user_predictions.mnth_11 = month_11\n",
    "    user_predictions.mnth_12 = month_12\n",
    "    \n",
    "    # Create dummy variables of the user dataset\n",
    "    hourd = pd.get_dummies(user_predictions['hr'],prefix='hr',drop_first=False)\n",
    "    \n",
    "    temp = 0.0\n",
    "    \n",
    "    for t in range(0, 12, 2):\n",
    "        user_out.temp =  temp\n",
    "    \n",
    "        user_predictions.temp = temp\n",
    "        \n",
    "        data1 = pd.concat([user_predictions,hourd],axis=1)\n",
    "        data1.drop(['hr'], axis=1,inplace=True)\n",
    "        x5 = data1.drop('cnt',axis=1)\n",
    "        \n",
    "        trainedModel = getTrainedModel()\n",
    "        predictions = trainedModel.predict(x5)\n",
    "        user_out.bikes_rented = predictions\n",
    "        \n",
    "        df = pd.concat([df, user_out]) \n",
    "        \n",
    "        temp = temp + 0.2\n",
    "    \n",
    "    indexNames = df[df['hr'] != hour].index\n",
    "    df.drop(indexNames, inplace=True)\n",
    "    df['mnth'] =  df['mnth'].apply(lambda x: calendar.month_abbr[x])\n",
    "    wdi = {0:\"Mon\", 1:\"Tue\", 2:\"Wed\", 3:\"Thu\", 4:\"Fri\", 5:\"Sat\", 6:\"Sun\"}\n",
    "    df[\"weekday\"].replace(wdi, inplace=True)\n",
    "    \n",
    "    print(df[['mnth','weekday','hr', 'temp', 'bikes_rented']])\n",
    "    \n",
    "    dt = day.strftime(\"%B %d, %Y\")\n",
    "    \n",
    "    fig = plt.figure(figsize=(20,10))\n",
    "    ax = fig.add_subplot()\n",
    "    ax.plot(df.temp,  df.bikes_rented)\n",
    "    ax.set_xlabel(\"temp in Celsius\")\n",
    "    ax.set_ylabel(\"bikes rented\")\n",
    "    ax.set_title(\"Hour: \" + str(hour))\n",
    "    "
   ]
  },
  {
   "cell_type": "code",
   "execution_count": 16,
   "id": "c19dfbb6",
   "metadata": {},
   "outputs": [
    {
     "data": {
      "application/vnd.jupyter.widget-view+json": {
       "model_id": "e2935ff0b5df4c1ea87b870d0c444d1d",
       "version_major": 2,
       "version_minor": 0
      },
      "text/plain": [
       "HBox(children=(VBox(children=(DatePicker(value=datetime.date(2021, 9, 10), description='Pick a Date'),)), Outp…"
      ]
     },
     "metadata": {},
     "output_type": "display_data"
    }
   ],
   "source": [
    "# Make the dashboard interactive and allow users to query for wanted information\n",
    "# Request a date from the user for the day they would like to check bike availability\n",
    "from ipywidgets import DOMWidget, ValueWidget, register, interact, interactive, fixed, interact_manual, Layout\n",
    "from ipywidgets.widgets.interaction import show_inline_matplotlib_plots\n",
    "from IPython.display import display, clear_output\n",
    "import ipywidgets as widgets\n",
    "\n",
    "tom = tomorrow.date()\n",
    "\n",
    "day_picked = widgets.DatePicker(\n",
    "    description='Pick a Date',\n",
    "    disabled=False,\n",
    "    value = tom\n",
    ")\n",
    "\n",
    "def f(daypicked):\n",
    "    print('Date Chosen: {}'.format(daypicked))\n",
    "\n",
    "out1 = widgets.interactive_output(f, {'daypicked': day_picked})\n",
    "\n",
    "widgets.HBox([widgets.VBox([day_picked]), out1])\n"
   ]
  },
  {
   "cell_type": "code",
   "execution_count": 17,
   "id": "c871a34f",
   "metadata": {},
   "outputs": [
    {
     "data": {
      "application/vnd.jupyter.widget-view+json": {
       "model_id": "6ee4fad781a24df789fee575cd7a2dab",
       "version_major": 2,
       "version_minor": 0
      },
      "text/plain": [
       "Button(description='View Predictions', style=ButtonStyle())"
      ]
     },
     "metadata": {},
     "output_type": "display_data"
    },
    {
     "data": {
      "application/vnd.jupyter.widget-view+json": {
       "model_id": "448c8e6d62d94de7a10d71d15c1bcc57",
       "version_major": 2,
       "version_minor": 0
      },
      "text/plain": [
       "Output()"
      ]
     },
     "metadata": {},
     "output_type": "display_data"
    }
   ],
   "source": [
    "# Demand per hour on a day user has chosen with pre-supplied average temps\n",
    "# Negative numbers can be assumed to = 0 bikes rented for that hour\n",
    "from IPython.display import display\n",
    "\n",
    "daypicked = day_picked.value\n",
    "\n",
    "button1 = widgets.Button(description=\"View Predictions\")\n",
    "output1 = widgets.Output()\n",
    "\n",
    "display(button1, output1)\n",
    "\n",
    "def on_button_clicked1(b):\n",
    "    with output1:\n",
    "        clear_output()\n",
    "        daypicked = day_picked.value\n",
    "        get_day_prediction(daypicked)\n",
    "        show_inline_matplotlib_plots()\n",
    "\n",
    "button1.on_click(on_button_clicked1)\n"
   ]
  },
  {
   "cell_type": "code",
   "execution_count": 18,
   "id": "fa19d213",
   "metadata": {},
   "outputs": [
    {
     "data": {
      "application/vnd.jupyter.widget-view+json": {
       "model_id": "e3486a2b21f24b81a53720d7245f1d0b",
       "version_major": 2,
       "version_minor": 0
      },
      "text/plain": [
       "HBox(children=(VBox(children=(Dropdown(description='Pick an Hour:', index=12, options=('0', '1', '2', '3', '4'…"
      ]
     },
     "metadata": {},
     "output_type": "display_data"
    }
   ],
   "source": [
    "# Allow the user to pick an hour to adjust the temperature settings for \n",
    "hr_picked = widgets.Dropdown(\n",
    "    options=['0','1', '2', '3', '4', '5', '6', '7', '8', '9', '10', '11', '12', '13', '14', '15', '16', '17', '18', '19', '20', '21', '22', '23'],\n",
    "    value='12',\n",
    "    description='Pick an Hour:',\n",
    "    disabled=False,\n",
    ")\n",
    "\n",
    "def h(hrpicked):\n",
    "    print('Hour Chosen: {}'.format(hrpicked))\n",
    "\n",
    "out2 = widgets.interactive_output(h, {'hrpicked': hr_picked})\n",
    "\n",
    "widgets.HBox([widgets.VBox([hr_picked]), out2])"
   ]
  },
  {
   "cell_type": "code",
   "execution_count": 19,
   "id": "2c5de2e5",
   "metadata": {},
   "outputs": [
    {
     "name": "stdout",
     "output_type": "stream",
     "text": [
      "12\n",
      "0.7\n"
     ]
    }
   ],
   "source": [
    "hrpicked = int(hr_picked.value)\n",
    "print(hrpicked)\n",
    "\n",
    "tmpvl = user_out[\"temp\"].iloc[hrpicked]\n",
    "    \n",
    "print(tmpvl)"
   ]
  },
  {
   "cell_type": "code",
   "execution_count": 20,
   "id": "3ba251ec",
   "metadata": {},
   "outputs": [
    {
     "data": {
      "application/vnd.jupyter.widget-view+json": {
       "model_id": "94520c2ec3c643919f61c06e6f9a1804",
       "version_major": 2,
       "version_minor": 0
      },
      "text/plain": [
       "HBox(children=(VBox(children=(FloatSlider(value=0.7, continuous_update=False, description='Temp Celsius', max=…"
      ]
     },
     "metadata": {},
     "output_type": "display_data"
    }
   ],
   "source": [
    "# Allow the user to adjust the temperature to see how changes in temperature affect bike availability \n",
    "temp_picked = widgets.FloatSlider(\n",
    "    value=tmpvl,\n",
    "    min=0.0,\n",
    "    max=1.0,\n",
    "    step=0.1,\n",
    "    description='Temp Celsius',\n",
    "    disabled=False,\n",
    "    continuous_update=False,\n",
    "    orientation='horizontal',\n",
    "    readout=True,\n",
    "    readout_format='.1f',\n",
    ")\n",
    "\n",
    "def t(tmppicked):\n",
    "    print('Temperature Chosen: {}'.format(tmppicked))\n",
    "\n",
    "out3 = widgets.interactive_output(t, {'tmppicked': temp_picked})\n",
    "\n",
    "widgets.HBox([widgets.VBox([temp_picked]), out3])\n",
    "\n",
    "\n"
   ]
  },
  {
   "cell_type": "code",
   "execution_count": 21,
   "id": "972c1759",
   "metadata": {},
   "outputs": [
    {
     "data": {
      "application/vnd.jupyter.widget-view+json": {
       "model_id": "540da20726e9483e9fa1e0a506c499d5",
       "version_major": 2,
       "version_minor": 0
      },
      "text/plain": [
       "Button(description='View Predictions', style=ButtonStyle())"
      ]
     },
     "metadata": {},
     "output_type": "display_data"
    },
    {
     "data": {
      "application/vnd.jupyter.widget-view+json": {
       "model_id": "458b544c7b3245899f5f9288844d4a6b",
       "version_major": 2,
       "version_minor": 0
      },
      "text/plain": [
       "Output()"
      ]
     },
     "metadata": {},
     "output_type": "display_data"
    }
   ],
   "source": [
    "# View how a specific temperature affects bike availability for every hour during day \n",
    "button2 = widgets.Button(description=\"View Predictions\")\n",
    "output2 = widgets.Output()\n",
    "\n",
    "display(button2, output2)\n",
    "\n",
    "def on_button_clicked2(b):\n",
    "    with output2:\n",
    "        clear_output()\n",
    "        daypicked = day_picked.value\n",
    "        temppicked = temp_picked.value\n",
    "        get_tmp_prediction(daypicked, temppicked)\n",
    "        show_inline_matplotlib_plots()\n",
    "\n",
    "button2.on_click(on_button_clicked2)\n"
   ]
  },
  {
   "cell_type": "code",
   "execution_count": 22,
   "id": "e77a01a5",
   "metadata": {},
   "outputs": [
    {
     "data": {
      "application/vnd.jupyter.widget-view+json": {
       "model_id": "c91e72b34861485692575236b553a7af",
       "version_major": 2,
       "version_minor": 0
      },
      "text/plain": [
       "Button(description='View Predictions', style=ButtonStyle())"
      ]
     },
     "metadata": {},
     "output_type": "display_data"
    },
    {
     "data": {
      "application/vnd.jupyter.widget-view+json": {
       "model_id": "6eb42857bf854f0d95f165ff96d28a70",
       "version_major": 2,
       "version_minor": 0
      },
      "text/plain": [
       "Output()"
      ]
     },
     "metadata": {},
     "output_type": "display_data"
    }
   ],
   "source": [
    "# View how the bike availability at a specfic hour changes as the temperature changes \n",
    "button3 = widgets.Button(description=\"View Predictions\")\n",
    "out3 = widgets.Output()\n",
    "\n",
    "display(button3, out3)\n",
    "\n",
    "def on_button_clicked3(b):\n",
    "    with out3:\n",
    "        clear_output()\n",
    "        hrpicked = int(hr_picked.value)\n",
    "        daypicked = day_picked.value\n",
    "        get_hr_prediction(daypicked, hrpicked)\n",
    "        show_inline_matplotlib_plots()\n",
    "\n",
    "button3.on_click(on_button_clicked3)\n"
   ]
  }
 ],
 "metadata": {
  "celltoolbar": "Initialization Cell",
  "kernelspec": {
   "display_name": "Python 3",
   "language": "python",
   "name": "python3"
  },
  "language_info": {
   "codemirror_mode": {
    "name": "ipython",
    "version": 3
   },
   "file_extension": ".py",
   "mimetype": "text/x-python",
   "name": "python",
   "nbconvert_exporter": "python",
   "pygments_lexer": "ipython3",
   "version": "3.8.8"
  },
  "widgets": {
   "application/vnd.jupyter.widget-state+json": {
    "state": {
     "017d9c5bf7fe47ee9b541fa75c430096": {
      "model_module": "@jupyter-widgets/controls",
      "model_module_version": "1.5.0",
      "model_name": "ButtonStyleModel",
      "state": {}
     },
     "022c4ccb56fa40b98e245d8d43f15912": {
      "model_module": "@jupyter-widgets/controls",
      "model_module_version": "1.5.0",
      "model_name": "ButtonStyleModel",
      "state": {}
     },
     "02e6be1530ca44e1affa207b095c2617": {
      "model_module": "@jupyter-widgets/controls",
      "model_module_version": "1.5.0",
      "model_name": "FloatSliderModel",
      "state": {
       "continuous_update": false,
       "description": "Temp Celsius",
       "layout": "IPY_MODEL_7cc2d138d3ce4e45af9f3120d1ccfbd9",
       "max": 1,
       "readout_format": ".1f",
       "step": 0.1,
       "style": "IPY_MODEL_f702fc64bf5f4253a25f70fa6762a182",
       "value": 0.7
      }
     },
     "0372bc09ce8c468db383160e3b8fbcbd": {
      "model_module": "@jupyter-widgets/controls",
      "model_module_version": "1.5.0",
      "model_name": "SliderStyleModel",
      "state": {
       "description_width": ""
      }
     },
     "05416f2f32dd4eb791e3577f3d639c86": {
      "model_module": "@jupyter-widgets/base",
      "model_module_version": "1.2.0",
      "model_name": "LayoutModel",
      "state": {}
     },
     "05c99374bad44beca437d0cdf4cf14c5": {
      "model_module": "@jupyter-widgets/base",
      "model_module_version": "1.2.0",
      "model_name": "LayoutModel",
      "state": {}
     },
     "069432d19d664b2997dd03b56953bff8": {
      "model_module": "@jupyter-widgets/controls",
      "model_module_version": "1.5.0",
      "model_name": "DescriptionStyleModel",
      "state": {
       "description_width": ""
      }
     },
     "0761ffb3e2e24a64accafe7fe48229ab": {
      "model_module": "@jupyter-widgets/base",
      "model_module_version": "1.2.0",
      "model_name": "LayoutModel",
      "state": {}
     },
     "077c125bae8e49a0b71565880c42b1b5": {
      "model_module": "@jupyter-widgets/base",
      "model_module_version": "1.2.0",
      "model_name": "LayoutModel",
      "state": {}
     },
     "07b72f81ae0644368eb99de7bf3fda2e": {
      "model_module": "@jupyter-widgets/controls",
      "model_module_version": "1.5.0",
      "model_name": "DatePickerModel",
      "state": {
       "description": "Pick a Date",
       "disabled": false,
       "layout": "IPY_MODEL_e4937943674b488a8e5d8b44b3542255",
       "style": "IPY_MODEL_c22556396cbf4fa8b586569b279f8ea1",
       "value": {
        "date": 9,
        "month": 8,
        "year": 2021
       }
      }
     },
     "0954a751f38e40a7b4eed102de4f5091": {
      "model_module": "@jupyter-widgets/base",
      "model_module_version": "1.2.0",
      "model_name": "LayoutModel",
      "state": {}
     },
     "0a0b4219c1b5472a93bb02253b11c93c": {
      "model_module": "@jupyter-widgets/base",
      "model_module_version": "1.2.0",
      "model_name": "LayoutModel",
      "state": {}
     },
     "0b02484d26c34a7080ff5cbd541562a1": {
      "model_module": "@jupyter-widgets/controls",
      "model_module_version": "1.5.0",
      "model_name": "DatePickerModel",
      "state": {
       "description": "Pick a Date",
       "disabled": false,
       "layout": "IPY_MODEL_707a349c4e724023b219de2e49ddd5fc",
       "style": "IPY_MODEL_331c8db6d7c2471f80f819e15c19cb64",
       "value": {
        "date": 10,
        "month": 8,
        "year": 2021
       }
      }
     },
     "0bab12f5e7da4639b9fdec72f599dada": {
      "model_module": "@jupyter-widgets/base",
      "model_module_version": "1.2.0",
      "model_name": "LayoutModel",
      "state": {}
     },
     "0bc9199b8ccb4786940fb29bace4bc9f": {
      "model_module": "@jupyter-widgets/controls",
      "model_module_version": "1.5.0",
      "model_name": "DatePickerModel",
      "state": {
       "description": "Pick a Date",
       "disabled": false,
       "layout": "IPY_MODEL_5a3da26adfdd4a01b97a0532e85bd18d",
       "style": "IPY_MODEL_069432d19d664b2997dd03b56953bff8",
       "value": {
        "date": 10,
        "month": 8,
        "year": 2021
       }
      }
     },
     "0bda46236ac84b6883b722e2fcb88b38": {
      "model_module": "@jupyter-widgets/controls",
      "model_module_version": "1.5.0",
      "model_name": "SliderStyleModel",
      "state": {
       "description_width": ""
      }
     },
     "0c86e446bfb1478e9675e151feecabbf": {
      "model_module": "@jupyter-widgets/controls",
      "model_module_version": "1.5.0",
      "model_name": "DropdownModel",
      "state": {
       "_options_labels": [
        "0",
        "1",
        "2",
        "3",
        "4",
        "5",
        "6",
        "7",
        "8",
        "9",
        "10",
        "11",
        "12",
        "13",
        "14",
        "15",
        "16",
        "17",
        "18",
        "19",
        "20",
        "21",
        "22",
        "23"
       ],
       "description": "Pick an Hour:",
       "index": 12,
       "layout": "IPY_MODEL_6848731cff4b480791a6ceef6ce652c7",
       "style": "IPY_MODEL_54e0626cf7b94f4a97f24ba1d3823ad1"
      }
     },
     "0caf4f01f4f140348e2bebd12501704f": {
      "model_module": "@jupyter-widgets/base",
      "model_module_version": "1.2.0",
      "model_name": "LayoutModel",
      "state": {}
     },
     "0d0da28d34c04d86acd934648e23c054": {
      "model_module": "@jupyter-widgets/controls",
      "model_module_version": "1.5.0",
      "model_name": "ButtonStyleModel",
      "state": {}
     },
     "0dfda36c5fca40c5931b669729ff60a5": {
      "model_module": "@jupyter-widgets/output",
      "model_module_version": "1.0.0",
      "model_name": "OutputModel",
      "state": {
       "layout": "IPY_MODEL_f82503cebca44bc594af0aa41fda0698",
       "outputs": [
        {
         "name": "stdout",
         "output_type": "stream",
         "text": "   mnth weekday  temp  season workingday holiday  hr  bikes_rented\n0   Sep     Thu   0.7  summer        yes      no   0    140.156250\n1   Sep     Thu   0.7  summer        yes      no   1    117.390625\n2   Sep     Thu   0.7  summer        yes      no   2    110.531250\n3   Sep     Thu   0.7  summer        yes      no   3     99.500000\n4   Sep     Thu   0.7  summer        yes      no   4     97.000000\n5   Sep     Thu   0.7  summer        yes      no   5    112.671875\n6   Sep     Thu   0.7  summer        yes      no   6    172.218750\n7   Sep     Thu   0.7  summer        yes      no   7    308.390625\n8   Sep     Thu   0.7  summer        yes      no   8    454.046875\n9   Sep     Thu   0.7  summer        yes      no   9    297.906250\n10  Sep     Thu   0.7  summer        yes      no  10    246.421875\n11  Sep     Thu   0.7  summer        yes      no  11    276.328125\n12  Sep     Thu   0.7  summer        yes      no  12    315.890625\n13  Sep     Thu   0.7  summer        yes      no  13    309.859375\n14  Sep     Thu   0.7  summer        yes      no  14    292.421875\n15  Sep     Thu   0.7  summer        yes      no  15    306.796875\n16  Sep     Thu   0.7  summer        yes      no  16    366.515625\n17  Sep     Thu   0.7  summer        yes      no  17    515.625000\n18  Sep     Thu   0.7  summer        yes      no  18    490.093750\n19  Sep     Thu   0.7  summer        yes      no  19    378.531250\n20  Sep     Thu   0.7  summer        yes      no  20    293.671875\n21  Sep     Thu   0.7  summer        yes      no  21    245.187500\n22  Sep     Thu   0.7  summer        yes      no  22    210.609375\n23  Sep     Thu   0.7  summer        yes      no  23    169.687500\n"
        },
        {
         "data": {
          "image/png": "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\n",
          "text/plain": "<Figure size 864x432 with 1 Axes>"
         },
         "metadata": {},
         "output_type": "display_data"
        }
       ]
      }
     },
     "0e9380bc799440bca9a464afed19c48b": {
      "model_module": "@jupyter-widgets/base",
      "model_module_version": "1.2.0",
      "model_name": "LayoutModel",
      "state": {}
     },
     "0ed5deadcd964ed99245dd336884f9e3": {
      "model_module": "@jupyter-widgets/base",
      "model_module_version": "1.2.0",
      "model_name": "LayoutModel",
      "state": {}
     },
     "0f9b32e651f847d1aee513d138f9e81d": {
      "model_module": "@jupyter-widgets/controls",
      "model_module_version": "1.5.0",
      "model_name": "DropdownModel",
      "state": {
       "_options_labels": [
        "0",
        "1",
        "2",
        "3",
        "4",
        "5",
        "6",
        "7",
        "8",
        "9",
        "10",
        "11",
        "12",
        "13",
        "14",
        "15",
        "16",
        "17",
        "18",
        "19",
        "20",
        "21",
        "22",
        "23"
       ],
       "description": "Pick an Hour:",
       "index": 12,
       "layout": "IPY_MODEL_48a1b2e7a1044c23bcba99a5e6f49d83",
       "style": "IPY_MODEL_e83b1cc167124a37b2aad374d9018ab0"
      }
     },
     "0fe67b1fe3df4a0da88aaa5a3bcf4755": {
      "model_module": "@jupyter-widgets/base",
      "model_module_version": "1.2.0",
      "model_name": "LayoutModel",
      "state": {}
     },
     "1003d920b3d0458eb942ffc90fd50268": {
      "model_module": "@jupyter-widgets/output",
      "model_module_version": "1.0.0",
      "model_name": "OutputModel",
      "state": {
       "layout": "IPY_MODEL_e9484ccda0754bf4801af4ef183b36d7",
       "outputs": [
        {
         "name": "stdout",
         "output_type": "stream",
         "text": "Temperature Chosen: 0.7\n"
        }
       ]
      }
     },
     "114ed65ac9e747ba91781e424e6cb184": {
      "model_module": "@jupyter-widgets/base",
      "model_module_version": "1.2.0",
      "model_name": "LayoutModel",
      "state": {}
     },
     "12a092ee69d74de1b6396cb0b50243bb": {
      "model_module": "@jupyter-widgets/base",
      "model_module_version": "1.2.0",
      "model_name": "LayoutModel",
      "state": {}
     },
     "13234617a34a42afb7c90935cdb1ad44": {
      "model_module": "@jupyter-widgets/output",
      "model_module_version": "1.0.0",
      "model_name": "OutputModel",
      "state": {
       "layout": "IPY_MODEL_16b59b68521e4bbd99d9b72c47134f4c",
       "outputs": [
        {
         "name": "stdout",
         "output_type": "stream",
         "text": "Hour Chosen: 12\n"
        }
       ]
      }
     },
     "15542c37d02a4995aa4dea225f9eceed": {
      "model_module": "@jupyter-widgets/base",
      "model_module_version": "1.2.0",
      "model_name": "LayoutModel",
      "state": {}
     },
     "1589bbdb00b74804aa0032d3d38ba394": {
      "model_module": "@jupyter-widgets/base",
      "model_module_version": "1.2.0",
      "model_name": "LayoutModel",
      "state": {}
     },
     "16b59b68521e4bbd99d9b72c47134f4c": {
      "model_module": "@jupyter-widgets/base",
      "model_module_version": "1.2.0",
      "model_name": "LayoutModel",
      "state": {}
     },
     "1710a1a426c44b5fb9abc033bc574892": {
      "model_module": "@jupyter-widgets/output",
      "model_module_version": "1.0.0",
      "model_name": "OutputModel",
      "state": {
       "layout": "IPY_MODEL_60305997bfa94b479540455b1d45d81a",
       "outputs": [
        {
         "name": "stdout",
         "output_type": "stream",
         "text": "   mnth weekday  hr  temp  bikes_rented\n12  Sep     Fri  12   0.0    104.300781\n12  Sep     Fri  12   0.2    165.832031\n12  Sep     Fri  12   0.4    227.363281\n12  Sep     Fri  12   0.6    288.894531\n12  Sep     Fri  12   0.8    350.433594\n12  Sep     Fri  12   1.0    411.964844\n"
        },
        {
         "data": {
          "image/png": "iVBORw0KGgoAAAANSUhEUgAABJkAAAJjCAYAAACvE8BuAAAAOXRFWHRTb2Z0d2FyZQBNYXRwbG90bGliIHZlcnNpb24zLjMuNCwgaHR0cHM6Ly9tYXRwbG90bGliLm9yZy8QVMy6AAAACXBIWXMAAAsTAAALEwEAmpwYAABr40lEQVR4nOzdeXjV5YG///s5ELaEPSCbCKKIOyrixuYGCCqogFtdK27QxU5b7T6dTqe1007bX8tYdXQ6djodAogLIWyKQEDBDRQREcUFA7JvYUs4z++PdPjWInowJJ/k5H5dV68Lzkly3qftI+T2c05CjDEiSZIkSZIkVUIq6QGSJEmSJEmq/YxMkiRJkiRJqjQjkyRJkiRJkirNyCRJkiRJkqRKMzJJkiRJkiSp0oxMkiRJkiRJqjQjkyRJkiRJkirNyCRJkvQ3br75Zi666KJPvS+EwH//939X86LP9tOf/pS+ffvSrFkzQgisXr36E/dv2bKFr3/965x44onk5ubSrl07rrrqKpYvX57QYkmSlK2MTJIkSTXM3r17M/7YPXv2cPnll/O9733vU+9fs2YNq1at4p/+6Z945ZVXmDJlCjt27OCCCy5g8+bNh2uyJEmSkUmSJOmLWrNmDddccw0tWrSgcePGDBgwgJdeemn//c8999ynXl1Uv359/vjHPwLw3nvvEULgz3/+M0OGDCE3N5fvfve7GW/4p3/6J771rW9x1llnfer9xx9/PE8++SRXXXUVxx13HL169eJ//ud/WLNmDcXFxYf+pCVJkg7CyCRJkvQFxBgZPnw4y5cvZ8qUKSxatIgjjjiCiy++mA0bNhzy17v33nu57rrreP311xkzZsz++PR/Mepw2rp1KwD5+fmH/WtLkqS6q37SAyRJkmqa5557jry8vM/8mGeffZZFixbxxhtvcMIJJwDw2GOP0aVLF/793/+dH/7wh4f0mHfccQdf+tKX9v/+o48+4rjjjqN58+aH/gQ+w759+7j77rs588wzD3r1kyRJ0hdhZJIkSfo7Z511Fv/1X/91wO3HHnvs/l+/8cYbtG7den9gAmjYsCFnnXUWb7zxxiE/Zu/evT/x+44dOx72N+fet28fN954IytWrGDu3LmkUl7ULkmSDh8jkyRJ0t9p3LgxxxxzzOd+XAjhgNtijPtv/7+IE2Pcf/++fftIp9MHfF5ubu4XnZuRvXv3cu2117JkyRKee+45OnXqVKWPJ0mS6h7/9ZUkSdIXcOKJJ7JhwwaWLVu2/7Y9e/awaNEiTjzxRADatm0LQElJyf6PWbx48SeiU3XYuXMnl19+OcuWLWPu3Ll07ty5Wh9fkiTVDUYmSZKkL+CCCy6gd+/eXHfddcyfP5+lS5dy4403snv3bu666y4AjjnmGI466ij+8R//keXLl1NcXMw999zzqVdA/b2PPvqIHj16MHny5M/8uA8++IDFixezcuVKAJYtW8bixYvZtGkTANu3b2fQoEG89dZbjB8/nlQqxdq1a1m7di27du2q5H8LkiRJ/4+RSZIk6QsIIfDEE0/Qo0cPhg4dyplnnsnatWuZOXPm/p/aVr9+fcaPH8+6des47bTTGDNmDD/96U8zei+ksrIy3nrrrf0/Ce5gfvjDH3LaaacxevRoAAYNGsRpp53GU089BcDLL79McXEx7733Hqeeeirt27ff/5/x48dX8r8FSZKk/yfE6r5eW5IkSZIkSVnHK5kkSZIkSZJUaUYmSZIkSZIkVZqRSZIkSZIkSZVmZJIkSZIkSVKlGZkkSZIkSZJUaUYmSZIkSZIkVVr9pAdUtZKSkqQnVFqHDh2y4nlIVc2zImXGsyJlxrMiZcazImUmm85Khw4dPvV2r2SSJEmSJElSpRmZJEmSJEmSVGlGJkmSJEmSJFWakUmSJEmSJEmVZmSSJEmSJElSpRmZJEmSJEmSVGlGJkmSJEmSJFWakUmSJEmSJEmVZmSSJEmSJElSpRmZJEmSJEmSVGlGJkmSJEmSJFWakUmSJEmSJEmVZmSSJEmSJElSpRmZJEmSJEmSVGlGJkmSJEmSJFWakUmSJEmSJEmVZmSSJEmSJElSpRmZJEmSJEmSVGlGJkmSJEmSJFWakUmSJEmSJEmVZmSSJEmSJElSpdVPeoAkSZIkSVI2i++vZPf6EmjTIekpVcrIJEmSJEmSVAXiO8tJTxkPS19ma4+T4R9+mvSkKmVkkiRJkiRJOkxijLBiaUVcWv4a5DUjXHEDba77Mmu3bEt6XpUyMkmSJEmSJFVSjBHeeJV0YQGsXAbNWxJG3kroP5jQsBGpJnlgZJIkSZIkSdKniTHCay9WxKVVK6BVPuG6OwjnXURo0DDpedXKyCRJkiRJknSIYjoNrz5PekoBrF4F+UcQbhhDOPcCQv2cpOclwsgkSZIkSZKUobhvH/GlYmJhAaz5EI7oSLjl64Te/Qj163ZmqdvPXpIkSZIkKQOxvJy48Dni1Amwbg106EwY/U1Cr/MIqXpJz6sRjEySJEmSJEkHEcvKiPNnEadNgo3roPPRpO76DvQ8i5BKJT2vRjEySZIkSZIk/Z24Zw+xeAZx2uOwZSN07U7qujvg5F6EEJKeVyMZmSRJkiRJkv4q7t5FnFNEnD4Ztm+F7ieSuuVrcPypxqXPYWSSJEmSJEl1XtxZSpxdSJz1JOzYDif0JDV0FKH7SUlPqzWMTJIkSZIkqc6KpduJs54iPjMFdpXCKWdWxKWjj0t6Wq1jZJIkSZIkSXVO3LaFOOMJ4nNFsGcXnH5ORVzq3C3pabWWkUmSJEmSJNUZcfNG4ozJxLnToKyccGYfwpBRhI6dk55W6xmZJEmSJElS1osb1xGnTSIWz4R0mnD2+YRLRhDadUx6WtYwMkmSJEmSpKwV15UQp04kvjAbCITzLiQMvorQpl3S07JOtUemCRMmMGHCBH75y1/SuXNnSkpKGDduHDt27CAvL4+xY8fSvn17gM+8T5IkSZIk6WDimg+JUycQF86F+vUJ/S8hDLqC0KpN0tOyVrVGpnfffZe3336b/Pz8/bc9/PDDDBo0iH79+jF37lweeughfvSjH33ufZIkSZIkSX8vrl5FnFJAfGUB5DQgXDyMMHA4oXnLpKdlvVR1PVBZWRmPPPIIt912GyEEALZu3cqqVavo06cPAH369GHVqlVs27btM++TJEmSJEn6W/G9t9k37qekf/w14huvEC4ZQernj5AaeYuBqZpU25VM48ePp2/fvrRt23b/bRs3bqRVq1akUhWtK5VK0bJlSzZs2ABw0PuaNWv2ia9dWlpKaWnpAY/5t48lSZIkSZKyT1z5JunC8bD0FWiSR7j8OsIFlxJy85KeVudUS2RasWIF77zzDtdff32VfP3CwkImTpx4wO0FBQV06NChSh6zumXL85CqmmdFyoxnRcqMZ0XKjGdF1S3GyJ7XXmbb//4He157iVSzFjS9aSx5l44g1aTmxqVsPyvVEpmWLVtGSUkJY8eOBSquYPrpT3/KTTfdxKZNm0in06RSKdLpNJs3byY/P58Y40Hv+3tDhw5lwIABn/rYJSUlVfnUqkWHDh2y4nlIVc2zImXGsyJlxrMiZcazouoUY4Q3XiFdWAAr34TmrQijvgz9BrGjYSN2bNkGW2rm2+xk01k5WCyrlsg0fPhwhg8fvv/3Y8aM4d5776Vz587MmDGD4uJi+vXrR3FxMV27dt3/crguXboc9L6/lZubS25ubnU8FUmSJEmSVM1ijLBkUUVceu9taJVPuO4OQp+LCTkNkp6nv6rWny73aUaPHs24ceOYNGkSubm5+692+rz7JEmSJElSdovpNLyyoCIurX4P2rQj3DiWcM75hPo5Sc/T3wkxxpj0iKqUDZeiZdMldVJV8qxImfGsSJnxrEiZ8ayoKsR9+4gvziNOnQBrPoR2HQlDRhF69yPUq5f0vC8km85Koi+XkyRJkiRJ+jyxvJz4wmxi0URYtwY6HkW4/VuEM84lpGpnXKpLjEySJEmSJClRsayMOH8Wcdok2LgOOncjdfd34dTehFQq6XnKkJFJkiRJkiQlIu7ZQ5w3nTj9cdiyCY4+jtT1d8JJZxBCSHqeDpGRSZIkSZIkVau4eyfxuSLijCdg+1bofhKpW++BHqcYl2oxI5MkSZIkSaoWcecO4rOFxFlPQel2OOE0UkNHEbqfmPQ0HQZGJkmSJEmSVKXijm3EWU8Rn50Cu3bCqb1JDRlJOPq4pKfpMDIySZIkSZKkKhG3bSbOeIL4XBHs2Q2nn1tx5VLno5OepipgZJIkSZIkSYdV3LyROP1x4rzpUFZOOLMvYchIQsfOSU9TFTIySZIkSZKkwyJuXEcsmkicPwtiJJw9gDB4BKFdx6SnqRoYmSRJkiRJUqXEdSXEqROILzwHBMJ5FxEuuYqQf0TS01SNjEySJEmSJOkLiWs+JBYWEBfNg/r1CQOGEAZeQWiVn/Q0JcDIJEmSJEmSDkn8cBXpwvHwyvPQoCHh4mGEgcMJzVsmPU0JMjJJkiRJkqSMxFVvV8SlJYugcRPCJSMJF11OaNos6WmqAYxMkiRJkiTpM8WVy0hPGQ9vvApN8gjDriNccCmhSV7S01SDGJkkSZIkSdIBYoyw/DXShQXw1uvQtDnhypsI519CaNQk6XmqgYxMkiRJkiRpvxgjvPFKxZVL7yyH5q0IV3+Z0HcQoWGjpOepBjMySZIkSZIkYjoNry0iPaUA3l8JrfIJ191J6HMRIadB0vNUCxiZJEmSJEmqw2J6H/Hl54lTC2D1e9CmHeHGsYRzzifUz0l6nmoRI5MkSZIkSXVQ3LeP+OJcYuEEWLsa2nUk3HoPoXc/Qr16Sc9TLWRkkiRJkiSpDonlZcTnZxOLJsL6tdDxKMLt3yaccQ4hZVzSF2dkkiRJkiSpDohle4nzZxGLJsGm9XDUMaTGfBdO6U1IpZKepyxgZJIkSZIkKYvFPXuI86YRp0+GLZugWw9SX7obTjqdEELS85RFjEySJEmSJGWhuHsncXYRceYTsH0rHHcyqVvvgR6nGJdUJYxMkiRJkiRlkbhzB/HZKcRZT0PpdjjxNFJDryYce0LS05TljEySJEmSJGWBuH0bcdZTxNlTYNdOOLU3qaGjCF27Jz1NdYSRSZIkSZKkWixu3Uyc8QRxThHs3QOnn0NqyChC56OTnqY6xsgkSZIkSVItFDdvJE5/nDh3OpSXE3r3JQwZSejQOelpqqOMTJIkSZIk1SJxw8fEoknEBbMgRsLZ5xMuGUE4okPS01THGZkkSZIkSaoF4sclxKIJxBeegxAI511EGHwVIf+IpKdJgJFJkiRJkqQaLZZ8QCycQHxxHtSvTxgwhDDwCkKr/KSnSZ9gZJIkSZIkqQaKH7xLurAAXn0eGjQkDBxGGDic0Kxl0tOkT2VkkiRJkiSpBomrVlTEpSWLoHGTijfzvvByQtNmSU+TPpORSZIkSZKkGiC+vYz0lPGw7FXIbUoYdj3hgqGEJnlJT5MyYmSSJEmSJCkhMUZY/lpFXFqxFJo2J1x1E2HAJYRGTZKeJx0SI5MkSZIkSdUsxghLXyFdOB7eWQ4tWhGuvo3QdxChYcOk50lfiJFJkiRJkqRqEtNpWLKo4j2X3l8JrdoQrr+TcN5FhJwGSc+TKsXIJEmSJElSFYvpfcSXFxALC+Cj96FNO8JNXyGcPYBQPyfpedJhYWSSJEmSJKmKxH37iIvmEqdOgLWroV0nwpfvIZzZj1CvXtLzpMPKyCRJkiRJ0mEWy8uIz88mFk2E9WuhUxdSd3wbTj+HkDIuKTsZmSRJkiRJOkxi2V5i8SzitEmwaT0cdQypMd+DU84kpFJJz5OqlJFJkiRJkqRKinv2EOdOI06fDFs3QbcepG64G048nRBC0vOkamFkkiRJkiTpC4q7dxJnTyXOfBK2b4XjTiZ12zfguJONS6pzjEySJEmSJB2iWLqD+OwU4qynYOcOOOl0UkNHEY45IelpUmKMTJIkSZIkZShu30ac9SRxdiHs2gk9zyI1ZBSh67FJT5MSZ2SSJEmSJOlzxK2biTMmE58rgrK9hNPPJQwdRTiya9LTpBrDyCRJkiRJ0kHETRuI0x8nzpsB5eWEs/oRLhlB6NA56WlSjWNkkiRJkiTp78T1a4nTJhHnPwNEwtnnE4aMILTtkPQ0qcYyMkmSJEmS9Fdx7UfEoonEF2ZDKkXoezFh8FWE1m2TnibVeEYmSZIkSVKdFz/6gDi1gPhiMeTUJ1xwKWHgFYSWrZOeJtUaRiZJkiRJUp0VP3iHdGEBvPI8NGxEGDicMHAYoVnLpKdJtY6RSZIkSZJU58R336qIS6+9CI1zCZdeTbjwMkJes6SnSbWWkUmSJEmSVGfEFW+QLhwPyxZDblPCsOsJFwwlNMlLeppU6xmZJEmSJElZLcYIby6piEsr3oCmzQkjbib0v4TQqHHS86SsYWSSJEmSJGWlGCMsfZn0lPHw7lvQojXhmtGEPgMJDRsmPU/KOkYmSZIkSVJWiek0LF5Y8Z5LH7wDrdsSrr+LcN5FhJycpOdJWcvIJEmSJEnKCjG9j/jyAmJhAXz0PrRtT7j5q4SzBhDq++2vVNU8ZZIkSZKkWi3u20dcOIdYNAHWfgTtjyR8+RuEM/sS6tVLep5UZxiZJEmSJEm1UiwvIy54llg0ETZ8DJ26krrzXjjtHEIqlfQ8qc4xMkmSJEmSapVYtpdYPJM4bRJs2gBdjiV1zWg45UxCCEnPk+osI5MkSZIkqVaIe3YT50wjzpgMWzfDMceTumEsnHiacUmqAYxMkiRJkqQaLe7aSZxdSJz5JOzYBj1OITX6m9D9JOOSVIMYmSRJkiRJNVIs3UF85mniM0/Dzh1w0hmkho4iHHN80tMkfQojkyRJkiSpRonbtxJnPkmcXQi7d0HPs0kNHUnocmzS0yR9BiOTJEmSJKlGiFs2EWc+QXyuCMr2Es44jzB0JKFT16SnScqAkUmSJEmSlKi4aT1x2uPEeTMgvY/Quz9hyAhC+yOTnibpEBiZJEmSJEmJiOvXEosmEhc8C0TCORcQLhlBaNs+6WmSvgAjkyRJkiSpWsW1q4lTJxIXPgepFKHvQMLgKwmt2yY9TVIlGJkkSZIkSdUifvQ+sbCA+NJ8yKlPuOAywqDhhBatk54m6TAwMkmSJEmSqlT84B3SU8bDqy9Aw8aEQVcQLh5GaNYi6WmSDiMjkyRJkiSpSsR336qIS6+/BI1zCZdeQ7jwUkJes6SnSaoCRiZJkiRJ0mEVVyytiEtvLoG8poThXyKcP5TQJDfpaZKqULVFpl/84hesX7+eEAKNGjXi1ltvpUuXLowZM4acnBxycnIAuP766+nZsycAJSUljBs3jh07dpCXl8fYsWNp396fMiBJkiRJNU2MEd5cXBGX3l4GzVoQRtxC6D+Y0Khx0vMkVYNqi0xjx46lSZMmALz44os88MAD3H///QB84xvfoHPnzgd8zsMPP8ygQYPo168fc+fO5aGHHuJHP/pRdU2WJEmSJH2OGCPxtRcr4tKqFdCiNeGa0RU/Ma5Bw6TnSapG1RaZ/i8wAezcuZMQwmd+/NatW1m1ahU/+MEPAOjTpw+PPvoo27Zto1kzX78rSZIkSUmK6TQsfoGPZ0wm/c5b0Lot4Ut3E869kPDXV6pIqluq9T2Z/vCHP7BkyRIAvvvd7+6//Xe/+x0xRnr06MG1115Lbm4uGzdupFWrVqRSKQBSqRQtW7Zkw4YNB0Sm0tJSSktLD3i8tm3bVuGzkSRJkqS6J6b3EV+aT5w6AT56n1SHzoSbv0Y4qz+hvm/7K9Vl1fpPgDvvvBOAuXPn8t///d985zvf4cc//jH5+fmUlZXxxz/+kUceeYSvfvWrh/R1CwsLmThx4gG3FxQU0KFDh8OyPWnZ8jykquZZkTLjWZEy41mR/p9YXs7O56axreBRyj/6gPqdj6bZt/6ZJn0vJtSrl/Q8qVbI9j9XEsnM/fr148EHH2T79u3k5+cDkJOTw6BBg/a/T1Pr1q3ZtGkT6XSaVCpFOp1m8+bN+z/+bw0dOpQBAwZ86mOVlJRU2fOoLh06dMiK5yFVNc+KlBnPipQZz4pUIZaVEZ9/hlg0CTZ8DEd2JXXnfaRPO5utqRS59ep5VqQMZNOfKweLZdUSmXbv3s2OHTv2B6KXXnqJvLw8cnJy2LlzJ02aNCHGyPz58+nSpQsAzZs3p0uXLhQXF9OvXz+Ki4vp2rXrp74fU25uLrm5/ihMSZIkSTpc4t49xOKZxGmPw+YN0LU7qWtuh1N6fe577Eqqm6otMv36179m9+7dpFIp8vLyuPfee9m6dSu/+tWvSKfTpNNpOnXqxG233bb/80aPHs24ceOYNGkSubm5jB07tjrmSpIkSVKdFffsJs4pIs54ArZuhmNOIHXTV+CEnsYlSZ8pxBhj0iOqUjZcipZNl9RJVcmzImXGsyJlxrOiuibu2kmcXUic+STs2AbHn0pq6NWE4076zM/zrEiZyaazkujL5SRJkiRJNVMs3UF85iniM0/DzlI4uRepoaMI3XokPU1SLWNkkiRJkqQ6KG7fSpz5BHH2VNi9C3qeTerSUYSjjkl6mqRaysgkSZIkSXVI3LKJOGMycc40KNtL6NWHMGQEoVPXpKdJquWMTJIkSZJUB8RN64nTJhHnzYT0PkLv/oQhIwntOyU9TVKWMDJJkiRJUhaL69cSiyYSFzwLQDj3AsLgqwht2ye8TFK2MTJJkiRJUhaKa1cTp04gLpwDqXqEvgMr4lLrNklPk5SljEySJEmSlEXiR+8TCwuILxVDTg7hgssIg4YTWrROepqkLGdkkiRJkqQsEN9/h3TheHj1BWjYmDD4SsJFwwjNWiQ9TVIdYWSSJEmSpFosvrOcdGEBvP4SNM4lXHoN4aLLCLlNk54mqY4xMkmSJElSLRTfWlpx5dKbSyCvKWH4lwjnDyU0yU16mqQ6ysgkSZIkSbVEjBHeXEx6ynh4exk0a0EYcQuh/2BCo8ZJz5NUxxmZJEmSJKmGizHCay9VXLm0agW0aE245nZC34sJDRomPU+SACOTJEmSJNVYMZ2GxS9UvOfSB+9C67aEG+4mnHMhIScn6XmS9AlGJkmSJEmqYWJ6H/HFYuLUCVDyAbTtQLj5a4Sz+hPq+22cpJrJfzpJkiRJUg0Ry8uJC+dUxKV1JdD+SMJt/0A4sw8hVS/peZL0mYxMkiRJkpSwWFZGfP4ZYtEk2PAxHNmV1J33wWlnE1KppOdJUkaMTJIkSZKUkLh3D3HeTOL0x2HzBujandQ1t8MpvQghJD1Pkg6JkUmSJEmSqlncvYs4dxpxxhOwdTMccwKpm74CJ/Q0LkmqtYxMkiRJklRN4q6dxGenEGc9CTu2w/Gnkhr9LcJxJyU9TZIqzcgkSZIkSVUslm4nPvM08ZmnYWcpnNyL1NBRhG49kp4mSYeNkUmSJEmSqkjctoU460ni7KmwexecdnZFXDrqmKSnSdJhZ2SSJEmSpMMsbtlEnD6ZOLcIysoIvfoQhowkdOqS9DRJqjJGJkmSJEk6TOLG9cTpk4jzZkJ6H+Gs/hVxqV2npKdJUpUzMkmSJElSJcX1a4lFE4kLngUgnHsBYfBVhLbtE14mSdXHyCRJkiRJX1Bcs5pYNIG4cA6k6hH6DSQMuorQuk3S0ySp2hmZJEmSJOkQxdXvEadOIL5UDDkNCBdeRhg4nNCiddLTJCkxRiZJkiRJylB8fyXpKQWw+AVo2Jgw+ErCxcMJTZsnPU2SEmdkkiRJkqTPEd9ZTrqwAF5/CZrkEi67puLqpdymSU+TpBrDyCRJkiRJBxHfWkq6cDy8uQTymhKGf4lw/lBCk9ykp0lSjWNkkiRJkqS/EWOEZYsr4tLby6BZC8LIWwj9BhMaNU56niTVWEYmSZIkSeKvcem1lyri0qoV0KI14ZrbCX0vJjRomPQ8SarxjEySJEmS6rSYTsOrL1TEpQ9XQeu2hBvuJpxzISEnJ+l5klRrGJkkSZIk1UkxvY/4YjFx6gQo+QDadiDc8jVC7/6E+n6rJEmHyn9ySpIkSapTYnk5ceGciri0rgQ6dCbc9g+EM/sQUvWSnidJtZaRSZIkSVKdEMvKiAueIRZNhI3r4MiupO66D3qeTUilkp4nSbWekUmSJElSVot79xDnzSROfxw2b4Cu3Uldewec0osQQtLzJClrGJkkSZIkZaW4exdxzjTijMmwbQscewKpm78Cx/c0LklSFTAySZIkScoqcWcpcXYhcdaTsGM7HH8qqdu/TTjupKSnSVJWMzJJkiRJygqxdDtx1tPEZ5+GnaVwci9SQ0cRuvVIepok1QlGJkmSJEm1Wty2hTjzSeLsqbBnF5x2NqmhVxOO6pb0NEmqU4xMkiRJkmqluGUTcfpk4twiKCsj9OpDGDKS0KlL0tMkqU4yMkmSJEmqVeLG9cRpk4jFMyG9j3BW/4q41K5T0tMkqU4zMkmSJEmqFeK6NRVxacGzAIRzLyBcMoLQpl3CyyRJYGSSJEmSVMPFNauJUycQF82BVD1Cv4GEQVcRWrdJepok6W8YmSRJkiTVSHH1e8TCAuLL8yGnAeHCywgDryC0aJX0NEnSpzAySZIkSapR4vsrSU8pgMUvQMPGhMFXEi4eTmjaPOlpkqTPYGSSJEmSVCPEd5aTnjIelr4MTXIJl11TcfVSbtOkp0mSMmBkkiRJkpSYGCOsWEq6sADeXAJ5zQhX3EAYMITQJDfpeZKkQ2BkkiRJklTtYoywbHHFlUsrl0GzFoSRtxD6X0Jo2CjpeZKkL8DIJEmSJKnaxBjhtRcrrlxatQJa5hOuvZ3Q52JCg4ZJz5MkVYKRSZIkSVKVi+k0vPoC6cLx8OEqaN2WcMPdhHMuJOTkJD1PknQYGJkkSZIkVZmY3kd8sZhYWABrPoQjOhJu+Rqhd39Cfb8dkaRs4j/VJUmSJB12sbycuHAOceoEWFcCHToTRn+T0Os8Qqpe0vMkSVXAyCRJkiTpsIllZcQFzxCLJsLGddD5aFJ33Qc9zyakUknPkyRVISOTJEmSpEqLe/cQ580gTnsctmyErt1JXXcHnNyLEELS8yRJ1cDIJEmSJOkLi7t3EedMI86YDNu2wLEnkLrlq3B8T+OSJNUxRiZJkiRJhyzuLCXOLiTOehJ2bIfjTyV1x7cJ3U9KepokKSFGJkmSJEkZi6XbibOeJj77NOwshZN7kRo6itCtR9LTJEkJMzJJkiRJ+lxx2xbizCeJs6fCnl1w2tmkhl5NOKpb0tMkSTWEkUmSJEnSQcUtG4nTJxPnToOyMkKvPoShowgdj0p6miSphjEySZIkSTpA3LiOOO1xYvFMSO8jnDWAMGQEoV2npKdJkmooI5MkSZKk/eK6NcSiicTnnwUC4dwLCJeMILRpl/Q0SVINZ2SSJEmSRFyzmjh1AnHRHEjVI/QbTBh0JaF1m6SnSZJqCSOTJEmSVIfF1e8RCwuIL8+HnAaECy8jDLyC0KJV0tMkSbWMkUmSJEmqg+L7K0lPGQ+LF0KjxoTBVxEuHkZo2jzpaZKkWsrIJEmSJNUh8Z3lFXFp6cvQJJdw2TUVVy/lNk16miSpljMySZIkSVkuxggrllbEpeWvQV4zwhU3EM4fSmjcJOl5kqQsYWSSJEmSslSMEd54lXRhAaxcBs1aEEbeQuh/CaFho6TnSZKyjJFJkiRJyjIxRnjtxYq4tGoFtMwnXHs7oc/FhAYNk54nScpSRiZJkiQpS8R0Gl59nvSUAli9CvKPINwwhnDOBYScnKTnSZKynJFJkiRJquXivn3El4qJhQWw5kM4oiPhlq8Revcn1Pev/JKk6uGfOJIkSVItFcvLiQufI06dAOvWQIfOhNHfJPQ6j5Cql/Q8SVIdU22R6Re/+AXr168nhECjRo249dZb6dKlCyUlJYwbN44dO3aQl5fH2LFjad++PcBn3idJkiTVVbGsjLjgGWLRRNi4DjofTequ+6Dn2YRUKul5kqQ6qtoi09ixY2nSpOLHo7744os88MAD3H///Tz88MMMGjSIfv36MXfuXB566CF+9KMfAXzmfZIkSVJdE/fuIc6bQZz2OGzZCF27k7ruDji5FyGEpOdJkuq4avvXHP8XmAB27txJCIGtW7eyatUq+vTpA0CfPn1YtWoV27Zt+8z7/l5paSnr1q074D+SJElSNoi7d5Ge/jjp74wm/u/D0LYdqXv+idR3/pVwypkGJklSjVCt78n0hz/8gSVLlgDw3e9+l40bN9KqVStSf72kN5VK0bJlSzZs2ABw0PuaNWv2ia9bWFjIxIkTD3i8goICOnToUJVPqdpky/OQqppnRcqMZ0XKTNJnJV26gx1Pj2f7k/9D3LaVhj170+za22h00umJ7pL+XtJnRaotsv2sVGtkuvPOOwGYO3cu//3f/83VV199WL7u0KFDGTBgwKfeV1JSclgeI0kdOnTIiuchVTXPipQZz4qUmSTPSizdTpz1FPGZKbCrFE7uRWroKMq79WATgGdYNYh/rkiZyaazcrBYlshPl+vXrx8PPvggd911F5s2bSKdTpNKpUin02zevJn8/HxijAe97+/l5uaSm5ubwDORJEmSDp+4bQtxxhPE54pgzy447WxSQ68mHNUt6WmSJH2uaolMu3fvZseOHfsD0UsvvUReXh7NmzenS5cuFBcX069fP4qLi+natev+l8N91n2SJElStohbNhKnTybOnQZlZYRefQhDRxE6HpX0NEmSMlZtkenXv/41u3fvJpVKkZeXx7333ksIgdGjRzNu3DgmTZpEbm4uY8eO3f95n3WfJEmSVNvFjeuI0yYRi2dCOk04awBhyAhCu05JT5Mk6ZCFGGNMekRVyobXO2bT6zalquRZkTLjWZEyU5VnJa4rIRZNIj7/LBAI515AuGQEoU27Knk8qSr554qUmWw6KzXqPZkkSZKkuiiu+ZA4dQJx4VyoV4/QbzBh8JWEVm2SniZJUqUZmSRJkqQqFlevIk4pIL6yAHIaEC6+nHDxcEKLVklPkyTpsDEySZIkSVUkvvc26cICWLwQGjUmDL6KcPEwQtPmSU+TJOmwMzJJkiRJh1lc+SbpwvGw9BVokku47FrChZcRcvOSniZJUpUxMkmSJEmHQYwR3nq94sql5a9BXjPClTcSBgwhNG6S9DxJkqqckUmSJEmqhBgjvPFqxZVLK9+E5i0JI28l9B9MaNgo6XmSJFUbI5MkSZL0BcQYYcmiiiuX3nsbWuUTrruDcN5FhAYNk54nSVK1MzJJkiRJhyCm0/Dq86SnFMDqVZB/BOGGMYRzLyDUz0l6niRJiTEySZIkSRmI+/YRX5xHnDoB1nwIR3Qk3PJ1Qu9+hPr+tVqSJP80lCRJkj5DLC8nLnyuIi6tWwMdOhNGf5PQ6zxCql7S8yRJqjGMTJIkSdKniGV7ST9XRJw2CTaug85Hk7rrO9DzLEIqlfQ8SZJqHCOTJEmS9Dfinj3E4hmsmfkkceM66Nqd1HV3wMm9CCEkPU+SpBrLyCRJkiQBcfcu4pwi4vTJsH0r9U86nXjjWDj+VOOSJEkZMDJJkiSpTos7S4nPTiHOegpKt8MJPUkNHUXbAQMpKSlJep4kSbWGkUmSJEl1UtyxjTjrKeKzhbCrFE45k9SQkYRuPZKeJklSrWRkkiRJUp0St20hzniC+FwR7NkFp59DaugoQuduSU+TJKlWMzJJkiSpToibNxKnP06cNx3Kygln9iEMGUnoeFTS0yRJygpGJkmSJGW1uHEdcdokYvFMSKcJZ59PuGQEoV3HpKdJkpRVjEySJEnKSnFdCXHqROILs4FAOO9CwuCrCG3aJT1NkqSsZGSSJElSVolrPiROnUBcOBfq1yf0v4Qw6ApCqzZJT5MkKasZmSRJkpQV4upVxCkFxFcWQE4DwsWXEwZeQWjeMulpkiTVCUYmSZIk1WrxvbdJFxbA4oXQqHHF+y1ddDmhafOkp0mSVKcYmSRJklQrxZXLKuLS0legSS7hsmsJF15GyM1LepokSXWSkUmSJEm1RowR3nqd9JTx8NbrkNeMcOWNhAFDCI2bJD1PkqQ6zcgkSZKkGi/GCG+8UnHl0so3oXkrwqgvE/oNIjRslPQ8SZKEkUmSJEk1WIwRliyquHLp/ZXQKp9w3R2EPhcTchokPU+SJP2Ng0am3/3ud4QQPvcLjB079rAOkiRJkmI6Da8sqLhyafV70KYd4caxhHPOJ9TPSXqeJEn6FAeNTO3atdv/6+3btzNnzhzOOOMM8vPz2bBhAy+//DL9+/evlpGSJEmqG+K+fcQX5xKnToQ1H0K7joRbvk44qz+hXr2k50mSpM9w0Mg0cuTI/b/+6U9/yn333cfxxx+//7bly5czadKkql0nSZKkOiGWlxFfeI5YNBHWrYGORxFu/xbhjHMJKeOSJEm1QUbvybRixQqOPfbYT9x2zDHHsGLFiioZJUmSpLohlpUR588kFk2CTeuhczdSd38XTu1NSKWSnidJkg5BRpGpa9eu/OUvf+Hqq6+mQYMG7N27l4KCArp06VLF8yRJkpSN4p49xHnTidMfhy2b4OjjSH3pLjjpjIzeF1SSJNU8GUWmu+++m//v//v/uOmmm8jLy2PHjh1069aNr371q1W9T5IkSVkk7t5JfK6IOOMJ2L4Vup9E6tZ7oMcpxiVJkmq5jCJT27Zt+ed//mc2bNjA5s2badmyJfn5+VW9TZIkSVki7txBfHYKcdbTULodTjiN1NBRhO4nJj1NkiQdJhlFJqj4CXPLli1j8+bNDBs2jE2bNhFjpHXr1lW5T5IkSbVY3LGNOOsp4rNTYNdOOLU3qSEjCUcfl/Q0SZJ0mGUUmZYtW8avfvUrjj76aN566y2GDRvG2rVreeqpp7jvvvuqeqMkSZJqmbhtM3HGE8TnimDPbjj93IorlzofnfQ0SZJURTKKTH/84x/5+te/zsknn8wtt9wCVPx0uXfeeadKx0mSJKl2iZs3Eqc/Tpw3HcrKCWf2JQwZSejYOelpkiSpimUUmdavX8/JJ5/8yU+sX599+/ZVyShJkiTVLnHjOmLRROL8WZBOE84+n3DJCEK7jklPkyRJ1SSjyNSpUycWL15Mz54999/2+uuv07mz/0ZKkiSpLovrSohTJxBfeA4IhPMuIgy+ktCmXdLTJElSNcsoMt1www3cf//9nHbaaezdu5eHHnqIl19+mW9961tVvU+SJEk1UCz5oCIuLZoH9esT+l9CGHQloZU/gViSpLoqo8jUvXt3/vVf/5V58+bRqFEj8vPz+Zd/+Rd/spwkSVIdEz9cRbpwPLzyPDRoSLh4GGHgcELzlklPkyRJCcsoMj311FNcfvnlDBs27BO3T5kyhUsvvbRKhkmSJKnmiKverohLSxZB4yaES0YSLrqc0LRZ0tMkSVINkVFkmjRpEpdffvmn3m5kkiRJyl5x5TLSU8bDG69CkzzC5dcRLryU0CQv6WmSJKmG+czItHTpUgDS6fT+X/+fjz/+mMaNG1fdMkmSJCUixgjLXyNdWABvvQ5NmxOuvIlw/iWERk2SnidJkmqoz4xMDzzwAAB79+7d/2uAEAItWrTg1ltvrdp1kiRJqjYxRlj6SsXL4t5ZDs1bEUZ9mdBvEKFho6TnSZKkGu4zI9O4ceMA+P3vf8/YsWOrZZAkSZKqV0yn4bVFpKcUwPsroVU+4bo7CX0uIuQ0SHqeJEmqJTJ6T6a/DUzpdPoT96VSqcO7SJIkSdUipvcRX36eOLUAVr8HbdoRbhxLOOd8Qv2cpOdJkqRaJqPI9O677/LII4/wwQcfsHfv3k/cN378+CoZJkmSpKoR9+0jvjiXWDgB1q6Gdh0Jt95D6N2PUK9e0vMkSVItlVFkGjduHGeccQZ33XUXDRs2rOpNkiRJqgKxvIz4/Gxi0URYvxY6HkW4/duEM84hpIxLkiSpcjKKTBs2bODaa68lhFDVeyRJknSYxbK9xOJZxGmTYNN6OOoYUmO+C6f0JvjWB5Ik6TDJKDKdeeaZLFmyhJ49e1bxHEmSJB0ucc8e4rxpxOmTYcsm6NaD1JfuhpNO918eSpKkwy6jyFRWVsYvf/lLevToQYsWLT5xnz91TpIkqWaJu3cSZxcRZz4B27fCcSeTuvUe6HGKcUmSJFWZjCJTp06d6NSpU1VvkSRJUiXEnTuIz04hznoaSrfDiaeRGno14dgTkp4mSZLqgIwi08iRI6t6hyRJkr6guH0bcdZTxNlTYNdOOLU3qaGjCF27Jz1NkiTVIRlFJoDXXnuN+fPns3XrVu677z7eeecddu3axUknnVSV+yRJknQQcetm4owniHOKYO8eOP0cUkNGETofnfQ0SZJUB2UUmYqKipg6dSoXXnghL7zwAgANGjTgP//zP/nnf/7nKh0oSZKkT4qbNxKnP06cOx3Kywm9+xKGjCR06Jz0NEmSVIdlFJmmTp3KD37wA9q2bcuTTz4JQMeOHSkpKanScZIkSfp/4oaPiUWTiAtmQYyEswcQLhlJOKJD0tMkSZIyi0y7du0iPz//E7eVl5dTv37Gr7aTJEnSFxQ/LiEWTSC+8ByEQDjvIsLgqwj5RyQ9TZIkab+MKtHxxx/PE088wZVXXrn/tqKiIk488cQqGyZJklTXxZIPiIUTiC/Og/r1CQOGEAZeQWiV/7mfK0mSVN0yiky33nor999/P8888wy7d+/ma1/7Gk2aNOHee++t6n2SJEl1TvzgXdKFBfDq89CgIWHgMMLA4YRmLZOeJkmSdFCfG5nS6TQfffQR//RP/8QHH3zA+vXrad26NccccwypVKo6NkqSJNUJcdWKiri0ZBE0blLxfksXXU5o2izpaZIkSZ/rcyNTKpXiF7/4BY899hjHHHMMxxxzTHXskiRJqjPi28tITxkPy16F3KaEYdcRLriU0CQv6WmSJEkZy/g9mVasWEH37t2reo8kSVKdEGOE5a9VxKUVS6Fpc8JVNxEGXEJo1CTpeZIkSYcso8jUpk0bfvazn9GrVy9at25NCGH/fVdffXWVjZMkSco2MUZY+grpwvHwznJo3opw9ZcJfQcTGjZMep4kSdIXllFk2rt3L2eeeSYAmzZtqtJBkiRJ2Sim07BkUcV7Lr2/Elq1IVx/J+G8iwg5DZKeJ0mSVGkZRaa77767qndIkiRlpZjeR3z5eWLhePjofWjTjnDTVwhnDyDUz0l6niRJ0mGTUWSSJEnSoYn79hEXzSVOnQBrV0O7ToQv30M4sx+hXr2k50mSJB12RiZJkqTDKJaXEZ+fTSyaCOvXQqcupO74Npx+DiFlXJIkSdnLyCRJknQYxLK9xOJZxGmTYNN6OOoYUmO+C6f0JqRSSc+TJEmqckYmSZKkSoh79hDnTiNOnwxbN0G3HqRuuBtOPP0TP5FXkiQp22UUmZYuXUrbtm1p27Ytmzdv5s9//jOpVIrrrruOFi1aVPFESZKkmifu3kmcPZU480nYvhWOO5nUbd+A4042LkmSpDopo2u3H3nkEVJ/vcz7scceY9++fYQQePDBB6t0nCRJUk0Td+4g/fT/kr73NuLjj8FR3Ujd+3PqffOnhB6nGJgkSVKdldGVTJs2bSI/P599+/axZMkS/v3f/5369etzxx13ZPQg27dv5/e//z1r164lJyeHdu3acfvtt9OsWTPGjBlDTk4OOTkVP8L3+uuvp2fPngCUlJQwbtw4duzYQV5eHmPHjqV9+/Zf7JlKkiRVQty+jTjrSeLsQti1E07tTWro1YSuxyY9TZIkqUbIKDI1btyYLVu28OGHH9KpUycaNWpEeXk55eXlGT1ICIHLL7+cE088EYA//elP/PnPf+auu+4C4Bvf+AadO3c+4PMefvhhBg0aRL9+/Zg7dy4PPfQQP/rRjzJ9bpIkSZUWt24mzniCOKcI9u4hnH4uYegowpFdk54mSZJUo2QUmQYPHsx3vvMdysvLufnmmwFYvnw5HTt2zOhB8vLy9gcmgGOPPZaZM2d+5uds3bqVVatW8YMf/ACAPn368Oijj7Jt2zaaNWuW0eNKkiR9UXHTBuL0x4nzZkB5OaF3X8KQkYQOB/6LMUmSJGUYmYYPH07v3r1JpVK0a9cOgFatWnHnnXce8gOm02lmzpzJGWecsf+23/3ud8QY6dGjB9deey25ubls3LiRVq1a7X8vqFQqRcuWLdmwYcMBkam0tJTS0tIDHqtt27aHvE+SJNVtcf1a4rRJxPnPAJFw9vmEISMIbTskPU2SJKlGyygyQUWwefvtt3n33Xc599xzadWq1Rd6wEcffZSGDRsyePBgAH784x+Tn59PWVkZf/zjH3nkkUf46le/ekhfs7CwkIkTJx5we0FBAR06ZMdfCLPleUhVzbMiZcazcqCyj95nW8Ef2fnsVEilyB00nGYjbqT+Ef53VZd5VqTMeFakzGT7WckoMn3wwQfcf//95OTksHHjRs4991yWLVvGnDlzuOeeezJ+sMcee4y1a9dy77337r9CKT8/H4CcnBwGDRrE/fffD0Dr1q3ZtGkT6XSaVCpFOp1m8+bN+z/+bw0dOpQBAwZ86mOWlJRkvK+m6tChQ1Y8D6mqeVakzHhWPil+9AFxagHxxWKoX59w/hDCoCvZ3bI1u/cB/ndVZ3lWpMx4VqTMZNNZOVgsyygyPfzww1x99dX069ePW265BYATTjiBBx98MOMBf/nLX1i1ahX33Xff/p8kt3v3btLpNE2aNCHGyPz58+nSpQsAzZs3p0uXLhQXF9OvXz+Ki4vp2rXrp74fU25uLrm5uRlvkSRJih+8Q7qwAF55Hho2IgwcThg4jNCsZdLTJEmSaqWMItPq1avp27fvJ25r1KgRe/fuzehBPvzwQyZPnkz79u35/ve/D1S8/O7GG2/kV7/6Fel0mnQ6TadOnbjtttv2f97o0aMZN24ckyZNIjc3l7Fjx2b6vCRJkj5VXLWC9JTx8NqL0LhJxU+Ku+hyQp4/WESSJKkyMopMbdq04d1336Vbt277b1u5cuX+NwH/PEceeSQFBQWfet8vfvGLg35ex44d+Zd/+ZeMHkOSJOmzxBVvkC4cD8sWQ25TwrDrCRcMJTTJS3qaJElSVsgoMl199dX8/Oc/5+KLL6a8vJzJkyczc+ZM7rjjjqreJ0mS9IXFGGH5axVXLq1YCk2bE0bcTOg/mNCoSdLzJEmSskpGkemMM87gO9/5Ds8++ywnnHAC69ev55vf/CZHH310Ve+TJEk6ZDFGWPpyRVx69y1o0Ypw9W2EvoMIDRsmPU+SJCkrZRSZFixYwLnnnntAVCooKGDUqFFVMkySJOlQxXQaFi+seEPvD96B1m0J199FOO8iwl9/8IgkSZKqRkaR6X/+539o3Lgxp5122iduW7x4sZFJkiQlLqb3EV9eQCwsgI/ehzbtCDd9hXD2+YT6Gf11R5IkSZWU0d+6vvOd7/DTn/6UsWPHcsIJJ/Bf//VfvPnmm/zwhz+s6n2SJEkHFfftIy6cQyyaAGs/gvZHEr78DcKZfQn16iU9T5IkqU7JKDJ17NiRb37zm/zrv/4rxx13HBs2bOCHP/whTZr4hpmSJKn6xfIy4oJnidMmwfq10KkrqTvvhdPOIaRSSc+TJEmqkw4amZYuXXrAbeeffz6zZs1i9OjRvPvuuwCcdNJJVbdOkiTpb8SyvcTimRVxadMGOOoYUmO+B6f2JoSQ9DxJkqQ67aCR6YEHHvjU23NycvjjH/8IQAiB3//+91UyTJIk6f/EPbuJc6YRZ0yGrZvhmONJ3TAWTjzNuCRJklRDHDQyjRs3rjp3SJIkHSDu2kl8bipxxhOwYxv0OIXUbf8Ax51sXJIkSaph/HErkiSpxomlO4jPPE185mnYuQNOOp3U0KsJxxyf9DRJkiQdxEEj0z333MOvf/1rAO66666DfoGDvaxOkiTpUMXtW4kznyTOLoTdu6DnWaSGjiJ0OTbpaZIkSfocB41Md9xxx/5ff+UrX6mWMZIkqW6KWzYRZz5BfK4IyvYSzjiPMHQkoVPXpKdJkiQpQweNTD169Nj/6xNOOKFaxkiSpLolblpPnPY4cd4M2LePcFY/wpCRhPZHJj1NkiRJhyij92QqLy9n0qRJzJ8/n82bN9OyZUvOPfdcrrzySho0aFDVGyVJUpaJ69cSiyYSFzwLRMI5FxAuuYrQtkPS0yRJkvQFZRSZHn74YUpKSrjlllto06YN69ev54knnuA//uM/uPvuu6t6oyRJyhJx7UfEqROIC5+DVIrQ92LC4KsIrdsmPU2SJEmVlFFkevHFF/nd735Hbm4uAJ06deLYY4/1vZokSVJG4kfvEwsLiC/Nh5z6hAsuJQy6gtCiddLTJEmSdJhkFJlatGjBnj179kcmgL1799KyZcsqGyZJkmq/+ME7pAsL4JXnoWHjirB08TBCsxZJT5MkSdJhdtDItHTp0v2/7tevH//yL//C4MGDad26NRs3bmT69On069evWkZKkqTaJb77Fukp4+H1l6BxLuHSqwkXXkbIa5b0NEmSJFWRg0amBx544IDbJk+e/Infz5o1i+HDhx/2UZIkqXaKK5ZWXLm0bDHkNSUM/xLh/KGEJrmf+7mSJEmq3Q4amcaNG1edOyRJUi0VY4Q3l5AuHA8r3oBmLQgjbiH0H0xo1DjpeZIkSaomGb0nkyRJ0t+LMcLrL1W8LG7VCmjRmnDNaELfgYQGDZOeJ0mSpGpmZJIkSYckptOw+IWKl8V98C60bkv40t2Ecy8k5OQkPU+SJEkJMTJJkqSMxPQ+4kvziVMnwEfvQ9v2hJu/SjhrAKG+f6WQJEmq6/wboSRJ+kyxvJy4aA5x6kT4+CNofyThtn8g9OpDqFcv6XmSJEmqIYxMkiTpU8XyMuKCZ4lFE2HDx9CpK6k774XTziGkUknPkyRJUg1jZJIkSZ8Q9+4hFs8kTnscNm+ALseSumY0nHImIYSk50mSJKmGMjJJkiQA4p7dxDlFxBlPwNbNcMwJpG76CpzQ07gkSZKkz2VkkiSpjou7dhJnFxJnPgk7tsHxp5Ia/U3ofpJxSZIkSRkzMkmSVEfF0h3EZ54iPvM07CyFk84gdenVhG49kp4mSZKkWsjIJElSHbNv62bSj/8XcfZU2L0Lep5N6tJRhKOOSXqaJEmSajEjkyRJdUTcsok4YzJr5k4n7t1DOOM8wtCRhE5dk54mSZKkLGBkkiQpy8VN64nTJhHnzYT0PpoMGMzuAZcS2ndKepokSZKyiJFJkqQsFdevJRZNJC54FoBw7gWEwVfRuucZlJSUJLxOkiRJ2cbIJElSlolrVxOnTiAunAOpeoS+AwmDryK0bpP0NEmSJGUxI5MkSVkifvQ+sbCA+FIx5OQQLriMMGg4oUXrpKdJkiSpDjAySZJUy8X33yFdOB5efQEaNiYMvpJw0TBCsxZJT5MkSVIdYmSSJKmWiu8sJ11YAK+/BI1zCZdeQ7joMkJu06SnSZIkqQ4yMkmSVMvEt5ZWXLn05hLIa0oY/iXC+UMJTXKTniZJkqQ6zMgkSVItEGOENxeTnjIe3l4GzVoQRtxC6D+Y0Khx0vMkSZIkI5MkSTVZjBFee6niyqVVK6BFa8I1txP6Xkxo0DDpeZIkSdJ+RiZJkmqgmE7Dqy9UxKUPV0HrtoQb7iaccyEhJyfpeZIkSdIBjEySJNUgMb2P+GIxceoEKPkA2nYg3Pw1wln9CfX9Y1uSJEk1l39blSSpBojl5cSFcyri0roSaH8k4bZ/IJzZh5Cql/Q8SZIk6XMZmSRJSlAsKyM+/wxx6kTYuA6O7ErqzvvgtLMJqVTS8yRJkqSMGZkkSUpA3LuHOG8mcfrjsHkDdO1O6to74JRehBCSnidJkiQdMiOTJEnVKO7eRZwzjThjMmzbAseeQOrmr8DxPY1LkiRJqtWMTJIkVYO4s5Q4u5A460nYsR2OP5XU7d8mHHdS0tMkSZKkw8LIJElSFYql24mzniY++zTsLIWTe5EaOorQrUfS0yRJkqTDysgkSVIViNu2EGc9SXx2KuzZBaedTWro1YSjuiU9TZIkSaoSRiZJkg6juGUTcfpk4twiKCsj9OpDGDKS0KlL0tMkSZKkKmVkkiTpMIgb1xOnTSIWz4T0PsJZ/SviUrtOSU+TJEmSqoWRSZKkSojr1xKLJhIXPAtAOPcCwiUjCG3aJbxMkiRJql5GJkmSvoC4ZjVx6gTiojmQqkfoN5Aw6CpC6zZJT5MkSZISYWSSJOkQxNXvEQsLiC/Ph5wGhAsvIwy8gtCiVdLTJEmSpEQZmSRJykB8fyXpKQWw+AVo1Jgw+CrCxcMITZsnPU2SJEmqEYxMkiR9hvjOctJTxsPSl6FJLuGyayquXsptmvQ0SZIkqUYxMkmS9HdijLBiKenCAnhzCeQ1I1xxA+H8oYTGTZKeJ0mSJNVIRiZJkv4qxgjLFldcubRyGTRrQRh5C6H/JYSGjZKeJ0mSJNVoRiZJUp0XY4TXXqy4cmnVCmiZT7j2dkKfiwkNGiY9T5IkSaoVjEySpDorptPw6vMVb+i9ehXkH0G4YQzhnAsIOTlJz5MkSZJqFSOTJKnOiel9xBeLiYUFsOZDOKIj4ZavEXr3J9T3j0ZJkiTpi/Bv0pKkOiOWlxMXPkecOhHWlUCHzoTR3yT0Oo+Qqpf0PEmSJKlWMzJJkrJeLCsjLniGWDQRNq6DzkeTuus70PMsQiqV9DxJkiQpKxiZJElZK+7dQ5w3gzjtcdiyEbp2J3XdHXByL0IISc+TJEmSsoqRSZKUdeLuXcQ5RcQZT8C2LdD9RFK3fA2OP9W4JEmSJFURI5MkKWvEnaXE2YXEWU/Cju1wQk9SQ0cRup+U9DRJkiQp6xmZJEm1XizdTpz1FPGZKbCrFE45k9SQkYRuPZKeJkmSJNUZRiZJUq0Vt20hznySOHsq7NkFp59TceVS525JT5MkSZLqHCOTJKnWiVs2EqdPJs6dBmXlhDP7EIaMJHQ8KulpkiRJUp1lZJIk1Rpx4zritEnE4pmQThPOGlARl9p1THqaJEmSVOcZmSRJNV5cV0IsmkR8/lkgEM67kDD4KkKbdklPkyRJkvRX1RKZtm/fzu9//3vWrl1LTk4O7dq14/bbb6dZs2aUlJQwbtw4duzYQV5eHmPHjqV9+/YAn3mfJCn7xTUfEqdOIC6cC/XrE/pfQhh0BaFVm6SnSZIkSfo71RKZQghcfvnlnHjiiQD86U9/4s9//jN33XUXDz/8MIMGDaJfv37MnTuXhx56iB/96EcAn3mfJCl7xdWriFMKiK8sgJwGhIsvJwy8gtC8ZdLTJEmSJB1EqjoeJC8vb39gAjj22GPZsGEDW7duZdWqVfTp0weAPn36sGrVKrZt2/aZ90mSslN87232jfsp6R9/jfjGK4RLRpD6+X+QGnmrgUmSJEmq4ar9PZnS6TQzZ87kjDPOYOPGjbRq1YpUqqJ1pVIpWrZsyYYNGwAOel+zZs0+8TVLS0spLS094LHatm1bxc9GknQ4xJVvki4cD0tfgSa5hMuuJVx4GSE3L+lpkiRJkjJU7ZHp0UcfpWHDhgwePJj33nvvsHzNwsJCJk6ceMDtBQUFdOjQ4bA8RtKy5XlIVc2zUnvEGNnz2sts+9//YM9rL5Fq1oKmN40l79IRpJoYl6qaZ0XKjGdFyoxnRcpMtp+Vao1Mjz32GGvXruXee+8llUrRunVrNm3aRDqdJpVKkU6n2bx5M/n5+cQYD3rf3xs6dCgDBgz41McsKSmp4mdV9Tp06JAVz0Oqap6V2iHGCG+8WnHl0so3oXlLwshbof9gdjRsxI4t22CLL42uSp4VKTOeFSkznhUpM9l0Vg4Wy6otMv3lL39h1apV3HfffeTk5ADQvHlzunTpQnFxMf369aO4uJiuXbvufzncZ933t3Jzc8nNza2upyJJ+gJijLBkEenCAnjvbWiVT7juDkKfiwk5DZKeJ0mSJKmSqiUyffjhh0yePJn27dvz/e9/H6h4v6RvfetbjB49mnHjxjFp0iRyc3MZO3bs/s/7rPskSbVDTKfhlQWkCyfA6lXQph3hxrGEc84n1M9Jep4kSZKkwyTEGGPSI6pSNlyKlk2X1ElVybNSs8R9+4gvziNOnQBrPoR2HQmXjCSc1Z9Qr17S8+o0z4qUGc+KlBnPipSZbDorib9cTpJUN8TycuILs4lFE2HdGuh4FOH2bxHOOJeQMi5JkiRJ2crIJEk6LGJZGXH+LOK0SbBxHXTuRuru78KpvQmpVNLzJEmSJFUxI5MkqVLinj3EedOJ0x+HLZvg6ONIXX8nnHQGIYSk50mSJEmqJkYmSdIXEnfvJD5XRJzxBGzfCt1PInXrPdDjFOOSJEmSVAcZmSRJhyTuLCU+O4U46yko3Q4nnEZq6ChC9xOTniZJkiQpQUYmSVJG4o5txFlPEZ8thF2lcGpvUkNGEo4+LulpkiRJkmoAI5Mk6TPFbZuJM54gPlcEe3bD6edWXLnU+eikp0mSJEmqQYxMkqRPFTdvJE5/nDhvOpSVE87sSxgyktCxc9LTJEmSJNVARiZJ0ifEjeuIRROJ82dBjISzBxAGjyC065j0NEmSJEk1mJFJkgRAXFdCnDqR+MJsIBDOu4hwyVWE/COSniZJkiSpFjAySVIdF9d8SCwsIC6aB/XrEwYMIQy8gtAqP+lpkiRJkmoRI5Mk1VHxw1WkC8fDK89Dg4aEi4cRBg4nNG+Z9DRJkiRJtZCRSZLqmLjq7Yq4tGQRNG5CuGQk4aLLCU2bJT1NkiRJUi1mZJKkOiKuXEZ6ynh441Vokke4/DrChZcSmuQlPU2SJElSFjAySVIWizHC8tdIFxbAW69D0+aEK28inH8JoVGTpOdJkiRJyiJGJknKQjFGeOOViiuX3lkOzVsRrv4yoe8gQsNGSc+TJEmSlIWMTJKURWI6Da8tIj2lAN5fCa3yCdfdSehzESGnQdLzJEmSJGUxI5MkZYGY3kd8+Xni1AJY/R60aUe4cSzhnPMJ9XOSnidJkiSpDjAySVItFvftI744l1g4AdauhnYdCbfeQ+jdj1CvXtLzJEmSJNUhRiZJqoVieRnx+dnEoomwfi10PIpw+7cJZ5xDSBmXJEmSJFU/I5Mk1SKxbC9x/ixi0STYtB6OOobUmO/CKb0JqVTS8yRJkiTVYUYmSaoF4p49xHnTiNMnw5ZN0K0HqS/dDSedTggh6XmSJEmSZGSSpJos7t5JnF1EnPkEbN8Kx51M6tZ7oMcpxiVJkiRJNYqRSZJqoLhzB/HZKcRZT0PpdjjxNFJDryYce0LS0yRJkiTpUxmZJKkGidu3EWc9RZw9BXbthFN7kxo6itC1e9LTJEmSJOkzGZkkqQaIWzcTZzxBnFMEe/fA6eeQGjKK0PnopKdJkiRJUkaMTJKUoLh5I3H648S506G8nNC7L2HISEKHzklPkyRJkqRDYmSSpATEDR8TiyYRF8yCGAlnn0+4ZAThiA5JT5MkSZKkL8TIJEnVKH5cQiyaQHzhOQiBcN5FhMFXEfKPSHqaJEmSJFWKkUmSqkEs+YBYOIH44jyoX58wYAhh4BWEVvlJT5MkSZKkw8LIJElVKH7wLunCAnj1eWjQkDBwGGHgcEKzlklPkyRJkqTDysgkSVUgrlpREZeWLILGTSrezPvCywlNmyU9TZIkSZKqhJFJkg6j+PYy0lPGw7JXIbcpYdj1hAuGEprkJT1NkiRJkqqUkUmSKinGCMtfq4hLK5ZC0+aEq24iDLiE0KhJ0vMkSZIkqVoYmSTpC4oxwtKXK14W985yaNGKcPVthL6DCA0bJj1PkiRJkqqVkUmSDlFMp2HJooq49P5KaNWGcP2dhPMuIuQ0SHqeJEmSJCXCyCRJGYrpfcSXFxALC+Cj96FNO8JNXyGcPYBQPyfpeZIkSZKUKCOTJH2OuG8fcdFc4tQJsHY1tD+S8OVvEM7sS6hXL+l5kiRJklQjGJkk6SBieRnx+dnEoomwfi106kLqjm/D6ecSUqmk50mSJElSjWJkkqS/E8v2EotnEadNgk3r4ahjSI35HpxypnFJkiRJkg7CyCRJfxX37CbOnU6cPhm2boJuPUjdcDeceDohhKTnSZIkSVKNZmSSVOfF3TuJs6cSZz4J27fCcSeTuu0bcNzJxiVJkiRJypCRSVKdFUt3EJ+dQpz1FOzcASedTmroKMIxJyQ9TZIkSZJqHSOTpDonbt9GnPUkcXYh7NoJPc8iNWQUoeuxSU+TJEmSpFrLyCSpzohbNxNnTCY+VwRlewmnn0sYOopwZNekp0mSJElSrWdkkpT14qb1xOmTifNmQHk54ax+hCEjCe2PTHqaJEmSJGUNI5OkrBXXryVOm0Sc/wwQCWefTxgygtC2Q9LTJEmSJCnrGJkkZZ249iNi0UTiC7MhlSL0vZgw+CpC67ZJT5MkSZKkrGVkkpQ1yt5/h/QfxxFfLIac+oQLLiUMvILQsnXS0yRJkiQp6xmZJNV68YN3SBcWsPaV56FhY8LA4YSBwwjNWiY9TZIkSZLqDCOTpForvvsW6cICeO1FaJxLs2u+zI6zzifkNUt6miRJkiTVOUYmSbVOXPEG6cLxsGwx5DYlDP8S4fwhND+mO6UlJUnPkyRJkqQ6ycgkqVaIMcKbSyri0oo3oGlzwoibCf0vITRqnPQ8SZIkSarzjEySarQYI7z+UsXL4t59C1q0JlwzmtBnIKFhw6TnSZIkSZL+ysgkqUaK6TQsXlgRlz54B1q3JVx/F+G8iwg5OUnPkyRJkiT9HSOTpBolpvcRX5pPnDoBPnof2rYn3PxVwlkDCPX9R5YkSZIk1VR+xyapRoj79hEXziEWTYC1H0H7Iwm3/QOhVx9CvXpJz5MkSZIkfQ4jk6RExfIy4oJniUUTYcPH0KkrqTvvhdPOIaRSSc+TJEmSJGXIyCQpEbFsL7F4JnHaJNi0AbocS+qa0XDKmYQQkp4nSZIkSTpERiZJ1Sru2U2cM404YzJs3QzHHE/qhrFw4mnGJUmSJEmqxYxMkqpF3LWTOLuQOPNJ2LENepxCavQ3oftJxiVJkiRJygJGJklVKpbuID7zNPGZp2HnDjjpDFJDRxGOOT7paZIkSZKkw8jIJKlKxO1biTOfJM4uhN27oOfZpIaOJHQ5NulpkiRJkqQqYGSSdFjFLZuIM58gPlcEZXsJZ5xHGDqS0Klr0tMkSZIkSVXIyCTpsIib1hOnPU6cNwPS+wi9+xOGjCS075T0NEmSJElSNTAySaqUuH4tsWgiccGzQCSccwHhkhGEtu2TniZJkiRJqkZGJklfSFy7mjh1InHhc5BKEfoOJAy+itC6TdLTJEmSJEkJMDJJOiTxo/eJhQXEl4ohJ4dwwWWEQcMJLVonPU2SJEmSlCAjk6SMxPffIV04Hl59ARo2Jgy6knDxMEKzFklPkyRJkiTVAEYmSZ8pvrOcdGEBvP4SNM4lXHoN4cJLCXnNkp4mSZIkSapBjEySPlVcsZT0lPHw5hLIa0oY/iXC+UMJTXKTniZJkiRJqoGMTJL2izHCm4sr4tLby6BZC8KIWwj9BxMaNU56niRJkiSpBquWyPTYY4+xcOFC1q9fzy9/+Us6d+4MwJgxY8jJySEnJweA66+/np49ewJQUlLCuHHj2LFjB3l5eYwdO5b27f2R6FJViDHC6y9VxKVVK6BFa8I1txP6Xkxo0DDpeZIkSZKkWqBaIlPv3r0ZMmQIP/rRjw647xvf+Mb+6PS3Hn74YQYNGkS/fv2YO3cuDz300Kd+vqQvLqbTsPiFivdc+uBdaN2W8KW7CedeSPhr/JUkSZIkKRPVEpl69OhxSB+/detWVq1axQ9+8AMA+vTpw6OPPsq2bdto1uzANxsuLS2ltLT0gNvbtm37xQZLWS6m9xFfmk+cOgE+eh/adiDc/DXCWf0J9X0VrSRJkiTp0CX+3eTvfvc7Yoz06NGDa6+9ltzcXDZu3EirVq1IpVIApFIpWrZsyYYNGz41MhUWFjJx4sQDbi8oKKBDhw5V/hyqQ7Y8DyUrlpez87lpbCt4lPKPPqB+56Np9q1/pknfiwn16iU977DwrEiZ8axImfGsSJnxrEiZyfazkmhk+vGPf0x+fj5lZWX88Y9/5JFHHuGrX/3qIX+doUOHMmDAgE+9r6SkpJIrk9ehQ4eseB5KTiwrIz7/DLFoEmz4GI7sSurO+0ifdjZbUym2fvxx0hMPC8+KlBnPipQZz4qUGc+KlJlsOisHi2WJRqb8/HwAcnJyGDRoEPfffz8ArVu3ZtOmTaTTaVKpFOl0ms2bN+//+L+Xm5tLbq4/Vl36e3HvHmLxTOK0x2HzBujandQ1t8MpvQghJD1PkiRJkpRFEotMu3fvJp1O06RJE2KMzJ8/ny5dugDQvHlzunTpQnFxMf369aO4uJiuXbt+6kvlJB0o7tlNnFNEnPEEbN0Mx5xA6qavwAk9jUuSJEmSpCpRLZHp0UcfZdGiRWzZsoWf/OQnNG3alHvvvZdf/epXpNNp0uk0nTp14rbbbtv/OaNHj2bcuHFMmjSJ3Nxcxo4dWx1TpVot7tpJnF1InPkk7NgGx59KavS3CMedlPQ0SZIkSVKWCzHGmPSIqpQNr3fMptdtqmrE0h3EZ54iPvM07CyFk3uRGjqK0O3QfrJjbedZkTLjWZEy41mRMuNZkTKTTWelRr4nk6TKidu3Emc+QZw9FXbvgp5nk7p0FOGoY5KeJkmSJEmqY4xMUi0Ut2wizphMnDMNyvYSevUhDBlJ6NQl6WmSJEmSpDrKyCTVInHTeuK0ScR5MyG9j3BWf8IlIwntOyU9TZIkSZJUxxmZpFogrl9LLJpIXPAsAOHcCwiDryK0bZ/wMkmSJEmSKhiZpBosrl1NnDqBuHAOpOoR+g0kDLqK0LpN0tMkSZIkSfoEI5NUA8XV71XEpZeKIacB4cLLCAOHE1q0TnqaJEmSJEmfysgk1SDx/XdITxkPi1+Aho0Jg68kXDyc0LR50tMkSZIkSfpMRiapBojvLCddWACvvwRNcgmXXVNx9VJu06SnSZIkSZKUESOTlKD41lLShePhzSWQ15Qw/EuE84cSmuQmPU2SJEmSpENiZJKqWYwR3lxc8bK4t5dBsxaEkbcQ+g0mNGqc9DxJkiRJkr4QI5NUTWKM8NpLFVcurVoBLVoTrrmd0PdiQoOGSc+TJEmSJKlSjExSFYvpNLz6QkVc+nAVtG5LuOFuwjkXEnJykp4nSZIkSdJhYWSSqkhM7yO+WEycOgFKPoC2HQi3fI3Quz+hvkdPkiRJkpRd/E5XOsxieTlx4ZyKuLSuBDp0Jtz2D4Qz+xBS9ZKeJ0mSJElSlTAySYdJLCsjLniGWDQRNq6DzkeTuus+6Hk2IZVKep4kSZIkSVXKyCRVUty7hzhvJnH647B5A3TtTuq6O+DkXoQQkp4nSZIkSVK1MDJJX1DcvYs4ZxpxxmTYtgWOPYHUzV+B43salyRJkiRJdY6RSTpEcWcpcXYhcdaTsGM7HH8qqTu+Teh+UtLTJEmSJElKjJFJylAs3U6c9TTx2adhZymc3IvU0FGEbj2SniZJkiRJUuKMTNLniNu2EGc+SZw9FfbsgtPOJjX0asJR3ZKeJkmSJElSjWFkkg4ibtlEnD6ZOLcIysoIvfoQhowkdOqS9DRJkiRJkmocI5P0d+LG9cRpk4jFMyG9j3DWAMKQEYR2nZKeJkmSJElSjWVkkv4qrltTEZcWPAtAOPcCwiUjCG3aJbxMkiRJkqSaz8ikOi+uWU2cOoG4aA6k6hH6DSIMupLQuk3S0yRJkiRJqjWMTKqz4ur3iIUFxJfnQ04DwoWXEQZeQWjRKulpkiRJkiTVOkYm1Tnx/ZWkpxTA4hegUWPC4KsIFw8jNG2e9DRJkiRJkmotI5PqjPjOctJTxsPSl6FJLuGyayquXsptmvQ0SZIkSZJqPSOTslqMEVYsrYhLy1+DvGaEK24gnD+U0LhJ0vMkSZIkScoaRiZlpRgjLFtcEZdWLoNmLQgjbyH0v4TQsFHS8yRJkiRJyjpGJmWVGCO89iLpwgJYtQJa5hOuvZ3Q52JCg4ZJz5MkSZIkKWsZmZQVYjoNrz5f8Ybeq1dB/hGEG8YQzr2AUD8n6XmSJEmSJGU9I5NqtZjeR3yxmFhYAGs+hCM6Em75GqF3f0J9/+8tSZIkSVJ18btw1UqxvJy48Dni1ImwrgQ6dCaM/iah13mEVL2k50mSJEmSVOcYmVSrxLIy4oJniEUTYeM66Hw0qbu+Az3PIqRSSc+TJEmSJKnOMjKpVoh79xDnzSBOexy2bISu3Ulddwec3IsQQtLzJEmSJEmq84xMqtHi7l3EOUXEGU/Ati3Q/URSt3wNjj/VuCRJkiRJUg1iZFKNFHeWEmcXEmc9CTu2wwk9SQ0dReh+UtLTJEmSJEnSpzAyqUaJpduJs54iPjMFdpXCKWeSGjKS0K1H0tMkSZIkSdJnMDKpRojbthBnPkmcPRX27ILTz6m4cqlzt6SnSZIkSZKkDBiZlKi4ZSNx+mTi3GlQVk44sw9hyEhCx6OSniZJkiRJkg6BkUmJiBvXEadNIhbPhHSacNaAirjUrmPS0yRJkiRJ0hdgZFK1iutKiEWTiM8/CwTCeRcSBl9FaNMu6WmSJEmSJKkSjEyqFnHNh8SpE4gL50K9eoR+gwmDryS0apP0NEmSJEmSdBgYmVSl4upVxCkFxFcWQE4DwsWXEy4eTmjRKulpkiRJkiTpMDIyqUrE994mXVgAixdCo8YVL4m7eBihafOkp0mSJEmSpCpgZNJhFVe+SbpwPCx9BZrkEi67lnDhZYTcvKSnSZIkSZKkKmRkUqXFGOGt1yuuXFr+GuQ1I1x5I2HAEELjJknPkyRJkiRJ1cDIpC8sxghvvFpx5dLKN6F5S8LIWwn9BxMaNkp6niRJkiRJqkZGJh2yGCMsWVRx5dJ7b0OrfMJ1dxD6XEzIaZD0PEmSJEmSlAAjkzIW02l4ZQHpwgmwehW0aUe4cSzhnPMJ9XOSnidJkiRJkhJkZNLnivv2EV+cR5w6AdZ8CO06Em75OuGs/oR69ZKeJ0mSJEmSagAjkw4qlpcTX5hNLJoI69ZAx6MIt3+LcMa5hJRxSZIkSZIk/T9GJh0glpUR588iTpsEG9dB526k7voO9DyLkEolPU+SJEmSJNVARibtF/fsIc6bTpz+OGzZBEcfR+r6O+GkMwghJD1PkiRJkiTVYEYmEXfvIs4pIk6fDNu3QveTSN16D/Q4xbgkSZIkSZIyYmSqw+LOUuKzU4iznoLS7XDCaaSGjiJ0PzHpaZIkSZIkqZYxMtVBccc24qyniM8Wwq5SOOXMirh09HFJT5MkSZIkSbWUkakOids2E2c8SXyuCPbsgtPPJTV0JKFzt6SnSZIkSZKkWs7IVAfEzRuJ0x8nzpsOZeWEM/sQhowidOyc9DRJkiRJkpQljExZLG5cRyyaSJw/C9JpwtnnEy4ZQWjXMelpkiRJkiQpyxiZslBcV0KcOpH4wmwgEM67iDD4SkKbdklPkyRJkiRJWcrIlEXimg+JhQXERfOgfn1C/0sIg64ktMpPepokSZIkScpyRqYsED9cVRGXXlkADRoSLh5GGDic0Lxl0tMkSZIkSVIdYWSqxeJ7b5OeMh6WLIJGjSveb+miYYSmzZKeJkmSJEmS6hgjUy0UVy4jXVgAS1+BJnmEy68jXHApITcv6WmSJEmSJKmOMjLVEjFGWP5aRVx663Vo2pxw5U2EAZcQGjdJep4kSZIkSarjjEw1XIyRXS8tIP3Yv8M7y6F5K8KoLxP6DSI0bJT0PEmSJEmSJMDIVOPFBc+w4Y//H7TKJ1x3J6HPRYScBknPkiRJkiRJ+gQjUw0XzjiPFs2bs7VHT0L9nKTnSJIkSZIkfapU0gP02UKjxuQNHGZgkiRJkiRJNZqRSZIkSZIkSZVWLS+Xe+yxx1i4cCHr16/nl7/8JZ07dwagpKSEcePGsWPHDvLy8hg7dizt27f/3PskSZIkSZJUs1TLlUy9e/fmxz/+MW3atPnE7Q8//DCDBg3it7/9LYMGDeKhhx7K6D5JkiRJkiTVLNUSmXr06EF+fv4nbtu6dSurVq2iT58+APTp04dVq1axbdu2z7zv05SWlrJu3boD/iNJkiRJkqTqkdhPl9u4cSOtWrUilaroXKlUipYtW7JhwwaAg97XrFmzA75WYWEhEydOPOD2goICOnToUIXPovpky/OQqppnRcqMZ0XKjGdFyoxnRcpMtp+VxCLT4TR06FAGDBjwqfeVlJRU75gq0KFDh6x4HlJV86xImfGsSJnxrEiZ8axImcmms3KwWJZYZGrdujWbNm0inU6TSqVIp9Ns3ryZ/Px8YowHve/T5ObmkpubW83PQJIkSZIkSf+nWt6T6dM0b96cLl26UFxcDEBxcTFdu3alWbNmn3mfJEmSJEmSap5quZLp0UcfZdGiRWzZsoWf/OQnNG3alH/7t39j9OjRjBs3jkmTJpGbm8vYsWP3f85n3SdJkiRJkqSaJcQYY9IjqlI2vN4xm163KVUlz4qUGc+KlBnPipQZz4qUmWw6Kwd7T6bEXi4nSZIkSZKk7GFkkiRJkiRJUqUZmSRJkiRJklRpRiZJkiRJkiRVmpFJkiRJkiRJlWZkkiRJkiRJUqUZmSRJkiRJklRpRiZJkiRJkiRVmpFJkiRJkiRJlWZkkiRJkiRJUqUZmSRJkiRJklRpRiZJkiRJkiRVWogxxqRHSJIkSZIkqXbzSqYabt26dYwaNYp169YlPUWq0TwrUmY8K1JmPCtSZjwrUmbqylkxMkmSJEmSJKnSjEySJEmSJEmqNCOTJEmSJEmSKs3IJEmSJEmSpEozMtVwubm5jBgxgtzc3KSnSDWaZ0XKjGdFyoxnRcqMZ0XKTF05KyHGGJMeIUmSJEmSpNrNK5kkSZIkSZJUaUYmSZIkSZIkVVr9pAeoQklJCePGjWPHjh3k5eUxduxY2rdv/4mPSafTPProoyxZsgSA4cOHc+GFFyYxV0pMJmdl4sSJLFiwgHr16pFKpbj22mvp2bNnMoOlhGRyVv72Y7/97W8zcOBAbrzxxmpeKiUr07OyYMECJk2atP/3P/jBD2jRokU1LpWSlclZ2bp1K//+7//Oxo0bKS8v56STTuKWW26hXr16Ca2Wqtdjjz3GwoULWb9+Pb/85S/p3LnzAR+T7d/XeyVTDfHwww8zaNAgfvvb3zJo0CAeeuihAz5m3rx5fPzxx/z2t7/lpz/9KRMmTGDdunUJrJWSk8lZOeaYY/jZz37Gv/7rv3LXXXfxm9/8hr179yawVkpOJmcFKv6i89BDD3HmmWdW80KpZsjkrLzzzjtMmDCBH/zgB/zqV7/iJz/5CU2aNElgrZScTM7K5MmT6dixI7/85S/55S9/ybvvvsvChQsTWCslo3fv3vz4xz+mTZs2B/2YbP++3shUA2zdupVVq1bRp08fAPr06cOqVavYtm3bJz5uwYIFXHjhhaRSKZo1a8aZZ57JCy+8kMRkKRGZnpWePXvSsGFDAI466ihijGzfvr3a90pJyfSsADzxxBOcfvrpB73KScpmmZ6VwsJCLrvssv1XLjVp0oQGDRpU91wpMYfy58ru3btJp9OUl5dTXl5Oq1atqnuulJgePXqQn5//mR+T7d/XG5lqgI0bN9KqVStSqYr/OVKpFC1btmTDhg2f+LgNGzZ84v+w+fn5B3yMlM0yPSt/a86cObRr147WrVtX10wpcZmelffff58lS5Zw6aWXJjFTSlymZ2X16tWsW7eOH/3oR9x7771MmjQJf0Cz6pJMz8qIESNYs2YNd9xxB6NHj+bUU0+lR48eSUyWaqxs/77eyCQpay1btozx48fzta99LekpUo1TXl7Ogw8+yOjRo/d/0yDp0+3bt4/333+f73//+/zjP/4jixcvZu7cuUnPkmqc559/ns6dO/Pggw/y4IMP8uabb2bVFRqSPp9/q6wBWrduzaZNm0in00DF+2Ns3rz5gMvs/r5w/n0BlbJdpmcFYMWKFfzud7/jW9/6Fh06dKjuqVKiMjkrW7Zs4eOPP+ZnP/sZY8aMYerUqTzzzDM8+OCDSc2Wql2mf660adOGs88+m5ycHBo3bkyvXr1YuXJlEpOlRGR6VqZNm0bfvn1JpVI0adKEXr16sXTp0iQmSzVWtn9fb2SqAZo3b06XLl0oLi4GoLi4mK5du9KsWbNPfNw555zDM888QzqdZtu2bbz44oucddZZSUyWEpHpWVm5ciW//vWv+cY3vsHRRx+dxFQpUZmclfz8fB555BHGjRvHuHHjGDJkCBdeeCF33HFHUrOlapfpnyt9+vRhyZIlxBgpLy9n6dKlHHXUUUlMlhKR6Vlp06YNixcvBiqumH399dc/9adrSXVZtn9fH6IvKK8RPvroI8aNG0dpaSm5ubmMHTuWDh068LOf/YxRo0bRrVs30uk0jzzyCK+99hoAw4YN46KLLkp4uVS9Mjkr3/nOd1i3bt0n3mjyK1/5in/JUZ2SyVn5WwUFBezevZsbb7wxocVSMjL9O9if/vQnFi9eTAiBU089lRtuuMGXmqpOyeSsrF27locffpgtW7aQTqc58cQTueWWW6hXr17S86Vq8eijj7Jo0SK2bNlC06ZNadq0Kf/2b/9Wp76vNzJJkiRJkiSp0vzXL5IkSZIkSao0I5MkSZIkSZIqzcgkSZIkSZKkSjMySZIkSZIkqdKMTJIkSZIkSao0I5MkSVIVefzxx/nDH/6QyGOPGTNm/49HPpgNGzZwww03kE6nq2mVJEnKZvWTHiBJknQ4jRkzhjvuuINTTjkl6SlceeWVlfr8lStXMmHCBN566y1CCLRr146BAwdy/vnnH5Z9+fn5/OlPfzosX0uSJMnIJEmSVAOtWLGCn/zkJ1x11VWMGTOGpk2bsmrVKp544onDFpkkSZIOJyOTJEnKGr/73e/YsGED999/P6lUihEjRjBs2DBWrFjBY489xurVq2nTpg0333wzJ554IgD/+I//SI8ePVi6dCnvv/8+J554ImPGjOE///M/efnll+nQoQP33HMPbdu2BWDUqFHcfPPNTJ06lV27djFgwACuv/56UqkD34WgoKCAtWvX8tWvfpV169YxduxY7r77bsaPH8/evXsZOnToQa92+tOf/kT//v0ZPnz4/tuOPvpovvGNb+z//csvv8z//u//sn79ejp16sTo0aM56qijDvhaK1eu5D/+4z9Ys2YNDRo0oE+fPtx00037N/3lL3+hXr16B1wF9rf79+7dyx/+8AcWL15MOp2mffv23HvvvbRo0eKL/s8lSZKyjJFJkiRlja985SssX778E6Fk06ZN/PznP2fs2LH07NmTpUuX8qtf/Yrf/OY3NGvWDID58+fzve99j2bNmvG9732P73//+3z5y19mzJgxPPDAA0ycOJG77757/+O8+OKL/PznP2f37t385Cc/oUOHDlx44YUZbVy+fDm//e1vKSkp4bvf/S69e/emU6dOn/iYPXv2sGLFCq6++uqDfp13332XBx54gHvvvZdu3boxd+5cfvGLX/Cb3/yGnJycT3zsf/7nfzJkyBD69evH7t27+eCDDzLa+rfmzJnDzp07eeCBB8jJyeG9996jQYMGh/x1JElS9vKNvyVJUlabO3cup512GqeffjqpVIpTTjmFbt268corr+z/mPPPP5927drRpEkTTjvtNI444ghOOeUU6tWrx9lnn82qVas+8TWHDRtGXl4e+fn5DBkyhPnz52e8Z+TIkTRo0IAuXbpw1FFH8f777x/wMaWlpcQYadmy5UG/zjPPPMNFF13EscceSyqVYsCAAdSvX5+33377gI+tX78+a9euZdu2bTRq1Iju3btnvPf/1KtXjx07drB27VpSqRRHH300TZo0OeSvI0mSspdXMkmSpKy2YcMGXnjhBV5++eX9t+3bt2//y+UAmjdvvv/XDRo0OOD3u3fv/sTXbN269f5ft2nThs2bN2e8529fXtawYcMDvjZAbm4uIQQ2b95Mx44dD/q85syZw7Rp0/bfVl5ezqZNmw742DvvvJPx48fvf9nfiBEjOOOMMzLeDNCvXz82btzIb37zG3bu3Enfvn255pprqF/fv05KkqQK/q1AkiRltdatW9O3b1/uvPPOw/Y1N27cyJFHHglUxJ7PuuLoi2jYsCHdu3dn4cKFnHTSSZ/6Ma1bt+bKK6/M6CfYtW/fnq9//euk02kWLVrEv/3bv/HII4986uPu3bt3/++3bNmy/9f169dn5MiRjBw5knXr1vGzn/2MDh06cMEFFxz6E5QkSVnJl8tJkqSs0qJFC9atW7f/93379uXll1/e/4bVe/fu5Y033mDjxo1f+DGeeuopduzYwYYNG5g6dSrnnnvu4Zj+CV/60pd47rnn/v/27pclsigOA/C7F4PYBW2Cgn+yRUQQDLZBDJoNMtEmNr+CYxUmyCTBYrUJhilisIkgfgDDjDgjiNewYHHS3l1cd5+nHvjdc+rLe87N2dlZut1ukuT+/j4HBwdJkpWVlZyfn+f29jZlWabf7+fq6iq9Xu/TrIuLi3Q6nRRF8XHFbdBD5RMTE7m8vMzr62vu7u7Sbrc/1m5ubvLw8JC3t7eMjIxkaGho4AwA4P+lyQQA/FPW1tbSbDbTarWyvr6eWq2W3d3dtFqtNBqNFEWRqampbG9v//I35ufns7e3l+fn5ywvL/+RNs/09HT29/dzcnKS09PTFEWR8fHxrK6uJkkmJydTr9fTbDY//ho3MzOT2dnZT7Our69zfHycl5eXjI6OZmdnZ+Cj3Zubm2k0Gtna2src3FwWFxfz9PSU5Ger6ejoKI+PjxkeHs7CwkKWlpZ++7kBgO/rR1mW5VdvAgDgu9jY2Mjh4WHGxsa+eisAAH8VHWcAAAAAKhMyAQAAAFCZ63IAAAAAVKbJBAAAAEBlQiYAAAAAKhMyAQAAAFCZkAkAAACAyoRMAAAAAFQmZAIAAACgsnd8vnwUaCXUAgAAAABJRU5ErkJggg==\n",
          "text/plain": "<Figure size 1440x720 with 1 Axes>"
         },
         "metadata": {},
         "output_type": "display_data"
        }
       ]
      }
     },
     "18135a3fe56f4868a20c21e9eb6e65d6": {
      "model_module": "@jupyter-widgets/base",
      "model_module_version": "1.2.0",
      "model_name": "LayoutModel",
      "state": {}
     },
     "188312c8c75d4d5ebae0d2832f9e5513": {
      "model_module": "@jupyter-widgets/base",
      "model_module_version": "1.2.0",
      "model_name": "LayoutModel",
      "state": {}
     },
     "189ca922b1e045f0a76d3ad9fe461a24": {
      "model_module": "@jupyter-widgets/base",
      "model_module_version": "1.2.0",
      "model_name": "LayoutModel",
      "state": {}
     },
     "18aa191a064242ee9b26bfeafc73dbb4": {
      "model_module": "@jupyter-widgets/base",
      "model_module_version": "1.2.0",
      "model_name": "LayoutModel",
      "state": {}
     },
     "18b6d593262541f7b6b10baaa6e953f8": {
      "model_module": "@jupyter-widgets/output",
      "model_module_version": "1.0.0",
      "model_name": "OutputModel",
      "state": {
       "layout": "IPY_MODEL_c403c32686c64b608f8ef410b21c963b",
       "outputs": [
        {
         "name": "stdout",
         "output_type": "stream",
         "text": "Date Chosen: 2021-09-10\n"
        }
       ]
      }
     },
     "18c59a1dd87f4f2a90f93e2e2679590b": {
      "model_module": "@jupyter-widgets/controls",
      "model_module_version": "1.5.0",
      "model_name": "DescriptionStyleModel",
      "state": {
       "description_width": ""
      }
     },
     "18e3cb0e4cfe4d4385803c6b6a375344": {
      "model_module": "@jupyter-widgets/base",
      "model_module_version": "1.2.0",
      "model_name": "LayoutModel",
      "state": {}
     },
     "1908ccaa0ef34aa6b9667e121307fc5e": {
      "model_module": "@jupyter-widgets/controls",
      "model_module_version": "1.5.0",
      "model_name": "DescriptionStyleModel",
      "state": {
       "description_width": ""
      }
     },
     "190b72457d914123a22438bf645c9988": {
      "model_module": "@jupyter-widgets/base",
      "model_module_version": "1.2.0",
      "model_name": "LayoutModel",
      "state": {}
     },
     "1926ca192e2b43759849c94ff4af73c1": {
      "model_module": "@jupyter-widgets/base",
      "model_module_version": "1.2.0",
      "model_name": "LayoutModel",
      "state": {}
     },
     "199695560ae5461f86bcc1ca91a1ecc6": {
      "model_module": "@jupyter-widgets/controls",
      "model_module_version": "1.5.0",
      "model_name": "ButtonModel",
      "state": {
       "description": "View Predictions",
       "layout": "IPY_MODEL_d5b50e8e98b9426fac457ebec1f68b0b",
       "style": "IPY_MODEL_35f24e007acd47b58d9780a1ce957f0f"
      }
     },
     "1cbcd52fd6dd4104a3a9abd4c2450dcd": {
      "model_module": "@jupyter-widgets/base",
      "model_module_version": "1.2.0",
      "model_name": "LayoutModel",
      "state": {}
     },
     "1dea0d8e0236426ab4630efb0aebf09e": {
      "model_module": "@jupyter-widgets/base",
      "model_module_version": "1.2.0",
      "model_name": "LayoutModel",
      "state": {}
     },
     "1fca15f0274b48b896d38056e430699c": {
      "model_module": "@jupyter-widgets/controls",
      "model_module_version": "1.5.0",
      "model_name": "ButtonModel",
      "state": {
       "description": "View Predictions",
       "layout": "IPY_MODEL_8a58dded3d174a7c997059f370e4d8da",
       "style": "IPY_MODEL_95a3151bdc2546589a1775e0205673af"
      }
     },
     "2149f788cf1d47b7825f8228910f77f4": {
      "model_module": "@jupyter-widgets/controls",
      "model_module_version": "1.5.0",
      "model_name": "ButtonModel",
      "state": {
       "description": "View Predictions",
       "layout": "IPY_MODEL_4bd2be2501ab44a5867a3ef58fc6fea4",
       "style": "IPY_MODEL_66b935f6b86642eb9431aa5610c0a40a"
      }
     },
     "21c6cf0474d54a74b4ac4ec43f127838": {
      "model_module": "@jupyter-widgets/base",
      "model_module_version": "1.2.0",
      "model_name": "LayoutModel",
      "state": {}
     },
     "22e9f03511c841978037f5c6411852e4": {
      "model_module": "@jupyter-widgets/controls",
      "model_module_version": "1.5.0",
      "model_name": "ButtonModel",
      "state": {
       "description": "View Predictions",
       "layout": "IPY_MODEL_05416f2f32dd4eb791e3577f3d639c86",
       "style": "IPY_MODEL_dc2b70c6534647d8bce0a56d09166a9c"
      }
     },
     "24085bf60e394402b252885487b4adda": {
      "model_module": "@jupyter-widgets/output",
      "model_module_version": "1.0.0",
      "model_name": "OutputModel",
      "state": {
       "layout": "IPY_MODEL_18135a3fe56f4868a20c21e9eb6e65d6"
      }
     },
     "2525af7943c74f3abd98fb64965abf98": {
      "model_module": "@jupyter-widgets/controls",
      "model_module_version": "1.5.0",
      "model_name": "HBoxModel",
      "state": {
       "children": [
        "IPY_MODEL_a129e426926d4649948545755cab319d",
        "IPY_MODEL_3875ec027cde45c5990f25ba5e4c0d0a"
       ],
       "layout": "IPY_MODEL_fe8bc0ef518d4219ba740898683fec70"
      }
     },
     "2765267a12e5447c85a6193c75049262": {
      "model_module": "@jupyter-widgets/base",
      "model_module_version": "1.2.0",
      "model_name": "LayoutModel",
      "state": {}
     },
     "27a4a8cf57c041a69517c13d243ab40d": {
      "model_module": "@jupyter-widgets/controls",
      "model_module_version": "1.5.0",
      "model_name": "VBoxModel",
      "state": {
       "children": [
        "IPY_MODEL_a3d9ccce0491491d84bd7dd3f957c651"
       ],
       "layout": "IPY_MODEL_efbef6417bd942d388e989c49d3bdc10"
      }
     },
     "27fa958c6062482287fa3c6c4a1e1088": {
      "model_module": "@jupyter-widgets/controls",
      "model_module_version": "1.5.0",
      "model_name": "VBoxModel",
      "state": {
       "children": [
        "IPY_MODEL_57052cce499d430cb4c62acdeb7c4823"
       ],
       "layout": "IPY_MODEL_077c125bae8e49a0b71565880c42b1b5"
      }
     },
     "28ee5f6964d345c8bcc82db9ab688543": {
      "model_module": "@jupyter-widgets/base",
      "model_module_version": "1.2.0",
      "model_name": "LayoutModel",
      "state": {}
     },
     "29d8c8523b51427d9b2f610275db34b1": {
      "model_module": "@jupyter-widgets/base",
      "model_module_version": "1.2.0",
      "model_name": "LayoutModel",
      "state": {}
     },
     "2c801778a2ea420fad080195c4915619": {
      "model_module": "@jupyter-widgets/output",
      "model_module_version": "1.0.0",
      "model_name": "OutputModel",
      "state": {
       "layout": "IPY_MODEL_fe68343e02d94c55aa026f5fe966a107",
       "outputs": [
        {
         "name": "stdout",
         "output_type": "stream",
         "text": "Temperature Chosen: 0.7\n"
        }
       ]
      }
     },
     "2d1cac13b4484e7d8f0373359f4404e5": {
      "model_module": "@jupyter-widgets/output",
      "model_module_version": "1.0.0",
      "model_name": "OutputModel",
      "state": {
       "layout": "IPY_MODEL_5089f1e640264254b406f4b6e0840d9f",
       "outputs": [
        {
         "name": "stdout",
         "output_type": "stream",
         "text": "Temperature Chosen: 0.6\n"
        }
       ]
      }
     },
     "2ef6205b89224ffb808c6f8bd3e5d68a": {
      "model_module": "@jupyter-widgets/controls",
      "model_module_version": "1.5.0",
      "model_name": "HBoxModel",
      "state": {
       "children": [
        "IPY_MODEL_ff79b18976674fb49f347005d7f6542d",
        "IPY_MODEL_804073ce7e044533a28f77841b0886eb"
       ],
       "layout": "IPY_MODEL_420f00d7cfdb49e4a3085b92c3b16d98"
      }
     },
     "3010396fbbc64eb7bc88d033b8145d52": {
      "model_module": "@jupyter-widgets/controls",
      "model_module_version": "1.5.0",
      "model_name": "FloatSliderModel",
      "state": {
       "continuous_update": false,
       "description": "Temp Celsius",
       "layout": "IPY_MODEL_64eb07e921b840c3a5cdead081e2c6b7",
       "max": 1,
       "readout_format": ".1f",
       "step": 0.1,
       "style": "IPY_MODEL_81f8ed943096424faa9eb72ee26690e5",
       "value": 0.7
      }
     },
     "305f67b51da043b4a80db6db3fcf2686": {
      "model_module": "@jupyter-widgets/base",
      "model_module_version": "1.2.0",
      "model_name": "LayoutModel",
      "state": {}
     },
     "306c93150cc34193b3cb6aa38e729622": {
      "model_module": "@jupyter-widgets/controls",
      "model_module_version": "1.5.0",
      "model_name": "ButtonModel",
      "state": {
       "description": "View Predictions",
       "layout": "IPY_MODEL_8d44313edd684914a17f8551b3eacc5d",
       "style": "IPY_MODEL_42e44de26d894510b1044c3ef1ce3678"
      }
     },
     "31dd5078251b4bbaa55b2d25477d9500": {
      "model_module": "@jupyter-widgets/controls",
      "model_module_version": "1.5.0",
      "model_name": "HBoxModel",
      "state": {
       "children": [
        "IPY_MODEL_27fa958c6062482287fa3c6c4a1e1088",
        "IPY_MODEL_c054524d670c49789aa4509e3a93c68f"
       ],
       "layout": "IPY_MODEL_efd5c776a6a44747ab00ea6cfd982479"
      }
     },
     "326a44a911df4289b608bafa0db3f2c6": {
      "model_module": "@jupyter-widgets/base",
      "model_module_version": "1.2.0",
      "model_name": "LayoutModel",
      "state": {}
     },
     "32f2b785c7904987821d4792c4014c88": {
      "model_module": "@jupyter-widgets/base",
      "model_module_version": "1.2.0",
      "model_name": "LayoutModel",
      "state": {}
     },
     "331c8db6d7c2471f80f819e15c19cb64": {
      "model_module": "@jupyter-widgets/controls",
      "model_module_version": "1.5.0",
      "model_name": "DescriptionStyleModel",
      "state": {
       "description_width": ""
      }
     },
     "33ce7212eb994772ba31bc448db72823": {
      "model_module": "@jupyter-widgets/controls",
      "model_module_version": "1.5.0",
      "model_name": "ButtonStyleModel",
      "state": {}
     },
     "3413dcfc700a4326ab003a009d0e1f21": {
      "model_module": "@jupyter-widgets/base",
      "model_module_version": "1.2.0",
      "model_name": "LayoutModel",
      "state": {}
     },
     "348a67c413674bc5be76da77aab510d6": {
      "model_module": "@jupyter-widgets/base",
      "model_module_version": "1.2.0",
      "model_name": "LayoutModel",
      "state": {}
     },
     "35f24e007acd47b58d9780a1ce957f0f": {
      "model_module": "@jupyter-widgets/controls",
      "model_module_version": "1.5.0",
      "model_name": "ButtonStyleModel",
      "state": {}
     },
     "370a9b7e35824446aa2072d407066c89": {
      "model_module": "@jupyter-widgets/base",
      "model_module_version": "1.2.0",
      "model_name": "LayoutModel",
      "state": {}
     },
     "37ee394eb3b943a2b701ba63e6a33a5c": {
      "model_module": "@jupyter-widgets/controls",
      "model_module_version": "1.5.0",
      "model_name": "VBoxModel",
      "state": {
       "children": [
        "IPY_MODEL_0f9b32e651f847d1aee513d138f9e81d"
       ],
       "layout": "IPY_MODEL_805431d8fccc40b5b233faba4742a1ff"
      }
     },
     "3875ec027cde45c5990f25ba5e4c0d0a": {
      "model_module": "@jupyter-widgets/output",
      "model_module_version": "1.0.0",
      "model_name": "OutputModel",
      "state": {
       "layout": "IPY_MODEL_b6247bdb5c6b4fc3b2d6966b6b032578",
       "outputs": [
        {
         "name": "stdout",
         "output_type": "stream",
         "text": "Temperature Chosen: 0.7\n"
        }
       ]
      }
     },
     "392541d495714860988d39150b125911": {
      "model_module": "@jupyter-widgets/output",
      "model_module_version": "1.0.0",
      "model_name": "OutputModel",
      "state": {
       "layout": "IPY_MODEL_12a092ee69d74de1b6396cb0b50243bb",
       "outputs": [
        {
         "name": "stdout",
         "output_type": "stream",
         "text": "   mnth weekday  hr  temp  bikes_rented\n12  Sep     Fri  12   0.0    100.625000\n12  Sep     Fri  12   0.2    162.796875\n12  Sep     Fri  12   0.4    224.968750\n12  Sep     Fri  12   0.6    287.156250\n12  Sep     Fri  12   0.8    349.328125\n12  Sep     Fri  12   1.0    411.515625\n"
        },
        {
         "data": {
          "image/png": "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\n",
          "text/plain": "<Figure size 1440x720 with 1 Axes>"
         },
         "metadata": {},
         "output_type": "display_data"
        }
       ]
      }
     },
     "3a0b23d4efe24504947436ad44a21c4d": {
      "model_module": "@jupyter-widgets/controls",
      "model_module_version": "1.5.0",
      "model_name": "HBoxModel",
      "state": {
       "children": [
        "IPY_MODEL_6f7c309b344c45eea3ac098c50517466",
        "IPY_MODEL_d6d7ece1d316448d83e267e75e236560"
       ],
       "layout": "IPY_MODEL_b13c7fa86d62441dbd4834b83f8261fe"
      }
     },
     "3a2a6a1895f2477282d5f3c41357c501": {
      "model_module": "@jupyter-widgets/base",
      "model_module_version": "1.2.0",
      "model_name": "LayoutModel",
      "state": {}
     },
     "3c5d40ab21234a1ab980ae48327b1c8b": {
      "model_module": "@jupyter-widgets/controls",
      "model_module_version": "1.5.0",
      "model_name": "DescriptionStyleModel",
      "state": {
       "description_width": ""
      }
     },
     "3d10f060e3ad4a2b9424523cf98de575": {
      "model_module": "@jupyter-widgets/base",
      "model_module_version": "1.2.0",
      "model_name": "LayoutModel",
      "state": {}
     },
     "3d89c1e2f696457eb00dfb7958fddafc": {
      "model_module": "@jupyter-widgets/base",
      "model_module_version": "1.2.0",
      "model_name": "LayoutModel",
      "state": {}
     },
     "3e65022f5c354733838a8b76357e31be": {
      "model_module": "@jupyter-widgets/controls",
      "model_module_version": "1.5.0",
      "model_name": "ButtonStyleModel",
      "state": {}
     },
     "40a0eeabf1cd4d44849ad5e249eaeb21": {
      "model_module": "@jupyter-widgets/controls",
      "model_module_version": "1.5.0",
      "model_name": "VBoxModel",
      "state": {
       "children": [
        "IPY_MODEL_7ded95d9656f4f159ae770a9cfe0f670"
       ],
       "layout": "IPY_MODEL_726ea68ea99e4026a187c96f315402b6"
      }
     },
     "420f00d7cfdb49e4a3085b92c3b16d98": {
      "model_module": "@jupyter-widgets/base",
      "model_module_version": "1.2.0",
      "model_name": "LayoutModel",
      "state": {}
     },
     "42e44de26d894510b1044c3ef1ce3678": {
      "model_module": "@jupyter-widgets/controls",
      "model_module_version": "1.5.0",
      "model_name": "ButtonStyleModel",
      "state": {}
     },
     "44307c62658c44c9988935cede0fcb3d": {
      "model_module": "@jupyter-widgets/base",
      "model_module_version": "1.2.0",
      "model_name": "LayoutModel",
      "state": {}
     },
     "448c8e6d62d94de7a10d71d15c1bcc57": {
      "model_module": "@jupyter-widgets/output",
      "model_module_version": "1.0.0",
      "model_name": "OutputModel",
      "state": {
       "layout": "IPY_MODEL_3a2a6a1895f2477282d5f3c41357c501",
       "outputs": [
        {
         "name": "stdout",
         "output_type": "stream",
         "text": "   mnth weekday  season workingday holiday  hr  bikes_rented\n0   Sep     Fri  summer        yes      no   0    125.218750\n1   Sep     Fri  summer        yes      no   1    108.375000\n2   Sep     Fri  summer        yes      no   2    100.187500\n3   Sep     Fri  summer        yes      no   3     90.109375\n4   Sep     Fri  summer        yes      no   4     85.515625\n5   Sep     Fri  summer        yes      no   5    100.484375\n6   Sep     Fri  summer        yes      no   6    158.031250\n7   Sep     Fri  summer        yes      no   7    295.093750\n8   Sep     Fri  summer        yes      no   8    434.187500\n9   Sep     Fri  summer        yes      no   9    292.140625\n10  Sep     Fri  summer        yes      no  10    233.890625\n11  Sep     Fri  summer        yes      no  11    266.765625\n12  Sep     Fri  summer        yes      no  12    304.156250\n13  Sep     Fri  summer        yes      no  13    299.906250\n14  Sep     Fri  summer        yes      no  14    283.921875\n15  Sep     Fri  summer        yes      no  15    294.718750\n16  Sep     Fri  summer        yes      no  16    357.257812\n17  Sep     Fri  summer        yes      no  17    508.726562\n18  Sep     Fri  summer        yes      no  18    468.304688\n19  Sep     Fri  summer        yes      no  19    365.578125\n20  Sep     Fri  summer        yes      no  20    287.023438\n21  Sep     Fri  summer        yes      no  21    242.093750\n22  Sep     Fri  summer        yes      no  22    199.578125\n23  Sep     Fri  summer        yes      no  23    158.312500\n"
        },
        {
         "data": {
          "image/png": "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\n",
          "text/plain": "<Figure size 864x432 with 1 Axes>"
         },
         "metadata": {
          "needs_background": "light"
         },
         "output_type": "display_data"
        }
       ]
      }
     },
     "45039c2a8072430ca37052e071abb8be": {
      "model_module": "@jupyter-widgets/output",
      "model_module_version": "1.0.0",
      "model_name": "OutputModel",
      "state": {
       "layout": "IPY_MODEL_fd2f51cd984144c9933521e96441d1ff",
       "outputs": [
        {
         "name": "stdout",
         "output_type": "stream",
         "text": "Date Chosen: 2021-09-09\n"
        }
       ]
      }
     },
     "454d7dd0f59f4382affabfc20e55564f": {
      "model_module": "@jupyter-widgets/controls",
      "model_module_version": "1.5.0",
      "model_name": "VBoxModel",
      "state": {
       "children": [
        "IPY_MODEL_95491e8020264cea92e378de826e6924"
       ],
       "layout": "IPY_MODEL_78759ec911cf4556a47bf7435e23121f"
      }
     },
     "4563757d7f424859bec380402d70ae34": {
      "model_module": "@jupyter-widgets/output",
      "model_module_version": "1.0.0",
      "model_name": "OutputModel",
      "state": {
       "layout": "IPY_MODEL_c3480176561241d19e4a929c7811754e",
       "outputs": [
        {
         "name": "stdout",
         "output_type": "stream",
         "text": "Date Chosen: 2021-09-10\n"
        }
       ]
      }
     },
     "458b544c7b3245899f5f9288844d4a6b": {
      "model_module": "@jupyter-widgets/output",
      "model_module_version": "1.0.0",
      "model_name": "OutputModel",
      "state": {
       "layout": "IPY_MODEL_5c7e0ac51eac44819ce21d3ad6b99f7b",
       "outputs": [
        {
         "name": "stdout",
         "output_type": "stream",
         "text": "   mnth weekday  temp  season workingday holiday  hr  bikes_rented\n0   Sep     Fri   0.7  summer        yes      no   0     135.31250\n1   Sep     Fri   0.7  summer        yes      no   1     119.46875\n2   Sep     Fri   0.7  summer        yes      no   2     111.34375\n3   Sep     Fri   0.7  summer        yes      no   3     100.37500\n4   Sep     Fri   0.7  summer        yes      no   4      92.84375\n5   Sep     Fri   0.7  summer        yes      no   5     113.12500\n6   Sep     Fri   0.7  summer        yes      no   6     171.28125\n7   Sep     Fri   0.7  summer        yes      no   7     305.90625\n8   Sep     Fri   0.7  summer        yes      no   8     447.65625\n9   Sep     Fri   0.7  summer        yes      no   9     295.87500\n10  Sep     Fri   0.7  summer        yes      no  10     243.71875\n11  Sep     Fri   0.7  summer        yes      no  11     277.56250\n12  Sep     Fri   0.7  summer        yes      no  12     315.65625\n13  Sep     Fri   0.7  summer        yes      no  13     309.75000\n14  Sep     Fri   0.7  summer        yes      no  14     293.68750\n15  Sep     Fri   0.7  summer        yes      no  15     300.71875\n16  Sep     Fri   0.7  summer        yes      no  16     361.00000\n17  Sep     Fri   0.7  summer        yes      no  17     521.59375\n18  Sep     Fri   0.7  summer        yes      no  18     479.75000\n19  Sep     Fri   0.7  summer        yes      no  19     373.75000\n20  Sep     Fri   0.7  summer        yes      no  20     296.06250\n21  Sep     Fri   0.7  summer        yes      no  21     249.56250\n22  Sep     Fri   0.7  summer        yes      no  22     210.50000\n23  Sep     Fri   0.7  summer        yes      no  23     169.59375\n"
        },
        {
         "data": {
          "image/png": "iVBORw0KGgoAAAANSUhEUgAAAtsAAAGJCAYAAABb3v/JAAAAOXRFWHRTb2Z0d2FyZQBNYXRwbG90bGliIHZlcnNpb24zLjMuNCwgaHR0cHM6Ly9tYXRwbG90bGliLm9yZy8QVMy6AAAACXBIWXMAAAsTAAALEwEAmpwYAAAlfUlEQVR4nO3deZSlVX3u8e9DE8SI0mpAbJpBlFYXRkijQaMYNVHUhDgkUUkUCYmReA2XrFyv0YugJkaNQ4iKglGuKKZjnOfozXJIo4gGaVC00yo09iDQDM2koDa/+8f7Nh6Lmk5z9qmhv5+1zqqqvc+7f/tUV20edr3nfVNVSJIkSRq9XeZ6ApIkSdJiZdiWJEmSGjFsS5IkSY0YtiVJkqRGDNuSJElSI4ZtSZIkqRHDtiQtQklekeScuZ6HJO3sDNuSNI0kj07ylSTXJ7k2yZeTPHwE4x6X5NxRzHEuJHlcki/035f1k/Qf2Pf/KMnaJL89xNhvSPLdJDf2xx47of+wJBf0Y1+Q5LCBvuf1bTck2ZjkH5LsOtD/oiT/leTWJO/eoRcvSUMwbEvSFJLcA/gk8BbgXsC+wCuBW+dyXuM2GFYH3AycBbx4isNWARcC9wb+D/DBJHvNsuTNwNHAnsDzgH9K8hv9XHYDPgacA9wTOBv4WN8O8MvAScCvAEcAvwX8r4GxNwN/189dkpozbEvS1FYAVNWqqtpWVT+uqs9V1cXbn5Dk+CTfSXJdks8mOWCgr5KcmOTSJFcneX2SXZI8GDgDeGSSm5Js7Z9/l35X9wdJrkxyRpK79n2P7Xdq/3eSq5L8MMnTkjwlybp+1/1lE+a/e5L39zvE30hy6MDcliX5UJItSS5LcuJA3yuSfDDJOUluAI6b+I2pqq9V1XuBSyf2JVkBrARO7b9nHwK+Cfz+bL7pVXVqVa2tqtuq6nxgNfDIvvuxwK7AaVV1a1W9GQjw+P7Yt1fV6qr6SVVtAt4HPGpg7A9X1UeBa2YzF0m6swzbkjS1dcC2JGcneXKSew52Jnka8DLgGcBedKFw1YQxng48jC58PhU4vqq+A5wAnFdVe1TV0v65r6ML+IcBD6DbST9lYKx9gN0H2v8ZeA5wOHAkcEqSgwae/1TgA3S78v8CfDTJLyXZBfgEcFE/1m8BJyU5asKxHwSW0gXWYRwCXFpVNw60XdS3D6X/n42HA5cMjH1xVdXA0y6eZuzHDBwrSWNn2JakKVTVDcCjgaILtluSfDzJffqnvAB4TVV9p6p+Bvw9cNjg7jbwuqq6tqp+AJwGHDNZrSQBng/8Vf/8G/vxnj3wtJ8Cr66qnwL/SneqxD9V1Y1VdQldqHzowPMvqKoP9s9/E11QfwRdeN2rql7V7wBf2r++wVrnVdVH+93lHw/zfQP2AK6f0HY9cPchx4HuLwAXAZ8dduwkf0L3Pzpv2IG6kjQSk52HJ0nq9bvQxwEkeRDducKn0YXmA+jOJ37jwCGh2y2+vP96w0Df5cCyKUrtRXe+8QVd7r59rCUDz7mmqrb1n28PwFcO9P+YLoxud3vtqrotyca+fgHLtp++0ltCtzN/h2N3wE3APSa03QO4cZLnTinJ64GHAI8b2Mme1dj9Xx1eC/x2VV09TF1JGiV3tiVplqpqLfBuugAIXSB9QVUtHXjctaq+MnDYfgOf70/3Bj3oAu+gq+nC8iEDY+1ZVXuw426v3Z86sryvvwG4bMK8715VTxl8uXei7iXAQUkGd5sPZYjTOZK8Engy8MT+LwyDYz80A/9HQrebf8nAsU+i26k/uqq+uQPzl6SRMWxL0hSSPCjJXydZ3n+9H92O9lf7p5wBvDTJIX3/nkn+cMIwL05yz/7Y/wm8v2+/Eli+/SoaVXUbXUD8xyR79+PtO+E86mEdnuQZ/dVETqK7ispXga8BNyR5SZK7JlmS5CEZ4pKG/Rs9dwd+qfsyuw+8lnXAGuDUvv3pdIH4Q/2xB/ZvHj1wirFfCvwR8ISqmvhGxi8C24AT+zeUvqhv/3x/7OPpzjH//ar62iRj79rPewmwpJ+ff+WV1IxhW5KmdiPd5ePOT3IzXVD9FvDXAFX1Ebo3Nf5rf9WOb9Htxg76GHABXfj8FPCuvv3zdLuxVyTZfprDS4DvAV/tx/sP4IF3Yv4fA54FXAc8F3hGVf20PxXlaLo3Yl5Gt6v+TrpL7c3WY+h24j9Nt2P/Y+BzA/3Ppjtf+jq60zn+oKq29H370Z1Ss2mKsf++H/O7/dVabtp+pZWq+gnwNOBYYCtwPPC0vh3g5f3r+PTAsZ8ZGPvkfq5/Q/fm0h/3bZLURH7xDd2SpFFJUsDBVfW9uZ7LfJLkZGBLVZ0513ORpNYM25LUiGFbkjSW00j68/PWDDzWJ7m271uR5Lz+pgznJTl44Lgp+yRJkqT5bk52tpOcBuxaVS9K8nngrKo6J8lz6G748Pj+eVP2SZIkSfPd2MN2/271TcBRwEa6O7Tdu6q2JVlCdwvdg+muLztp38CbbCRJkqR5ay4ud/R7wKaq+kaSw/vPtwH0oXoz3TvVM03fL4TtJEvpbik8aDfgIOC7dJeJkiRJkkZtCXBf4OtVdevEzrkI28cDZ414zJOAU0c8piRJkjRbRwLnTmwc62kkSZbR7TTvX1XX9DduuNOnkUyxs30A8MXVq1ezfPnyli9LkiRJO6mNGzdy5JFHAjygqr4/sX/cO9vHAZ/afkewqroqyRq6O7Kd03+8cHuYnq5vUFVtpbu5we2238l3+fLlHHjggQ1eiiRJknS7SU9bnouwfeKEthOAs5OcQnensWNn2SdJkiTNa2MN21W1YpK2tXS3Q57s+VP2SZIkSfPdWG5qI0mSJO2MDNuSJElSI4ZtSZIkqRHDtiRJktSIYVuSJElqxLAtSZIkNWLYliRJkhoxbEuSJEmNGLYlSZKkRgzbkiRJUiOGbUmSJKkRw7YkSZLUiGFbkiRJasSwLUmSJDVi2JYkSZIaMWxLkiRJjRi2JUmSpEYM25IkSVIjhm1JkiSpEcO2JEmS1IhhW5IkSWrEsC1JkiQ1YtiWJEmSGjFsS5IkSY0YtiVJkqRGDNuSJElSI4ZtSZIkqRHDtiRJktSIYVuSJElqxLAtSZIkNWLYliRJkhoxbEuSJEmNGLYlSZKkRgzbkiRJUiOGbUmSJKkRw7YkSZLUiGFbkiRJasSwLUmSJDUytrCdZPckb0/y3STfTPKOvn1FkvOSrOs/HjxwzJR9kiRJ0nw3zp3tfwBuAVZU1a8CL+/bzwBOr6oVwOnAmQPHTNcnSZIkzWu7jqNIkj2AY4HlVVUAVXVlkr2BlcAT+qeuAt6aZC8gU/VV1ZZxzFuSJEm6M8YStoH7A9cApyZ5HHATcDLwY2BTVW0DqKptSTYD+9GF7an6fiFsJ1kKLJ1Qc3mzVyNJkiTNwrhOI9kVOAi4sKoeBrwE+DCwx4jGPwm4bMJj9YjGliRJknbIuHa2Lwd+RncqCFV1fpKr6Xa2902ypN+5XgIsAzbQ7WxP1TfRacC7J7Qtx8AtSZKkOTSWne2quhr4Av3510lWAHsD64A1wDH9U4+h2/3eUlVXTdU3yfhbq2r94APY2O4VSZIkSTMb1842wAnAWUneCPwUeG5VbU1yAnB2klOA6+jeSDl4zFR9kiRJ0rw2trBdVZcCj52kfS1wxBTHTNknSZIkzXfeQVKSJElqxLAtSZIkNWLYliRJkhoxbEuSJEmNGLYlSZKkRgzbkiRJUiOGbUmSJKkRw7YkSZLUiGFbkiRJasSwLUmSJDVi2JYkSZIaMWxLkiRJjRi2JUmSpEYM25IkSVIjhm1JkiSpEcO2JEmS1IhhW5IkSWrEsC1JkiQ1YtiWJEmSGjFsS5IkSY0YtiVJkqRGDNuSJElSI4ZtSZIkqRHDtiRJktSIYVuSJElqxLAtSZIkNWLYliRJkhoxbEuSJEmNGLYlSZKkRgzbkiRJUiOGbUmSJKmRXed6ApIkaeG7/AunNBn3gMe9qsm40ri4sy1JkiQ1YtiWJEmSGjFsS5IkSY0YtiVJkqRGDNuSJElSI2ML20nWJ1mbZE3/OKpvX5HkvCTr+o8HDxwzZZ8kSZI03417Z/sPquqw/vHZvu0M4PSqWgGcDpw58Pzp+iRJkqR5bU5PI0myN7ASWNU3rQJWJtlrur7xz1SSJEka3rhvavO+JAHOBV4G7AdsqqptAFW1Lcnmvj3T9G0ZHDTJUmDphFrLG74OSZIkaUbj3Nk+sqoOBR5OF6TfOsKxTwIum/BYPcLxJUmSpKGNLWxX1Yb+463A24BHARuAfZMsAeg/Luvbp+ub6DTgfhMeRzZ8OZIkSdKMxhK2k9wtyZ795wGeDaypqquANcAx/VOPAS6sqi3T9U0cv6q2VtX6wQewseVrkiRJkmYyrnO27wN8qN+dXgJ8G3hh33cCcHaSU4DrgGMHjpuuT5IkSZrXxhK2q+pS4Nem6FsLHDFsnyRJkjTfeQdJSZIkqRHDtiRJktSIYVuSJElqxLAtSZIkNWLYliRJkhoZ9+3aJUmS7rSrP/LXTcb9lae/scm42nm5sy1JkiQ1YtiWJEmSGjFsS5IkSY0YtiVJkqRGDNuSJElSI4ZtSZIkqRHDtiRJktSIYVuSJElqxLAtSZIkNWLYliRJkhoxbEuSJEmNGLYlSZKkRgzbkiRJUiOGbUmSJKmRXed6ApIWt6de/JUm437sob/RZFxJkkbJnW1JkiSpEcO2JEmS1IhhW5IkSWrEsC1JkiQ1YtiWJEmSGjFsS5IkSY0YtiVJkqRGDNuSJElSI4ZtSZIkqRHDtiRJktTIjLdrT7IaqJmeV1WPGcmMJEmSpEVixrANvHPg8/sDxwNnA5cD+wPPA84a/dQkSZKkhW3GsF1VZ2//PMlXgaOq6pKBtn+hC9unNpmhJEmStEANe872g4HvT2i7DHjQaKYjSZIkLR7Dhu0vAe9OcnCSuyZZAbwLWD36qUmSJEkL27Bh+7j+4yXAzcA3gQB/MsI5SZIkSYvCbN4gebuquhZ4dpJdgL2ALVV1W5OZSZIkSQvc0NfZTvJg4P8AL6+q25I8MMlDhzj+1CSV5CH91yuSnJdkXf/x4IHnTtknSZIkzXdDhe0kfwj8J7AvcGzffHfgTbM8fiXwCOAHA81nAKdX1QrgdODMWfZJkiRJ89qwO9uvAp5QVScA2/q2i4BDZzowyV3oAvML6W+Sk2RvYCWwqn/aKmBlkr2m6xtyzpIkSdKcGOqcbWBvunANP7+rZDGLO0zSBfVzquqyJNvb9gM2VdU2gKralmRz355p+rYMDpxkKbB0Qr3ls39ZkiRJ0ugNu7N9AfDcCW3PBr423UFJHgk8HHjbkPVm6yS6630PPrwcoSRJkubUsDvbJwKfS/KnwN2SfBZYATxxhuN+k+7GN9t3tZcDnwX+Ctg3yZJ+53oJsAzYQLezPVXfRKcB757QthwDtyRJkubQsJf+W5vkQcDvAp+kC76frKqbZjjutcBrt3+dZD3wu1X1rSQvBI4Bzuk/XlhVW/rnrZmqb8L4W4Gtg20Dp6pIkiRJc2KosJ3kzVV1IvBvE9pPq6qTdnAOJwBnJzkFuI6fX+Vkpj5JkiRpXhv2NJLj6E4lmei5dOdNz0pVHTjw+VrgiCmeN2WfJEmSNN/NKmwnOX778wc+3+4g4OqRzkqSJElaBGa7s739CiS78YtXIyngSuB5o5yUJEmStBjMKmxX1eMAkvxdVZ3cdkqSJEnS4jDs1UhOhtvv/LjHhL5LRzgvSZIkacEb9mokRwFnAfed0FXAklFNSpIkSVoMhr2D5NuAvwXuVlW7DDwM2pIkSdIEw176757AmVVVLSYjSZIkLSbDhu13AX9CdyqJJEnSTuGqf/7zJuPu/fx3NBlX88ewYfsRwIlJ/ga4YrCjqh4zsllJkiRJi8CwYfud/UOSJEnSDIa99N/ZrSYiSZIkLTZDXY0knecn+XySi/u2xyR5ZpvpSZIkSQvXsJf+exXwp8A7gP37to3AS0Y5KUmSJGkxGPac7eOAX6uqq5O8vW+7DDhopLOSJEl3ykUXvKbJuIce/tIm40qL1bA720uAm/rPt19re4+BNkmSJEm9YcP2Z4A3JbkLdOdw091R8hOjnpgkSZK00A0btv8KuC9wPbAn3Y72AXjOtiRJknQHsz5nO8kS4A+AY4B70IXsDVV1xbQHSpIkSTupWe9sV9U24E1VdUtVXVVVXzdoS5IkSVMb9jSSTyQ5uslMJEmSpEVm2Ev/7Q58MMl5wAZ+fkUSqurYUU5MkiRJWuiGDdvf6h+SJEmSZjBU2K6qV870nCR/U1Wv3fEpSZIkSYvDsOdsz8bLGowpSZIkLTgtwnYajClJkiQtOC3Cds38FEmSJGnxaxG2JUmSJOFpJJIkSVIzLcL26gZjSpIkSQvOUGE7yeOS3K///L5Jzk5yVpJ9tj+nqp4y6klKkiRJC9GwO9tvA7b1n78R+CW6N0S+Y5STkiRJkhaDYe8guW9V/SDJrsBRwAHAT4DNI5+ZJEmStMANG7ZvSHIf4CHAt6vqpiS70e1wS5IkSRowbNh+C/B1YDfgpL7tUcDaEc5JkiRJWhSGCttV9bokHwG2VdX3++ZNwJ+NfGaSpDn1jus/1WzsP9/zd5qNLUnzyY5c+u8yYFmSZ/VfbwIuHd2UJEmSpMVh2Ev//SqwDvhn4F19828CZ414XpIkSdKCN+w5228HTqmq9ya5rm/7El34liRph31g64ebjf2HS5/RbGxJms6wp5EcApzTf14AVXUzcNeZDkzy0SQXJbkwyeokh/XtK5Kcl2Rd//HggWOm7JMkSZLmu2F3ttcDhwP/tb0hya8D35vFsc+rquv7Y55Kd+rJSuAM4PSqOifJc4Azgcf3x0zXJ2kHPOo/z28y7pcfc0STcSVJWsiG3dl+OfCpJK8EdkvyUuADwMkzHbg9aPf2BG5Lsjdd4F7Vt68CVibZa7q+IecsSZIkzYlhL/33ySRPprvU35fo7iD5jKq6YDbHJ3kn8EQgwJOA/YBNVbWtH39bks19e6bp2zJh3KXA0gnllg/z2iRJaunc772tybiPfsALm4wraTSGCttJnllV/wa8cEL7K6vq1JmOr6o/65//XOD1dDvlo3ASMGN9SZIkaZyGPWf7tUlurKrPbG9I8hq6XepZh93+aibvADYC+yZZ0u9cLwGWARvodran6pvoNODdE9qWA6tn/9IkLQbHX3Zuk3HPut+jm4wrSRNd8bfPmvlJO2ifl7+/2dia3LBh+ynAZ5M8t6r+M8mbgMcww5sWk+wB3LOqNvRfHw1cC1wFrAGOobvKyTHAhVW1pX/elH2DqmorsHVCzSFfmiRpZ/LvV7ynybhP2ufYJuNKWpiGPWd7bZKnAx9L8mVgf+DxVXXDDIfeDfhAkrsB2+iC9tFVVUlOAM5OcgpwHTC4Sk3XJ0mSJM1rM4btJJPtWr8LeAFdGH5YEqrq81ONUVVXAo+Yom8tMOk1w6brkyRJkua72exsv2uK9lvozpWG7gY3B41iQpIkSdJiMWPYrqr7jWMikiRJ0mIz7E1tJEmSJM3SbM7Z/k5VPbj/fAPdKSO/8BSgqmr/BvOTJEmSFqzZnLP9/IHPn9NqIpIkSdJiM5tztgfvEHEecDLwR8B9gc3AvwKvbjI7SdLtXnPt/2s29kvv9YRmY0vSzmzYm9q8HXgg8JfA5cABwEuBfYHjRzs1SZIkaWEbNmw/Dbh/f8dGgG8nOR/4HoZtSZIk6RcMezWSK4BfntB2V+CHo5mOJEmStHgMewfJ9wL/nuQtwEZgP+B/AO9pMz1JkiRp4drRO0i+bMLXLwBed+enI0mSJC0e3kFSkiRJasQ7SEqSJEmNGLYlSZKkRgzbkiRJUiOGbUmSJKkRw7YkSZLUiGFbkiRJamTY27VLkiRpEdn8oqc0G3vZWz/dbOyFwp1tSZIkqRHDtiRJktSIp5FI0g568RVfbDb26/d5bLOxJUnj4862JEmS1IhhW5IkSWrEsC1JkiQ1YtiWJEmSGjFsS5IkSY0YtiVJkqRGDNuSJElSI4ZtSZIkqRHDtiRJktSIYVuSJElqxLAtSZIkNWLYliRJkhoxbEuSJEmNGLYlSZKkRnad6wlIkiRp57Hx9x/dbOzlHzq32dg7aiw720nuneTTSf47ycVJPpxkr75vRZLzkqzrPx48cNyUfZIkSdJ8N67TSAr4h6p6YFU9FPg+8Nq+7wzg9KpaAZwOnDlw3HR9kiRJ0rw2lrBdVddW1RcHmr4KHJBkb2AlsKpvXwWsTLLXdH3jmLMkSZJ0Z439nO0kuwB/AXwc2A/YVFXbAKpqW5LNfXum6dsyYcylwNIJpZY3fBmSJEnSjObiDZJvAW4C3gr82ojGPAk4dURjSZIkSSMx1rCd5A3AwcDRVXVbkg3AvkmW9DvXS4BlwAa6ne2p+iY6DXj3hLblwOpGL0WSJEma0dius53k1cDhwNOq6laAqroKWAMc0z/tGODCqtoyXd/Esatqa1WtH3wAG1u+HkmSJGkmY9nZTnII8DJgHfCVJACXVdXTgROAs5OcAlwHHDtw6HR9kiRJ0rw2lrBdVZfQnRYyWd9a4Ihh+yRJkqT5ztu1S5IkSY0YtiVJkqRGDNuSJElSI4ZtSZIkqRHDtiRJktSIYVuSJElqxLAtSZIkNWLYliRJkhoZy01tJE3tkI9f0GTcS37v8CbjSpKk2TNsS5IkadH6wW8c2mzs/b9y0YzP8TQSSZIkqRHDtiRJktSIYVuSJElqxLAtSZIkNWLYliRJkhoxbEuSJEmNGLYlSZKkRgzbkiRJUiOGbUmSJKkRw7YkSZLUiGFbkiRJasSwLUmSJDVi2JYkSZIaMWxLkiRJjRi2JUmSpEZ2nesJjMOLH72x2divP3d5s7ElSZK0sLmzLUmSJDVi2JYkSZIaMWxLkiRJjRi2JUmSpEYM25IkSVIjhm1JkiSpEcO2JEmS1MhOcZ3tcXvhszY3G/tt71/WbGxJkiSNljvbkiRJUiOGbUmSJKkRTyNZBP74xE3Nxn7fm/dtNvZ8df/3XNRk3O8fe2iTcSVJ0vzlzrYkSZLUyFjCdpI3JLksSSV5yED7iiTnJVnXfzx4Nn2SJEnSQjCune2PAo8BLp/QfgZwelWtAE4HzpxlnyRJkjTvjSVsV9W5VbVhsC3J3sBKYFXftApYmWSv6frGMV9JkiRpFObyDZL7AZuqahtAVW1LsrlvzzR9WyYOlGQpsHRC8/J2U5ckSZJmtliuRnIScOpcT2Jn8eRXXNZs7M+84n7NxpYkSRq3uQzbG4B9kyzpd66XAMv69kzTN5nTgHdPaFsOrG4yc0mSJGkW5uzSf1V1FbAGOKZvOga4sKq2TNc3xVhbq2r94APY2HL+kiRJ0kzGsrOd5M3AM4B9gP9Ick1VHQKcAJyd5BTgOuDYgcOm69NO5NffsrbJuF/7ywc1GVeSJGm7sYTtqjoROHGS9rXAEVMcM2WfJEmStBB4B0lJkiSpEcO2JEmS1IhhW5IkSWrEsC1JkiQ1YtiWJEmSGjFsS5IkSY0YtiVJkqRGDNuSJElSI4ZtSZIkqRHDtiRJktSIYVuSJElqxLAtSZIkNWLYliRJkhoxbEuSJEmNGLYlSZKkRgzbkiRJUiOGbUmSJKkRw7YkSZLUiGFbkiRJasSwLUmSJDVi2JYkSZIaMWxLkiRJjRi2JUmSpEYM25IkSVIjhm1JkiSpEcO2JEmS1IhhW5IkSWrEsC1JkiQ1YtiWJEmSGjFsS5IkSY0YtiVJkqRGDNuSJElSI4ZtSZIkqRHDtiRJktSIYVuSJElqxLAtSZIkNWLYliRJkhqZ92E7yYok5yVZ1388eK7nJEmSJM3GvA/bwBnA6VW1AjgdOHOO5yNJkiTNyrwO20n2BlYCq/qmVcDKJHvN3awkSZKk2dl1ricwg/2ATVW1DaCqtiXZ3Ldv2f6kJEuBpROOPQBg48aNXH/LkmYTXL/+Z3dou+HmKxvW+8kd2m664YqG9X56h7Yfbd3YsF7u0HbrNZsa1dp90vafbmlVb89J239y5eZG9e49afstP2xVb/2k7T/a9MM29e4xeb0bNzaqlzvWu35Lw9+9W+5Y77qtDevdcMd6V9/QcC2b5N/vqhuualdv6x3rXbllyx2fOIpak/zbAfxw4zVt6u06eb1Nm69rUm/Pe09eb+MVW5vUqynWlmuvur5JvZumqHf11Tc2qfejSeptue7mJrUAbpmk3pU3/KhZvZ9MUu+HN9/SrN7PJqm36ZY7ZqdRuW39ejZuvD0XTRo4U1XNJnBnJTkceE9VHTLQ9m3gOVX1jYG2VwCnjn+GkiRJEgBHVtW5Exvne9jeG1gH3Lvf1V4CXAMcXFUz7WzvBhwEfBfYNkTZ5cBq4Eig3Rbu3NRbzK/Netaz3tzVW8yvzXrWs97c1Vsor20JcF/g61V168TOeX0aSVVdlWQNcAxwTv/xwsGg3T9vK7B1kiHWDVszuf00ho1VtX7Y4+dzvcX82qxnPevNXb3F/NqsZz3rzV29Bfbavj9Vx7wO270TgLOTnAJcBxw7x/ORJEmSZmXeh+2qWgscMdfzkCRJkoY1ry/9J0mSJC1khu072gq8ksnPAV/o9cZZy3rWs97OU2+ctaxnPevtPPXGWatZvXl9NRJJkiRpIXNnW5IkSWrEsC1JkiQ1YtgekGRFkvOSrOs/Htyw1huSXJakkjykVZ2BevdO8ukk/53k4iQfTrJX45ofTXJRkguTrE5yWMt6fc1Tx/E9TbI+ydoka/rHUY3r7Z7k7Um+m+SbSd7RsNaBA69rTf9ar21Vr6/5u/3PyZr+5/MZjev9TpJv9N/LLyW534jHn/T3u9UaM029JuvMZOO2XGOmeX0jX2Nm+p6Neo2Z5rU1WWOmqddkjZniZ6XZGjPN62uyxkxTb+RrzHS/Yy3WlhnqjXxtmapeq7Vlhtc32rWlqnz0D+DzdLeCB3gO8PmGtR4N7AesBx4yhtd2L+CxA1+/HnhX45p7Dnz+VOAbjeutBD4DXN76ezquf7eBem8G/pGfv8/iPmOsfRrw1objh+4a+g/pv34ocCOwS6N69wSuBlb0Xz8H+PcR15j097vVGjNNvSbrzGTjtlxjpnl9ew58PpI1ZrrvWYs1ZprX1mSNmaZekzVmNj+Do1xjpvjZbLbGTFGvyRoz3e9Yi7VlhnojX1umqtdqbZnh9e050H6n1xZ3tnvpbg2/EljVN60CVo5qZ2aiqjq3qja0GHuKetdW1RcHmr4KHNC45vUDX+4J3NaqVpK7AKcDLwQW1bt+k+xBdzOnl1f/m19VV46p9m7AHwNnNS51G93PCMBS4IdV1ern5QHAlVW1/Q6znwaOSvIroyow2e93yzVmqvWk1Toz2bgt15hpXt/I15iparVaY+bgvwWT/Ww2W2Nmen2jXmOmqddkjZmiXpM1ZqrfsVZry3S/0y1+bqeq12ptmeH1jXRtmfc3tRmj/YBNVbUNoKq2Jdnct2+Z9sgFJskuwF8AHx9DrXcCT6TbWXhSw1KvAs6pqsvy89uttva+dMXOBV5WVVsb1bk/cA1wapLHATcBJ1fVuY3qDfo9ut+Lb7QqUFWV5JnAx5LcDNwd+J1W9YB1wD5JHl5VX6f7Dz3A/nS7Ua24xrSp5Rpz57nGjFbzNWbC71jztWWcv9PT1Ws1j8nGHeXa4s72zuktdIvpW1sXqqo/q6r9gZfR/Ylm5JI8Eng48LYW40/hyKo6tK8b2n4vdwUOAi6sqocBLwE+nOQeDWtudzyNd7WT7Aq8FHhqVR0AHA28v99tG7l+x+JZwD8m+S9gb7prqv60Rb2dlGvMnecaMyKLdI0Z2+/YPKvXah53GHeUa4th++c2APsmWQLQf1zWty8aSd4AHAw8q+Gf6e+gqt4LPC7JvRsM/5vAg4DLkqwHlgOfTfLEBrUA2P7ns6q6le4/wI9qVYvu/NCf0f+JsKrOpz8fsGFNkiyj+96+r2Ud4DBgWVV9GaD/eDPw4FYFq+o/qurRfbB4K3BX4NJW9XquMQ25xtwprjEj1nKNmeR3rOnaMu7f6anqtZrHTOOOYm0xbPeq6ipgDXBM33QM3f/lL5o/7yZ5NXA48LR+AW9Za48k+w18fTRwbf8Yqap6bVUtq6oDq+pAYCNwVFV9btS1AJLcLcme/ecBnk33s9NEVV0NfAF4Ql9zBd1Oyfda1ewdB3yqqq5pXGcjsDzJAwGSPBjYB/h+q4JJ9uk/7gL8PXBGVd3cqh64xjSo5RozIq4xo9dqjZnsd6zl2jLO3+np6rWax2TjNllbagTvIF0sD7qdi/Ppzrc6H3hgw1pvplsAfgZcAVzS+LUdQvemnv+m+6VcA3ykYb370L3Z4Jt9rc8DK8f077iehlcKof9zK3AxcAnwAeC+jV/TQcAX++/nN4Anj+H7uA540pj+zf64f20X9Y+nNa73TuA7dP+xfTuw+4jHn/T3u9UaM029JuvMZOO2XGOmqNdkjZnN92yUa8wUr63ZGjPNz0qTNWa672eLNWaa19dkjZmm3sjXmOl+x1qsLTPUG/naMlW9VmvLNPVGvrZ4u3ZJkiSpEU8jkSRJkhoxbEuSJEmNGLYlSZKkRgzbkiRJUiOGbUmSJKkRw7Yk7aSSrE/y23M9D0lazAzbkiRJUiOGbUnStJLsOtdzkKSFyrAtSTu3w5JcnOT6JO9PsnuSxybZmOQlSa4A/u9cT1KSFip3KyRp5/ZM4EnALcCXgeOAtcA+wL2AA3BjRpJ2mAuoJO3c3lxVm6vqWuATwGF9+23AqVV1a1X9eM5mJ0kLnGFbknZuVwx8/iNgj/7zLVV1yxzMR5IWFcO2JGkyNdcTkKTFwLAtSZIkNWLYliRJkhpJlX8plCRJklpwZ1uSJElqxLAtSZIkNWLYliRJkhoxbEuSJEmNGLYlSZKkRgzbkiRJUiOGbUmSJKkRw7YkSZLUiGFbkiRJauT/AwA4q5SfuG9SAAAAAElFTkSuQmCC\n",
          "text/plain": "<Figure size 864x432 with 1 Axes>"
         },
         "metadata": {
          "needs_background": "light"
         },
         "output_type": "display_data"
        }
       ]
      }
     },
     "46dcbe0a209945949f61700d1466ed2c": {
      "model_module": "@jupyter-widgets/base",
      "model_module_version": "1.2.0",
      "model_name": "LayoutModel",
      "state": {}
     },
     "4734f235fd3f4293a0dc9766c1447280": {
      "model_module": "@jupyter-widgets/controls",
      "model_module_version": "1.5.0",
      "model_name": "HBoxModel",
      "state": {
       "children": [
        "IPY_MODEL_9a56872676a045d78d3310c431b95a79",
        "IPY_MODEL_c5c5c846f0034327871c712e731b3800"
       ],
       "layout": "IPY_MODEL_0954a751f38e40a7b4eed102de4f5091"
      }
     },
     "48a1b2e7a1044c23bcba99a5e6f49d83": {
      "model_module": "@jupyter-widgets/base",
      "model_module_version": "1.2.0",
      "model_name": "LayoutModel",
      "state": {}
     },
     "4b34f3e55e734c288a09077a6ecd55af": {
      "model_module": "@jupyter-widgets/controls",
      "model_module_version": "1.5.0",
      "model_name": "DatePickerModel",
      "state": {
       "description": "Pick a Date",
       "disabled": false,
       "layout": "IPY_MODEL_28ee5f6964d345c8bcc82db9ab688543",
       "style": "IPY_MODEL_9cab250d5fac4c50a6d9cf7b914c31e3",
       "value": {
        "date": 10,
        "month": 8,
        "year": 2021
       }
      }
     },
     "4b836904d47240a5bab0924fe5e520bc": {
      "model_module": "@jupyter-widgets/base",
      "model_module_version": "1.2.0",
      "model_name": "LayoutModel",
      "state": {}
     },
     "4bd2be2501ab44a5867a3ef58fc6fea4": {
      "model_module": "@jupyter-widgets/base",
      "model_module_version": "1.2.0",
      "model_name": "LayoutModel",
      "state": {}
     },
     "4c83930acfc54122927098458aeb76af": {
      "model_module": "@jupyter-widgets/base",
      "model_module_version": "1.2.0",
      "model_name": "LayoutModel",
      "state": {}
     },
     "4d29aba24c2b4bc880fef71c070b849c": {
      "model_module": "@jupyter-widgets/controls",
      "model_module_version": "1.5.0",
      "model_name": "ButtonStyleModel",
      "state": {}
     },
     "4db6fe1987a04d988047d960fa70b1eb": {
      "model_module": "@jupyter-widgets/base",
      "model_module_version": "1.2.0",
      "model_name": "LayoutModel",
      "state": {}
     },
     "4e5f50534d5a4a79b267cb8b0d782236": {
      "model_module": "@jupyter-widgets/base",
      "model_module_version": "1.2.0",
      "model_name": "LayoutModel",
      "state": {}
     },
     "4e9b89f6dcc0449a8b3b9c9a9dbb642d": {
      "model_module": "@jupyter-widgets/controls",
      "model_module_version": "1.5.0",
      "model_name": "FloatSliderModel",
      "state": {
       "continuous_update": false,
       "description": "Temp Celsius",
       "layout": "IPY_MODEL_e13608abb826472a8ef45d8ffba4fdaf",
       "max": 1,
       "readout_format": ".1f",
       "step": 0.1,
       "style": "IPY_MODEL_62ee0f0018fa40859fa54272f6e7cd4d",
       "value": 0.7
      }
     },
     "4f53c9b9a25946b0a4a5dc1fd04062bc": {
      "model_module": "@jupyter-widgets/controls",
      "model_module_version": "1.5.0",
      "model_name": "HBoxModel",
      "state": {
       "children": [
        "IPY_MODEL_812866f36fd7474ab8546833bdd1535d",
        "IPY_MODEL_51e0059377004848aee14ca2593bcd8c"
       ],
       "layout": "IPY_MODEL_bd120d64dd944430ba639633e5c4d478"
      }
     },
     "5089f1e640264254b406f4b6e0840d9f": {
      "model_module": "@jupyter-widgets/base",
      "model_module_version": "1.2.0",
      "model_name": "LayoutModel",
      "state": {}
     },
     "509eb1211cd949d3889064eadb2eae51": {
      "model_module": "@jupyter-widgets/controls",
      "model_module_version": "1.5.0",
      "model_name": "HBoxModel",
      "state": {
       "children": [
        "IPY_MODEL_b552ae16af334d9a9bfe8368da6061b8",
        "IPY_MODEL_8ed132ee9f41417699301fd9e413ab54"
       ],
       "layout": "IPY_MODEL_0ed5deadcd964ed99245dd336884f9e3"
      }
     },
     "50fe79cf864a413bb9a4e34cca181944": {
      "model_module": "@jupyter-widgets/base",
      "model_module_version": "1.2.0",
      "model_name": "LayoutModel",
      "state": {}
     },
     "51a3fa8fea384f048e6c552f6a59727f": {
      "model_module": "@jupyter-widgets/controls",
      "model_module_version": "1.5.0",
      "model_name": "DescriptionStyleModel",
      "state": {
       "description_width": ""
      }
     },
     "51e0059377004848aee14ca2593bcd8c": {
      "model_module": "@jupyter-widgets/output",
      "model_module_version": "1.0.0",
      "model_name": "OutputModel",
      "state": {
       "layout": "IPY_MODEL_f3423e077d454457b7499bde5f7a92f1",
       "outputs": [
        {
         "name": "stdout",
         "output_type": "stream",
         "text": "Temperature Chosen: 0.8\n"
        }
       ]
      }
     },
     "5262440cbc1e41cd8b8647aeaf1be330": {
      "model_module": "@jupyter-widgets/controls",
      "model_module_version": "1.5.0",
      "model_name": "SliderStyleModel",
      "state": {
       "description_width": ""
      }
     },
     "540da20726e9483e9fa1e0a506c499d5": {
      "model_module": "@jupyter-widgets/controls",
      "model_module_version": "1.5.0",
      "model_name": "ButtonModel",
      "state": {
       "description": "View Predictions",
       "layout": "IPY_MODEL_792b4e1c229c4536b5978694f6f18046",
       "style": "IPY_MODEL_3e65022f5c354733838a8b76357e31be"
      }
     },
     "549c4865432644ce97bc0e69cf62a8c3": {
      "model_module": "@jupyter-widgets/controls",
      "model_module_version": "1.5.0",
      "model_name": "VBoxModel",
      "state": {
       "children": [
        "IPY_MODEL_c7149659e80e490ba57a40c411a8dec6"
       ],
       "layout": "IPY_MODEL_1cbcd52fd6dd4104a3a9abd4c2450dcd"
      }
     },
     "54e0626cf7b94f4a97f24ba1d3823ad1": {
      "model_module": "@jupyter-widgets/controls",
      "model_module_version": "1.5.0",
      "model_name": "DescriptionStyleModel",
      "state": {
       "description_width": ""
      }
     },
     "57052cce499d430cb4c62acdeb7c4823": {
      "model_module": "@jupyter-widgets/controls",
      "model_module_version": "1.5.0",
      "model_name": "DropdownModel",
      "state": {
       "_options_labels": [
        "0",
        "1",
        "2",
        "3",
        "4",
        "5",
        "6",
        "7",
        "8",
        "9",
        "10",
        "11",
        "12",
        "13",
        "14",
        "15",
        "16",
        "17",
        "18",
        "19",
        "20",
        "21",
        "22",
        "23"
       ],
       "description": "Pick an Hour:",
       "index": 12,
       "layout": "IPY_MODEL_aed60884a11e4de493600d0368c7f879",
       "style": "IPY_MODEL_ed6eaeb4701140358e78fb0dc38315ce"
      }
     },
     "5760025d052b42e8b4af3669f35d78ad": {
      "model_module": "@jupyter-widgets/output",
      "model_module_version": "1.0.0",
      "model_name": "OutputModel",
      "state": {
       "layout": "IPY_MODEL_77646c21b9164a3ea8fc2964b3904f34",
       "outputs": [
        {
         "name": "stdout",
         "output_type": "stream",
         "text": "   mnth weekday  season workingday holiday  hr  bikes_rented\n0   Sep     Thu  summer        yes      no   0     15.781250\n1   Sep     Thu  summer        yes      no   1     -6.984375\n2   Sep     Thu  summer        yes      no   2    -13.843750\n3   Sep     Thu  summer        yes      no   3    -24.875000\n4   Sep     Thu  summer        yes      no   4    -27.375000\n5   Sep     Thu  summer        yes      no   5    -11.703125\n6   Sep     Thu  summer        yes      no   6     78.937500\n7   Sep     Thu  summer        yes      no   7    215.109375\n8   Sep     Thu  summer        yes      no   8    360.765625\n9   Sep     Thu  summer        yes      no   9    235.718750\n10  Sep     Thu  summer        yes      no  10    184.234375\n11  Sep     Thu  summer        yes      no  11    245.234375\n12  Sep     Thu  summer        yes      no  12    315.890625\n13  Sep     Thu  summer        yes      no  13    309.859375\n14  Sep     Thu  summer        yes      no  14    292.421875\n15  Sep     Thu  summer        yes      no  15    275.703125\n16  Sep     Thu  summer        yes      no  16    335.421875\n17  Sep     Thu  summer        yes      no  17    484.531250\n18  Sep     Thu  summer        yes      no  18    427.906250\n19  Sep     Thu  summer        yes      no  19    316.343750\n20  Sep     Thu  summer        yes      no  20    231.484375\n21  Sep     Thu  summer        yes      no  21    151.906250\n22  Sep     Thu  summer        yes      no  22    117.328125\n23  Sep     Thu  summer        yes      no  23     76.406250\n"
        },
        {
         "data": {
          "image/png": "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\n",
          "text/plain": "<Figure size 864x432 with 1 Axes>"
         },
         "metadata": {},
         "output_type": "display_data"
        }
       ]
      }
     },
     "57f83a3e8c83492c9536295e3b90d467": {
      "model_module": "@jupyter-widgets/controls",
      "model_module_version": "1.5.0",
      "model_name": "HBoxModel",
      "state": {
       "children": [
        "IPY_MODEL_454d7dd0f59f4382affabfc20e55564f",
        "IPY_MODEL_45039c2a8072430ca37052e071abb8be"
       ],
       "layout": "IPY_MODEL_18aa191a064242ee9b26bfeafc73dbb4"
      }
     },
     "5a3da26adfdd4a01b97a0532e85bd18d": {
      "model_module": "@jupyter-widgets/base",
      "model_module_version": "1.2.0",
      "model_name": "LayoutModel",
      "state": {}
     },
     "5ae706a12e024c0d82665bd376361548": {
      "model_module": "@jupyter-widgets/controls",
      "model_module_version": "1.5.0",
      "model_name": "ButtonModel",
      "state": {
       "description": "View Predictions",
       "layout": "IPY_MODEL_a32faf82dfba4324aecf4351d9e731f0",
       "style": "IPY_MODEL_017d9c5bf7fe47ee9b541fa75c430096"
      }
     },
     "5c1279c6087d4bba9ea8391f76a345e2": {
      "model_module": "@jupyter-widgets/controls",
      "model_module_version": "1.5.0",
      "model_name": "ButtonModel",
      "state": {
       "description": "View Predictions",
       "layout": "IPY_MODEL_05c99374bad44beca437d0cdf4cf14c5",
       "style": "IPY_MODEL_9d26492332df482c85ed162a03c5f554"
      }
     },
     "5c7e0ac51eac44819ce21d3ad6b99f7b": {
      "model_module": "@jupyter-widgets/base",
      "model_module_version": "1.2.0",
      "model_name": "LayoutModel",
      "state": {}
     },
     "5cf8c257e5c54148a6a9847f32d1d787": {
      "model_module": "@jupyter-widgets/output",
      "model_module_version": "1.0.0",
      "model_name": "OutputModel",
      "state": {
       "layout": "IPY_MODEL_ff9ebbcf3e4a44dda9e7ebe3a9be1c56",
       "outputs": [
        {
         "name": "stdout",
         "output_type": "stream",
         "text": "Date Chosen: 2021-09-10\n"
        }
       ]
      }
     },
     "5df4addc0ca84891828cc96a9aec6102": {
      "model_module": "@jupyter-widgets/controls",
      "model_module_version": "1.5.0",
      "model_name": "HBoxModel",
      "state": {
       "children": [
        "IPY_MODEL_c29948cc0b50497ea791717eb3ac5079",
        "IPY_MODEL_e136879da87342049a5c9227cfbbcab9"
       ],
       "layout": "IPY_MODEL_46dcbe0a209945949f61700d1466ed2c"
      }
     },
     "60305997bfa94b479540455b1d45d81a": {
      "model_module": "@jupyter-widgets/base",
      "model_module_version": "1.2.0",
      "model_name": "LayoutModel",
      "state": {}
     },
     "60e34b364be1493a9cbdbbec02e3f4d4": {
      "model_module": "@jupyter-widgets/output",
      "model_module_version": "1.0.0",
      "model_name": "OutputModel",
      "state": {
       "layout": "IPY_MODEL_630d2478e16249c196ff3d1937950643",
       "outputs": [
        {
         "name": "stdout",
         "output_type": "stream",
         "text": "   mnth weekday  season workingday holiday  hr  bikes_rented\n0   Sep     Fri  summer        yes      no   0     12.968750\n1   Sep     Fri  summer        yes      no   1     -6.531250\n2   Sep     Fri  summer        yes      no   2    -14.578125\n3   Sep     Fri  summer        yes      no   3    -26.343750\n4   Sep     Fri  summer        yes      no   4    -29.437500\n5   Sep     Fri  summer        yes      no   5    -10.078125\n6   Sep     Fri  summer        yes      no   6     77.015625\n7   Sep     Fri  summer        yes      no   7    217.156250\n8   Sep     Fri  summer        yes      no   8    352.187500\n9   Sep     Fri  summer        yes      no   9    235.281250\n10  Sep     Fri  summer        yes      no  10    182.062500\n11  Sep     Fri  summer        yes      no  11    237.468750\n12  Sep     Fri  summer        yes      no  12    318.250000\n13  Sep     Fri  summer        yes      no  13    311.859375\n14  Sep     Fri  summer        yes      no  14    292.343750\n15  Sep     Fri  summer        yes      no  15    271.500000\n16  Sep     Fri  summer        yes      no  16    329.859375\n17  Sep     Fri  summer        yes      no  17    486.984375\n18  Sep     Fri  summer        yes      no  18    429.437500\n19  Sep     Fri  summer        yes      no  19    316.171875\n20  Sep     Fri  summer        yes      no  20    235.828125\n21  Sep     Fri  summer        yes      no  21    152.109375\n22  Sep     Fri  summer        yes      no  22    115.312500\n23  Sep     Fri  summer        yes      no  23     74.468750\n"
        },
        {
         "data": {
          "image/png": "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\n",
          "text/plain": "<Figure size 864x432 with 1 Axes>"
         },
         "metadata": {},
         "output_type": "display_data"
        }
       ]
      }
     },
     "60e5f48d509b49efb74787c2c2311fb9": {
      "model_module": "@jupyter-widgets/output",
      "model_module_version": "1.0.0",
      "model_name": "OutputModel",
      "state": {
       "layout": "IPY_MODEL_b4926a7a0c874c93aa9a2ae2b2dc2422",
       "outputs": [
        {
         "name": "stdout",
         "output_type": "stream",
         "text": "   mnth weekday  temp  season workingday holiday  hr  bikes_rented\n0   Sep     Fri   0.7  summer        yes      no   0    137.812500\n1   Sep     Fri   0.7  summer        yes      no   1    122.531250\n2   Sep     Fri   0.7  summer        yes      no   2    112.265625\n3   Sep     Fri   0.7  summer        yes      no   3     96.687500\n4   Sep     Fri   0.7  summer        yes      no   4     97.375000\n5   Sep     Fri   0.7  summer        yes      no   5    114.031250\n6   Sep     Fri   0.7  summer        yes      no   6    170.265625\n7   Sep     Fri   0.7  summer        yes      no   7    302.500000\n8   Sep     Fri   0.7  summer        yes      no   8    446.046875\n9   Sep     Fri   0.7  summer        yes      no   9    300.906250\n10  Sep     Fri   0.7  summer        yes      no  10    242.296875\n11  Sep     Fri   0.7  summer        yes      no  11    271.953125\n12  Sep     Fri   0.7  summer        yes      no  12    316.281250\n13  Sep     Fri   0.7  summer        yes      no  13    308.078125\n14  Sep     Fri   0.7  summer        yes      no  14    298.343750\n15  Sep     Fri   0.7  summer        yes      no  15    309.843750\n16  Sep     Fri   0.7  summer        yes      no  16    370.250000\n17  Sep     Fri   0.7  summer        yes      no  17    514.218750\n18  Sep     Fri   0.7  summer        yes      no  18    490.453125\n19  Sep     Fri   0.7  summer        yes      no  19    380.703125\n20  Sep     Fri   0.7  summer        yes      no  20    297.859375\n21  Sep     Fri   0.7  summer        yes      no  21    249.562500\n22  Sep     Fri   0.7  summer        yes      no  22    207.625000\n23  Sep     Fri   0.7  summer        yes      no  23    168.953125\n"
        },
        {
         "data": {
          "image/png": "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\n",
          "text/plain": "<Figure size 864x432 with 1 Axes>"
         },
         "metadata": {},
         "output_type": "display_data"
        }
       ]
      }
     },
     "6134833f309e410d8c244e07d2686c0f": {
      "model_module": "@jupyter-widgets/controls",
      "model_module_version": "1.5.0",
      "model_name": "ButtonModel",
      "state": {
       "description": "View Predictions",
       "layout": "IPY_MODEL_9e61e9ad172243a387f178974fa34c2b",
       "style": "IPY_MODEL_a4a05f3c6aae414ea82c1655c158af21"
      }
     },
     "6153991312ed4e7aa0d5d37358185d85": {
      "model_module": "@jupyter-widgets/controls",
      "model_module_version": "1.5.0",
      "model_name": "VBoxModel",
      "state": {
       "children": [
        "IPY_MODEL_66b2567e9b9f4410a2fb2efa01818678"
       ],
       "layout": "IPY_MODEL_9e4620eb8de04703a7468e6f7551bd58"
      }
     },
     "617ebe4095904540af508c9f0e9b4f07": {
      "model_module": "@jupyter-widgets/base",
      "model_module_version": "1.2.0",
      "model_name": "LayoutModel",
      "state": {}
     },
     "62ee0f0018fa40859fa54272f6e7cd4d": {
      "model_module": "@jupyter-widgets/controls",
      "model_module_version": "1.5.0",
      "model_name": "SliderStyleModel",
      "state": {
       "description_width": ""
      }
     },
     "630d2478e16249c196ff3d1937950643": {
      "model_module": "@jupyter-widgets/base",
      "model_module_version": "1.2.0",
      "model_name": "LayoutModel",
      "state": {}
     },
     "631b8fd43dd64689ad4ca900eb99917a": {
      "model_module": "@jupyter-widgets/base",
      "model_module_version": "1.2.0",
      "model_name": "LayoutModel",
      "state": {}
     },
     "636989029be94478b8023f3683116392": {
      "model_module": "@jupyter-widgets/base",
      "model_module_version": "1.2.0",
      "model_name": "LayoutModel",
      "state": {}
     },
     "64eb07e921b840c3a5cdead081e2c6b7": {
      "model_module": "@jupyter-widgets/base",
      "model_module_version": "1.2.0",
      "model_name": "LayoutModel",
      "state": {}
     },
     "66b2567e9b9f4410a2fb2efa01818678": {
      "model_module": "@jupyter-widgets/controls",
      "model_module_version": "1.5.0",
      "model_name": "FloatSliderModel",
      "state": {
       "continuous_update": false,
       "description": "Temp Celsius",
       "layout": "IPY_MODEL_d162e732d786425cb65f623cdac8268d",
       "max": 1,
       "readout_format": ".1f",
       "step": 0.1,
       "style": "IPY_MODEL_0372bc09ce8c468db383160e3b8fbcbd",
       "value": 0.7
      }
     },
     "66b935f6b86642eb9431aa5610c0a40a": {
      "model_module": "@jupyter-widgets/controls",
      "model_module_version": "1.5.0",
      "model_name": "ButtonStyleModel",
      "state": {}
     },
     "66fefe5deeea4fbb93b314404b5ee65a": {
      "model_module": "@jupyter-widgets/base",
      "model_module_version": "1.2.0",
      "model_name": "LayoutModel",
      "state": {}
     },
     "6776e914fa18448282df66df0b2296f9": {
      "model_module": "@jupyter-widgets/output",
      "model_module_version": "1.0.0",
      "model_name": "OutputModel",
      "state": {
       "layout": "IPY_MODEL_3413dcfc700a4326ab003a009d0e1f21"
      }
     },
     "6848731cff4b480791a6ceef6ce652c7": {
      "model_module": "@jupyter-widgets/base",
      "model_module_version": "1.2.0",
      "model_name": "LayoutModel",
      "state": {}
     },
     "69325ea1a0294b449efb91f450a30c52": {
      "model_module": "@jupyter-widgets/controls",
      "model_module_version": "1.5.0",
      "model_name": "DescriptionStyleModel",
      "state": {
       "description_width": ""
      }
     },
     "6b56c2ba0c034564a15b08d133bd6b46": {
      "model_module": "@jupyter-widgets/controls",
      "model_module_version": "1.5.0",
      "model_name": "ButtonModel",
      "state": {
       "description": "View Predictions",
       "layout": "IPY_MODEL_b55eb832e29947379bf746ef49d88b40",
       "style": "IPY_MODEL_33ce7212eb994772ba31bc448db72823"
      }
     },
     "6c7ff47c17dd4c3aa28a2cbd0c935a4b": {
      "model_module": "@jupyter-widgets/output",
      "model_module_version": "1.0.0",
      "model_name": "OutputModel",
      "state": {
       "layout": "IPY_MODEL_d925f1210c1f4791b56ec50624b7c065"
      }
     },
     "6d7f888567f74b32b7ddbe4bdc825963": {
      "model_module": "@jupyter-widgets/base",
      "model_module_version": "1.2.0",
      "model_name": "LayoutModel",
      "state": {}
     },
     "6eb42857bf854f0d95f165ff96d28a70": {
      "model_module": "@jupyter-widgets/output",
      "model_module_version": "1.0.0",
      "model_name": "OutputModel",
      "state": {
       "layout": "IPY_MODEL_21c6cf0474d54a74b4ac4ec43f127838",
       "outputs": [
        {
         "name": "stdout",
         "output_type": "stream",
         "text": "   mnth weekday  hr  temp  bikes_rented\n12  Sep     Fri  12   0.0     96.625000\n12  Sep     Fri  12   0.2    161.593750\n12  Sep     Fri  12   0.4    223.613281\n12  Sep     Fri  12   0.6    278.875000\n12  Sep     Fri  12   0.8    349.468750\n12  Sep     Fri  12   1.0    399.515625\n"
        },
        {
         "data": {
          "image/png": "iVBORw0KGgoAAAANSUhEUgAABJkAAAJiCAYAAABkTxPLAAAAOXRFWHRTb2Z0d2FyZQBNYXRwbG90bGliIHZlcnNpb24zLjMuNCwgaHR0cHM6Ly9tYXRwbG90bGliLm9yZy8QVMy6AAAACXBIWXMAAAsTAAALEwEAmpwYAABczElEQVR4nO3dd3yV9d3/8dc3CWHvDQl7o6AI4ih1b617W2tbe9fan63dvb077tYO6wRXbW9ta6uorbbWulBwUhVQwcVImEnYK2FDSL6/P3KwKQUMZFzJyev5eORxzrmuc67zPg+9IOfN93xOiDEiSZIkSZIkVUdG0gEkSZIkSZLU8FkySZIkSZIkqdosmSRJkiRJklRtlkySJEmSJEmqNksmSZIkSZIkVZslkyRJkiRJkqrNkkmSJEmSJEnVZskkSZL0CUIIi0MIJ+627aoQwtSE8nQPITwVQlgWQoghhD677b81hJAfQtgYQpgbQrgyiZySJKlxsWSSJEmqR0IIWVW4WznwPHD+XvZvBs4C2gKfAyaEEI6qmYSSJEl7ZskkSZJUA0IIQ0MIr4QQikMIH4UQPlNp3yshhKsr3f63VVCp1UhfDSHkA/mf9FwxxpUxxnuBGXvZ/+MY49wYY3mMcRrwOnBkdV6fJEnSJ7FkkiRJqqYQQhPgH8ALQBfgOuDhEMLg/TjMOcBYYFjqmMUhhE/VQLbmwBjgo+oeS5IkaV+qshxbkiRJ8GQIYWel29nAu6nrRwCtgJtijOXASyGEp4FLgf+t4vF/GWNct+tGjLFdtRNXuA94D5hUQ8eTJEnaI1cySZIkVc05McZ2u36Aayvt6wEUpgqmXZYAPffj+IU1kPHfhBBuAQ4CLooxxpo+viRJUmWWTJIkSdW3DMgNIVT+3aoXsDR1fTPQotK+bns4Ro2WQCGEnwCnASfHGDfU5LElSZL2xJJJkiSp+qZRUSR9N4TQJIRwLBXf7vZoav8s4LwQQosQwgDgi9V9whBCM6Bp6mbT1O1d+/4buAw4Kca4trrPJUmSVBWWTJIkSdUUY9wBfIaKlUNrgHuBK2OMc1N3uQPYAawEHgQe/qRjhhA2hRDG7eMuW4FNqetzU7d3+QUVK6nyU8fZFEK4YT9ekiRJ0n4LfjxfkiRJkiRJ1eVKJkmSJEmSJFWbJZMkSZIkSZKqzZJJkiRJkiRJ1WbJJEmSJEmSpGrLSjpAbQkhNAXGAMuBsoTjSJIkSZIkpYNMoDswI8a4vfKOtC2ZqCiYXk86hCRJkiRJUhoaB0ytvCGdS6blAK+//jo5OTlJZ5EkSZIkSWrwioqKGDduHKR6l8rSuWQqA8jJyaFPnz4JR5EkSZIkSUor/zGayMHfkiRJkiRJqjZLJkmSJEmSJFWbJZMkSZIkSZKqzZJJkiRJkiRJ1WbJJEmSJEmSpGqzZJIkSZIkSVK1WTJJkiRJkiSp2iyZJEmSJEmSVG2WTJIkSZIkSao2SyZJkiRJkiRVmyWTJEmSJEmSqs2SSZIkSZIkSdVmySRJkiRJkqRqs2SSJEmSJElStVkySZIkSZIkqdosmSRJkiRJklRtlkySJEmSJEmqtjovmUIIPw4hxBDCQanbg0IIb4YQ8lKXAyvdd6/7JEmSJEmSVH/UackUQhgFHAEUVNp8H3BPjHEQcA/wmyrukyRJkiRJUj1RZyVTCKEpFUXRtUBMbesCjAIeSd3tEWBUCKHzvvbVVWZJkiRJkiRVTVYdPtdPgYdijItCCLu25QJLY4xlADHGshDCstT2sI99qysfOITQDmi32/Pl1NLrkCRJkiRJqpIYI7MKi9laWsZR/TslHadW1UnJFEI4EhgDfL+WnuJ64Me1dGxJkiRJkqT9snFbKU/OWsbEaQXMWb6BUb3a8ddrLZlqwjHAEGDXKqYcYBLwDaBnCCEztVIpE+gBFFKxkmlv+3Y3HvjDbttygNdr4bVIkiRJkiTt0ftFxUycVsBT7y1jy44yhnVvw8/OOYizD+mRdLRaVyclU4zxJuCmXbdDCIuBM2OMH4YQrgUuBR5KXc6MMa5O3W/W3vbtdvxioLjytkofyZMkSZIkSao1m7fv5O+zljFx+hI+XLqB5k0yOWtkdy4b25uROW0bTUdRlzOZ9uYa4MEQwo+A9cCVVdwnSZIkSZKUmA+XljBxegF/n7mUzTvKGNKtNT89ezjnHNqTNs2aJB2vziVSMsUY+1S6PhcYu5f77XWfJEmSJElSXduyYyf/eG8ZE6cX8l5hMU2zMjhzRA8uG9uLUb3aNZpVS3tSH1YySZIkSZIk1Wtzlm9g4rQCnpy5lI3bdzKwSyt+fNYwzjs0h7YtGt+qpT2xZJIkSZIkSdqDrTvKePr9ZUycXsDMgmKyszI44+DuXDa2F6N7t2/Uq5b2xJJJkiRJkiSpkvyVG3l4WgF/fbeIDdt20q9zS35wxlDOH5VD+5bZScertyyZJEmSJElSo7ettIznPlzOxGkFzFi8nuzMDE49qBuXje3F2L4dXLVUBZZMkiRJkiSp0Zq/ahOPTC/giXeLKN5SSt9OLbnh9CGcPyqHjq2aJh2vQbFkkiRJkiRJjcr2nWU8/+EKJk4rYNqidTTJDJw8vBuXH96LI/p1JCPDVUsHwpJJkiRJkiQ1CovWbOaR6QU8/k4R6zbvoFeHFnz31MFceFgunVu7aqm6LJkkSZIkSVLa2rGznBdmV6xaemPBWjIzAicN7cplY3vxqQGdXLVUgyyZJEmSJElS2lmydjOPTC/k8XcKWbNpBz3bNefbJw/iotG5dGnTLOl4acmSSZIkSZIkpYXSsnImz17JxOkFvJ6/hsyMwPFDunDZ2F58emBnMl21VKssmSRJkiRJUoNWuG4Lj84o4M9vF7F643Z6tG3GN04cxMVjcunW1lVLdcWSSZIkSZIkNTg7y8qZMncVE6cV8Fr+agJw3OCKVUvHDu7iqqUEWDJJkiRJkqQGY2nxVh6bXsBjbxeycsN2urZpynXHD+SSMbn0aNc86XiNmiWTJEmSJEmq18rKIy/PXcXE6QW8Mm8VEThmUGduPLsXxw/pQlZmRtIRhSWTJEmSJEmqp5aXbOWxGYU8NqOQ5SXb6Ny6KdceO4CLx+SS26FF0vG0G0smSZIkSZJUb5SVR17LW83D0wp4ae5KyiOMG9iJH581jBOGdqWJq5bqLUsmSZIkSZKUuFUbtvHYjEIenVHI0uKtdGqVzZeP6c+lY3rRq6OrlhoCSyZJkiRJkpSI8vLI6/PXMHHaEibPWUVZeeToAR254fShnDSsK9lZrlpqSCyZJEmSJElSnVq9cTt/fruQR2cUULhuKx1aZnP1p/pyyeG96NupZdLxdIAsmSRJkiRJUq0rL4+8sWAtE6cv4YWPVrKzPHJEvw5855QhnDK8K02zMpOOqGqyZJIkSZIkSbVm7abt/OWdIh6dXsDitVto16IJVx3Vh0vH9qJ/51ZJx1MNsmSSJEmSJEk1KsbImwvXMnFaAZM+WkFpWeTwPh24/sRBnHpQN5o1cdVSOrJkkiRJkiRJNWL95h088W4RE6cVsHDNZto0y+KKI3pz2eG9GNi1ddLxVMssmSRJkiRJ0gGLMTJj8XomTlvCsx+uYMfOcg7r3Z7bjhvAGSO6u2qpEbFkkiRJkiRJ+61kS2nFqqXpBcxftYnWzbK4dEwul47txZBubZKOpwRYMkmSJEmSpCqJMfJuwXoenlbAM+8vZ/vOcg7JbcfNF4zgzBHdaZFtzdCY+V9fkiRJkiTtU8nWUp6cuZSJ0wqYt3IjrZpmccFhOVw2thfDe7RNOp7qCUsmSZIkSZL0H2KMzCosZuK0Av7x/jK2lZYzIqctN513MGeN7EHLplYK+nf+HyFJkiRJkj62cVspT85axsRpBcxZvoEW2Zmce2gOl4/txUE9XbWkvbNkkiRJkiRJvF9UsWrpqfeWsWVHGcN7tOHn5x7E2Yf0pJWrllQF/l8iSZIkSVIjtWn7Tp6atYyJ05fw4dINNG+SyVkju3PZ2N6MzGlLCCHpiGpALJkkSZIkSWpkPlxawsTpBfx95lI27yhjSLfW/PTs4ZxzaE/aNGuSdDw1UJZMkiRJkiQ1Alt27OQf71XMWnqvqISmWRmcOaIHl43txahe7Vy1pGqzZJIkSZIkKY3NWb6BidMKeHLmUjZu38nALq348VnDOO/QHNq2cNWSao4lkyRJkiRJaWbrjjKefn8ZE6cXMLOgmOysDM44uDuXje3F6N7tXbWkWmHJJEmSJElSmshbuZGJ0wr467tFbNi2k36dW/KDM4Zy/qgc2rfMTjqe0pwlkyRJkiRJDdi20jKe/WA5E6cV8PaS9WRnZnDqQd24bGwvxvbt4Kol1RlLJkmSJEmSGqD5qzYxcVoBT7xbRMnWUvp2askNpw/hgsNy6eCqJSXAkkmSJEmSpAZi+84ynv9wBQ9PK2D6onU0yQycPLwblx/eiyP7d3TVkhJlySRJkiRJUj23cPUmHplewOPvFLF+Sym9OrTge6cO4cLROXRq1TTpeBJgySRJkiRJUr20Y2c5kz5awcRpBby5cC1ZGYGThnXlsrG9OLp/JzIyXLWk+sWSSZIkSZKkemTJ2s1MnF7A428XsXbzDnLaN+c7pwzmwtE5dGndLOl40l5ZMkmSJEmSlLDSsnImz17Jw9MKmDp/DZkZgROGdOGysb349MDOrlpSg2DJJEmSJElSQgrXbeHRGQX8+e0iVm/cTo+2zfjmSYO4aHQu3dq6akkNiyWTJEmSJEl1aGdZOVPmrmLitAJey19NAI5PrVo6ZlAXMl21pAbKkkmSJEmSpDqwtHgrj00v4LG3C1m5YTvd2jTja8cP5OIxufRo1zzpeFK1WTJJkiRJklRLdpaV88q81UycXsAr81YRgWMHdeZn5/TmuMGdycrMSDqiVGMsmSRJkiRJqmHLS7by2IxCHptRyPKSbXRp3ZSvHjeAi8fkktO+RdLxpFphySRJkiRJUg0oK4+8lreah6cV8NLclURg3MDO/Pis4ZwwtAtNXLWkNGfJJEmSJElSNazcsI0/zyjk0RmFLC3eSqdWTbnmmP5cengvcju4akmNhyWTJEmSJEn7qbw88vr8NUyctoTJc1ZRVh45ekBHbjh9KCcN60p2lquW1PhYMkmSJEmSVEWrN27nz28X8uiMAgrXbaVjy2yuHteXS8f0ok+nlknHkxJlySRJkiRJ0j6Ul0feWLCWidOX8MJHK9lZHjmyX0e+e8oQTh7elaZZmUlHlOoFSyZJkiRJkvZgzabtPP5OEY9OL2Dx2i20a9GEzx/dh0sP70W/zq2SjifVO5ZMkiRJkiSlxBh5c+FaJk4rYNJHKygtixzepwPXnziIUw/qRrMmrlqS9saSSZIkSZLU6K3bvIMn3inikekFLFyzmTbNsrjiiN5cdngvBnZtnXQ8qUGwZJIkSZIkNUoxRqYvWsfE6QU898EKdpSVc1jv9tx23ADOGNHdVUvSfrJkkiRJkiQ1KsVbdvDEu0t5ZHoB81dtonWzLC49PJfLxvZmcDdXLUkHypJJkiRJkpT2Yoy8s2Q9E6cV8MwHy9m+s5xDcttx8wUjOGtED5pnu2pJqi5LJkmSJElS2irZWsrf3i3ikemFzFu5kVZNs7hwdA6XHd6bYT3aJB1PSiuWTJIkSZKktBJjZGZhMROnFfD0+8vYVlrOiJy23HTewZw1sgctm/pWWKoNnlmSJEmSpLSwcVspT85cysPTCpi7YiMtszM599AcLh/bi4N6tk06npT2LJkkSZIkSQ3a+0XFPPxWAU+9t4ytpWUM79GGn597EGcf0pNWrlqS6oxnmyRJkiSpwdm0fSdPzVrGxOlL+HDpBpo3yeQzI3tw2dhejMhpSwgh6YhSo2PJJEmSJElqMD5cWsLE6QX8feZSNu8oY0i31tx49nDOPrQnbZo1STqe1KhZMkmSJEmS6rUtO3byj/eWMXFaAe8VldCsSQZnjqhYtXRobjtXLUn1hCWTJEmSJKlemrN8AxOnFfDkzKVs3L6TQV1b8b9nDePcUTm0be6qJam+sWSSJEmSJNUbW3eU8fT7y5g4vYCZBcVkZ2Vw5sHduWxsLw7r3d5VS1I9ZskkSZIkSUpc3sqNTJxWwBPvFrFx2076d27JD88cxvmjetKuRXbS8SRVgSWTJEmSJCkR20rLePaD5UycVsDbS9aTnZnBaQd347LDe3F43w6uWpIaGEsmSZIkSVKdmr9q08erlkq2ltKvU0v+5/ShnH9YDh1aumpJaqgsmSRJkiRJtW77zjKe/3AFD08rYPqidTTJDJwyvBuXje3Fkf06umpJSgOWTJIkSZKkWrNw9SYemV7A4+8UsX5LKb07tuD7pw3hgsNy6NSqadLxJNWgOiuZQghPAn2BcmATcF2McVYIYTGwLfUD8L0Y46TUYwYBDwIdgbXAlTHG/LrKLEmSJEnafzt2ljPpoxVMnFbAmwvXkpUROHl4Vy47vDdH9e9IRoarlqR0VJcrmT4XYywBCCGcDfwOGJXad0GM8cM9POY+4J4Y40MhhCuA3wDH10laSZIkSdJ+WbJ2MxOnF/D420Ws3byDnPbN+c4pg7lwdA5dWjdLOp6kWlZnJdOugimlLRUrmvYqhNCFihLqpNSmR4C7QwidY4yrd7tvO6DdbofIqU5eSZIkSdInKy0r58XZK5k4rYCp89eQmRE4cWgXLhvbm3EDOrlqSWpE6nQmUwjhfuBkIACnVtr1cKiY8jYVuCHGWAzkAktjjGUAMcayEMKy1PZ/K5mA64Ef1256SZIkSdIu20rLeGDqIn7/z8Ws2bSdnu2a862TBnHRmFy6tnHVktQY1WnJFGO8GiCE8FngFuB0YFyMsTCE0BQYD9wNXLGfhx4P/GG3bTnA69WIK0mSJEnaTYyRp95bxq+em8uykm0cN7gzVx7Zh08P6kymq5akRi2Rb5eLMf4phPDbEELHGGNhatv2EMK9wFOpuxUCPUMImalVTJlAj9T23Y9XDBRX3ubXX0qSJElSzXq3YD03Pj2bmQXFDO/RhtsvPoQj+nVMOpakeqJOSqYQQiug/a5CKYRwFrAO2BZCaBtjLEl9XO4SYBZAjHFVCGEWcCnwUOpy5u7zmCRJkiRJtWtp8VZufn4uf5+1jM6tm3LLBSM4f1SO85Yk/Zu6WsnUEvhLCKElUEZFwXQW0BV4IrVKKROYDVxb6XHXAA+GEH4ErAeurKO8kiRJktTobd6+k/teXcBvX1sIwHXHD+CaY/rTsmkiH4qRVM/VyZ8MMcaVwBF72X3oPh43FxhbK6EkSZIkSXtUXh554t0ibpk0j1Ubt/OZkT343mlD6NmuedLRJNVj1s+SJEmSpI9NW7iWG5+ZzYdLN3BIbjt+fcVhHNa7fdKxJDUAlkySJEmSJArWbuGXz83huQ9X0KNtMyZccghnjejh3CVJVWbJJEmSJEmN2IZtpdzz0nx+/8/FZGYEvnnSIL40rh/NszOTjiapgbFkkiRJkqRGaGdZOY+9XcjtL+SxdvMOLjgsh++cMpiubZolHU1SA2XJJEmSJEmNzNT8NfzsmdnMXbGRw/t04A+fH8bBOW2TjiWpgbNkkiRJkqRGYsHqTfzimTlMmbuK3A7N+fXlozj1oG6E4NwlSdVnySRJkiRJaa54yw4mTMnnT28uoVmTTL5/2hCuOqoPzZo4d0lSzbFkkiRJkqQ0VVpWzsNvLWH8lHw2bC3l4jG9+OZJg+jcumnS0SSlIUsmSZIkSUozMUZenreKnz8zhwWrN/OpAZ34wZlDGdKtTdLRJKUxSyZJkiRJSiPzVmzkZ8/M5vX8NfTr1JIHPjea44d0ce6SpFpnySRJkiRJaWDtpu3c/mIej0wvoHWzJvzozGFccURvsrMyko4mqZGwZJIkSZKkBmz7zjIefGMxd02Zz5bSMq48sg9fP2Eg7VtmJx1NUiNjySRJkiRJDVCMkUkfreSXz81hydotHD+kCzecPpQBXVolHU1SI2XJJEmSJEkNzIdLS7jx6dlMW7SOQV1b8ccvHM6nB3VOOpakRs6SSZIkSZIaiFUbtnHLpHk8/m4R7Vtk87NzDuKSMblkZTp3SVLyLJkkSZIkqZ7bVlrG/a8v5N5XFlBaVs6XxvXjq8cNoG3zJklHk6SPWTJJkiRJUj0VY+Qf7y/nV8/NZWnxVk4Z3pX/Pm0ofTq1TDqaJP0HSyZJkiRJqodmFqznxqdn825BMcN7tOHWC0dyZP+OSceSpL2yZJIkSZKkemRZ8VZufn4uT85aRufWTbn5ghGcPyqHzIyQdDRJ2idLJkmSJEmqBzZv38lvXl3Ab19fSIzw/44bwDXH9qdVU9+2SWoY/NNKkiRJkhJUXh7568yl3DJpLis3bOeskT343qmDyWnfIulokrRfLJkkSZIkKSHTF63jxqdn88HSEg7Jbce9lx/GYb3bJx1Lkg6IJZMkSZIk1bHCdVv45XNzePaDFXRv24zxFx/CZ0b2IMO5S5IaMEsmSZIkSaojG7eVcvfL8/n91MVkZgS+edIgvjSuH82zM5OOJknVZskkSZIkSbWsrDzy2IxCbn9xHms27eD8UTl855TBdGvbLOloklRjLJkkSZIkqRb9c/4abnx6NnNXbGRMn/b87qoxjMhpl3QsSapxlkySJEmSVAsWrt7EL56dw+Q5q8jt0Jx7Lx/FaQd1IwTnLklKT5ZMkiRJklSDSraUMmFKPn98czHNmmTy/dOGcNVRfWjWxLlLktKbJZMkSZIk1YDSsnIefmsJ46fks2FrKReP6cU3TxpE59ZNk44mSXXCkkmSJEmSqiHGyCvzVvOzZ2azYPVmjh7QkR+cMYyh3dskHU2S6pQlkyRJkiQdoLyVG7nx6dm8nr+Gfp1acv+VozlhaBfnLklqlCyZJEmSJGk/rd20nTsm5zFxWgGtmmbxwzOH8dkjepOdlZF0NElKjCWTJEmSJFXR9p1lPPjGYu56aT5bdpRx5ZF9+PoJA2nfMjvpaJKUOEsmSZIkSfoEMUYmfbSSXz43hyVrt3Dc4M78zxlDGdClddLRJKnesGSSJEmSpH34cGkJP3tmNm8tXMfALq148AuHc8ygzknHkqR6x5JJkiRJkvZg1YZt3PrCPP7yThHtW2Rz4zkHcemYXLIynbskSXtiySRJkiRJlWwrLeOBqYu45+X5lJaV86Vx/fjqcQNo27xJ0tEkqV6zZJIkSZIkKuYu/eP95fzqubksLd7KKcO78t+nDaVPp5ZJR5OkBsGSSZIkSVKjN6uwmBufns07S9YzrHsbbr1wJEf275h0LElqUCyZJEmSJDVay4q3cvPzc3ly1jI6t27KzeeP4PzDcsjMCElHk6QGx5JJkiRJUqOzZcdO7nt1Ib99bQHlEb56XH++cuwAWjX1LZIkHSj/BJUkSZLUaJSXR/46cym3TJrLyg3bOWtkD7536mBy2rdIOpokNXiWTJIkSZIahRmL13Hj07N5v6iEkbntuPfyURzWu0PSsSQpbVgySZIkSUprheu28Mvn5vDsByvo3rYZ4y8+hM+M7EGGc5ckqUZZMkmSJElKSxu3lXLPywv43dRFZGYEvnHiIP7r0/1onp2ZdDRJSkuWTJIkSZLSSll55M9vF3LbC/NYs2kH54/K4TunDKZb22ZJR5OktGbJJEmSJClt/HP+Gm58ejZzV2xkTJ/2/O6qMYzIaZd0LElqFCyZJEmSJDV4C1dv4hfPzmXynJXktG/OvZeP4rSDuhGCc5ckqa5YMkmSJElqsEq2lDJhSj5/fHMxzZpk8r1Th/D5o/vQrIlzlySprlkySZIkSWpwSsvKmTitgDsm57FhaykXj8nlmycNpnPrpklHk6RGy5JJkiRJUoPy8rxV/Ozp2SxYvZmjB3TkB2cMY2j3NknHkqRGz5JJkiRJUoOQt3IjP3tmDq/lraZvp5b835WjOXFoF+cuSVI9YckkSZIkqV5bu2k7d0zO45HphbTMzuSHZw7js0f0JjsrI+lokqRKLJkkSZIk1Us7dpbz4BuLufOlfLbsKOOKsb24/sRBtG+ZnXQ0SdIeWDJJkiRJqldijLwweyW/eHYOS9Zu4bjBnfmfM4YyoEvrpKNJkvbBkkmSJElSvfHRshJufHo2by1cx8AurXjwC4dzzKDOSceSJFWBJZMkSZKkxK3auI3bJuXx53cKade8CTeecxCXjsklK9O5S5LUUFgySZIkSUrMttIyHpi6iHtfns+OsnKu/lRf/t/xA2nbvEnS0SRJ+8mSSZIkSVKdizHy9PvLuem5uSwt3srJw7pyw+lD6dOpZdLRJEkHyJJJkiRJUp2aVVjMjU/P5p0l6xnWvQ23XDiCo/p3SjqWJKmaLJkkSZIk1YnlJVu5+fl5/G3mUjq1asqvzj+YCw7LJTMjJB1NklQDLJkkSZIk1aotO3Zy36sL+e1rCyiP8NXj+vOVYwfQqqlvRyQpnfinuiRJkqRaUV4e+dvMpdw8aS4rN2znzBHd+d6pQ8jt0CLpaJKkWmDJJEmSJKnGzVi8jhufns37RSWMzG3HvZeP4rDeHZKOJUmqRZZMkiRJkmpM4bot3PTcXJ75YDnd2jTjjotHcvbInmQ4d0mS0p4lkyRJkqRq27itlHtfWcADUxeRGQLfOHEQ//XpfjTPzkw6miSpjlgySZIkSTpgZeWRP79dyG0vzGPNph2cN6on3z1lCN3aNks6miSpjlkySZIkSTogb8xfw0+fns3cFRsZ3bs9D3xuDCNz2yUdS5KUEEsmSZIkSftl0ZrN/PyZOUyes5Kc9s2557JRnH5wN0Jw7pIkNWaWTJIkSZKqpGRLKXe+lM8f31xM06xMvnvqYL5wdF+aNXHukiTJkkmSJEnSJygtK2fitALGT86jeGspl4zJ5ZsnDaZz66ZJR5Mk1SOWTJIkSZL26uV5q/j5M3OYv2oTR/XvyA/OGMawHm2SjiVJqofqrGQKITwJ9AXKgU3AdTHGWSGEQcCDQEdgLXBljDE/9Zi97pMkSZJUe/JWbuRnz8zhtbzV9O3Ukv+7cjQnDu3i3CVJ0l7V5Uqmz8UYSwBCCGcDvwNGAfcB98QYHwohXAH8Bjg+9Zh97ZMkSZJUw9Zt3sEdL+YxcXoBLbMz+cEZQ7nyyD5kZ2UkHU2SVM/VWcm0q2BKaQuUhxC6UFE0nZTa/ghwdwihMxD2ti/GuLqOYkuSJEmNwo6d5fzxzcVMmJLPlh1lXDG2F18/cRAdWmYnHU2S1EDU6UymEML9wMlUFEinArnA0hhjGUCMsSyEsCy1Pexj3+rdjtsOaLfb0+XU3iuRJEmS0kOMkRdmr+SXz85h8dotHDu4M/9z+lAGdm2ddDRJUgNTpyVTjPFqgBDCZ4FbgB/W0KGvB35cQ8eSJEmSGoWPlpXws6fn8ObCtQzo0oo/fH4Mxw7uknQsSVIDlci3y8UY/xRC+C1QBPQMIWSmViplAj2AQipWMu1t3+7GA3/YbVsO8HptvQZJkiSpoVq1cRu3Tcrjz+8U0q55E3569nAuO7wXWZnOXZIkHbg6KZlCCK2A9jHGwtTts4B1wCpgFnAp8FDqcuaumUshhL3uqyzGWAwU7/actfJaJEmSpIZqW2kZD0xdxL0vz2dHWTlfPLov1x0/kLYtmiQdTZKUBupqJVNL4C8hhJZAGRUF01kxxhhCuAZ4MITwI2A9cGWlx+1rnyRJkqQqiDHy9PvLuem5uSwt3spJw7pyw+lD6dupZdLRJElppE5KphjjSuCIveybC4zd332SJEmSPtl7hcXc+PRs3l6ynqHd23DLBSM4akCnpGNJktJQIjOZJEmSJNWu5SVbufn5efxt5lI6tWrKTecdzIWjc8nMcKyEJKl2WDJJkiRJaWTLjp385tWF/Oa1BZRHuPbY/lx73ABaNfVXf0lS7fJvGkmSJCkNlJdHnpy1lJufn8eKDds4Y0R3vn/qEHI7tEg6miSpkbBkkiRJkhq4txev46dPz+b9ohJG5LTlrssOZUyfDknHkiQ1MpZMkiRJUgNVuG4LNz0/l2feX063Ns24/aKRnHNITzKcuyRJSoAlkyRJktTAbNxWyr2vLOCBqYvICPD1Ewby5WP60SLbX+8lScnxbyFJkiSpgSgrj/zl7UJufSGPNZu2c96hPfnOqYPp3rZ50tEkSbJkkiRJkhqCN+av4cZn5jBn+QYO692e+z83mkNy2yUdS5Kkj1kySZIkSfXYojWb+cWzc3hx9kp6tmvO3ZcdyhkHdycE5y5JkuoXSyZJkiSpHirZUsqdL+XzxzcXk52ZwXdOGcwXP9WXZk0yk44mSdIeWTJJkiRJ9cjOsnImTi/gjhfzKN5aysWjc/nmyYPo0rpZ0tEkSdonSyZJkiSpnnhl3ip+9swc5q/axJH9OvKDM4cyvEfbpGNJklQllkySJElSwvJXbuRnz8zh1bzV9OnYgt9+9jBOGtbVuUuSpAbFkkmSJElKyLrNOxg/OY+HpxXQIjuTH5wxlCuP7EN2VkbS0SRJ2m+WTJIkSVId27GznD++uZgJU/LZsqOMyw7vxTdOGkSHltlJR5Mk6YBZMkmSJEl1JMbIi7NX8otn57B47RaOGdSZH5wxlIFdWycdTZKkarNkkiRJkurA7GUbuPHp2by5cC0DurTi958fw3GDuyQdS5KkGmPJJEmSJNWiVRu3cfsLeTz2diHtmjfhp2cP59LDe9Ek07lLkqT0YskkSZIk1YJtpWU8MHUR9748n+07y/nC0X352vEDaduiSdLRJEmqFZZMkiRJUg2KMfLMB8u56bm5FK3fyknDunLD6UPp26ll0tEkSapVlkySJElSDXmvsJgbn57N20vWM6RbayZePZajBnRKOpYkSXXCkkmSJEmqpuUlW7nl+Xn8deZSOrXK5qbzDubC0blkZoSko0mSVGcsmSRJkqQDtGXHTn772kLue3UB5RG+cmx/rj22P62bOXdJktT4WDJJkiRJ+6m8PPLkrKXc/Pw8VmzYxhkHd+f7pw0ht0OLpKNJkpQYSyZJkiRpP7y9eB03Pj2b94pKGJHTlrsuO5QxfTokHUuSpMRZMkmSJElVULhuCzc9P5dn3l9O1zZNue3CkZx7aE8ynLskSRJgySRJkiTt06btO7n35fncP3URGQG+fsJAvnxMP1pk+6u0JEmV+TejJEmStAdl5ZG/vF3IrS/ksWbTds49tCffPXUw3ds2TzqaJEn1kiWTJEmSVEl5eeSVvFXcMimPOcs3cFjv9tz/udEcktsu6WiSJNVrlkySJEkSsHVHGX+dWcQDUxexcPVmerZrzl2XHsqZI7oTgnOXJEn6JJZMkiRJatRWbdjGH99cwsPTlrB+SykH92zLhEsO4fSDu9MkMyPpeJIkNRiWTJIkSWqUZi/bwANTF/HUe0vZWR45aWhXrh7XjzF92rtySZKkA2DJJEmSpEZj17yl+19fxBsL1tIiO5PLx/bmqqP60KdTy6TjSZLUoFkySZIkKe1t3VHGE+8W8bt/Vsxb6tamGd8/bQiXjulF2xZNko4nSVJasGSSJElS2to1b+mhaUsodt6SJEm1ypJJkiRJaeejZSU8MHUR/3hvmfOWJEmqI5ZMkiRJSgvOW5IkKVmWTJIkSWrQnLckSVL9YMkkSZKkBsl5S5Ik1S+WTJIkSWpQnLckSVL9ZMkkSZKkeq+8PPLyvFU8MNV5S5Ik1VeWTJIkSaq3Pp63NHURC9dspnvbZvz3aUO4xHlLkiTVO5ZMkiRJqndWbtjGH99czMPTCijeUsqIHOctSZJU31kySZIkqd7Yfd7SycO68sVPOW9JkqSGYK8lUwjhT0D8pAPEGK+s0USSJElqVPY2b+nzR/ehd0fnLUmS1FDsayXT/ErXOwGfA/4BLAF6AWcBD9ZeNEmSJKUz5y1JkpRe9loyxRh/sut6CGEScEaM8fVK2z4F/LB240mSJCndOG9JkqT0VNWZTEcAb+22bRpwZM3GkSRJUrpy3pIkSemtqiXTTOAXIYQfxRi3hhCaAz8BZtVaMkmSJDV4u+Yt3f/6It5c6LwlSZLSWVVLpquAiUBJCGE90B54G7i8lnJJkiSpAdu6o4zH3y3i97vPWzq8F22bO29JkqR0VKWSKca4GDgqhJAL9ACWxxgLajOYJEmSGh7nLUmS1HhVdSUTIYSOwLFA9xjjzSGEHkBGjLGotsJJkiSpYdjTvKWrx/VjdG/nLUmS1FhUqWQKIRwDPEHFR+SOBm4GBgLfBs6qtXSSJEmqt5y3JEmSKqvqSqbxwMUxximpmUxQ8e1yh9dKKkmSJNVbzluSJEl7UtWSqU+McUrqekxd7tiPx0uSJKmBc96SJEnal6qWRLNDCKfEGCdV2nYi8EEtZJIkSVI98uHSEn43dRH/eN95S5Ikae+qWjJ9C3g6hPAM0DyE8BsqZjGdXWvJJEmSlJjy8shLc1fxwFTnLUmSpKqpUskUY3wrhDACuAL4HVAIHO43y0mSJKWXLTt28sS7S523JEmS9ltVv13u2zHGW6n4VrnK278ZY7y9VpJJkiSpzuxp3tKdlx7KaQd1c96SJEmqkqp+XO5HwK172P4DwJJJkiSpgdp93tIpw7rxxXF9nbckSZL22z5LphDC8amrmSGE44DKv2n0AzbWVjBJkiTVDuctSZKk2vBJK5keSF02o2IW0y4RWAFcVxuhJEmSVPOctyRJkmrTPkumGGNfgBDCH2OMV9ZNJEmSJNWklRu28eAbFfOWSrY6b0mSJNWOqn673McFUwghY7d95TUdSpIkSdXnvCVJklSXqvrtcqOAe4ARVHx0DirmM0Ugs3aiSZIkaX/tmrd0/9SFvLVwHS2dtyRJkupIVb9d7kHgH8AXgC21F0eSJEkHYte8pd9NXcSiNZvp0bYZN5w+hIvHOG9JkiTVjaqWTL2B/4kxxtoMI0mSpP2z+7ylkc5bkiRJCalqyfQ34GRgUi1mkSRJUhXtad7S1eP6cpjzliRJUkKqWjI1A/4WQpgKrKi8w2+dkyRJqhvOW5IkSfVZVUum2akfSZIk1bEtO3byxDtF/O6fi523JEmS6q0qlUwxxp/UdhBJkiT9uxUl2/jjm85bkiRJDUNVVzIRQjgJuAToEmM8K4QwGmgTY3yp1tJJkiQ1Qh8uLeGBqYv4x3vLKIvOW5IkSQ1DlUqmEMJ1wNeB+4ELUpu3AncCR9VONEmSpMZjT/OWPntkbz5/VF96dWyRdDxJkqRPVNWVTNcDJ8QYF4cQvpfaNhcYXJUHhxA6An8C+gPbgfnAl2OMq0MIi4FtqR+A78UYJ6UeNwh4EOgIrAWujDHmVzGzJElSvee8JUmSlC6qWjK1BgpT12Pqsgmwo4qPj8DNMcZXAEIItwA3AV9M7b8gxvjhHh53H3BPjPGhEMIVwG+A46v4nJIkSfXWnuYt3XXpoZzqvCVJktRAVbVkeg34PvDzStu+BrxclQfHGNcBr1Ta9BbwlX09JoTQBRgFnJTa9Ahwdwihc4xx9W73bQe02+0QOVXJJkmSVJcqz1sqj5GTnbckSZLSRFVLpuuAf4QQvgS0DiHMAzYAZ+3vE4YQMqgomJ6qtPnhUPFb1VTghhhjMZALLI0xlgHEGMtCCMtS21f/+1G5Hvjx/maRJEmqC+XlkSlzV/GA85YkSVIa+8SSKVUKDQXGAQcDvan46Nz0GGP5ATznXcAm4O7U7XExxsIQQlNgfGr7Fft5zPHAH3bblgO8fgD5JEmSaoTzliRJUmPyiSVTjLE8hPD3GGNrYHrq54CEEG4FBgJn7SqoYoyFqcvtIYR7+dcKp0KgZwghM7WKKRPowb9mQ1XOWAwU7/ZcBxpTkiSpWlaUbOPBNxcz0XlLkiSpEanyTKYQwhExxrcO9IlCCD8HDgPOiDFuT21rCWTFGEtSH5e7BJgFEGNcFUKYBVwKPJS6nLn7PCZJkqT6wnlLkiSpMatqybQEeC6E8HcqVhLt+oY5Yow/+qQHhxCGAzcAecAbqV+yFgHfAp5IrVLKBGYD11Z66DXAgyGEHwHrgSurmFeSJKlO7Jq3dP/rC5m2yHlLkiSp8apqydQceDJ1vfK3tsX/vOt/ijF+BOztn+8O3cfj5gJjq/IckiRJdcl5S5IkSf+uSiVTjPHztR1EkiSpIfiPeUu57bjr0kM57aBuZDlvSZIkNWJVXckkSZLUqH24tIT7X1/I0+8vpzxGThleMW9pVC/nLUmSJIElkyRJ0l45b0mSJKnqLJkkSZJ2s2XHTh5/p4jfTV3E4rVb6NG2Gf9z+lAuPjyXNs2ctyRJkrQnlkySJEkpe5y3dPJg5y1JkiRVQZVKphDCccDiGOOiEEJ34CagDLghxriiNgNKkiTVNuctSZIkVV9VVzLdC5ySun5b6nIn8FvgMzUdSpIkqbY5b0mSJKlmVbVk6hljLAghZFFRNvUGdgDLai2ZJElSLdh93lLPds2dtyRJklQDqloybQghdAUOAmbHGDeFELIBfxOTJEkNwp7mLd19ymBOHe68JUmSpJpQ1ZLpLmAGkA1cn9p2NDC3FjJJkiTVmA+KSnhgqvOWJEmSaluVSqYY469CCH8DymKMC1KblwJX11oySZKkA1RWHpkyZyX3T13E9NS8pSuP7MPnj+5DbgfnLUmSJNWGqq5kAlgEHBFCGB1jfIyKkkmSJKnecN6SJElScqpUMoUQDgaeArYDOcBjwDHA54CLay2dJElSFSwv2cqDbyzhkenOW5IkSUpKVVcy/Rr4UYzxTyGE9altrwL/VzuxJEmSPpnzliRJkuqPqpZMw4GHUtcjQIxxcwihea2kkiRJ2gvnLUmSJNVPVS2ZFgOHAW/v2hBCOByYXwuZJEmS/oPzliRJkuq3qpZMPwSeCSHcB2SHEP4buAb4Uq0lkyRJ4l/zliZOW8KGbTs5xHlLkiRJ9VKVSqYY49MhhNOAq6mYxdQbOC/G+E5thpMkSY3XB0Ul3D91Ic+k5i2delA3vvipfhzWu33S0SRJkrQHVf12uYtijH8Grt1t+09ijD+ulWSSJKnRcd6SJElSw1XVj8vdFELYGGN8bteGEMIvgVMBSyZJklQtm7dXzFv6/T//NW/pB2cM5aIxzluSJElqKKpaMp0OTAohfDbG+FoI4Xbg08DxtRdNkiSlO+ctSZIkpY+qzmSaG0I4F/h7COGfQC/g+BjjhlpNJ0mS0pLzliRJktLPXkumEMKeVik9AHyZim+WGx1CIMb4Um2FkyRJ6cN5S5IkSeltXyuZHtjL9m3A+NT1CPSryUCSJCm97Jq39Lt/LmKJ85YkSZLS1l5Lphhj37oMIkmS0svykq384Y3FPDKt4ON5S989ZQinDO/qvCVJkqQ0VNXB35IkSVXyflExD0xd5LwlSZKkRmZfM5nmxBiHpq4XUvHRuP8QY+xVS9kkSVIDUVYemTxnJQ+k5i21aprF547qw1VHOW9JkiSpsdjXSqYvVbp+RW0HkSRJDY/zliRJkrTLvmYyTa10/dW6iSNJkhoC5y1JkiRpd1WayRRCyAZ+AFwK9ACWAY8CP48xbqu9eJIkqT5x3pIkSZL2pqqDv38NDAa+BiwBegP/DfQEvlA70SRJUn3gvCVJkiRVRVVLpnOA/jHG4tTt2SGEacB8LJkkSUpLm7fv5C9vF/L7NxY7b0mSJEmfqKol0wqgBVBcaVtzYHlNB5IkScnafd7Sob2ctyRJkqRPtteSKYRwfKWbfwKeDyHcBRQBucBXgT/WbjxJklRXdp+3dNpB3fnCp/o6b0mSJElVsq+VTA/sYdsNu93+MvCrmosjSZLq0sfzll5fxPTFzluSJEnSgdtryRRj7FuXQSRJUt3Z27yli8fk0tp5S5IkSToAVZ3JJEmS0sDKDdv43T8XOW9JkiRJNc6SSZKkRmBFyTbue3UBE6cXsLOs3HlLkiRJqnGWTJIkpbEVJdv49SvzeWRGIWXlkfNH9eSrxw2gd8eWSUeTJElSmrFkkiQpDX1cLk0vpDxGzh+Vw1ePG0Cvjg7zliRJUu2wZJIkKY0sL9nKr19ZwKOpcumCwyrKJb8pTpIkSbXNkkmSpDSwrLiiXHpshuWSJEmSkmHJJElSA7Z7uXTh6ByuPdZySZIkSXXPkkmSpAZoWfFW7n1lPn+eUZQql3K59tj+lkuSJElKjCWTJEkNyNLirdz78nz+/HYhwMflUk57yyVJkiQly5JJkqQGwHJJkiRJ9Z0lkyRJ9VjR+i3c+8oC/pIqly4ancu1xw2gZ7vmCSeTJEmS/p0lkyRJ9VDR+i3c8/ICHn+noly6eEwuXznWckmSJEn1lyWTJEn1iOWSJEmSGipLJkmS6oHCdVu495X5/OXtIjJC4JIxvfjKsf3pYbkkSZKkBsKSSZKkBBWu28I9L8/n8XcqyqXLxlaUS93bWi5JkiSpYbFkkiQpAZZLkiRJSjeWTJIk1aHCdVu4+6X5PPFuRbl0+dheXGO5JEmSpDRgySRJUh0oWLuFu1/O56/vLiUjI3DFEb255pj+dGvbLOlokiRJUo2wZJIkqRbtKpeeeHcpmZZLkiRJSmOWTJIk1YIlazdz90vz+evMinLps0f05ivH9qdrG8slSZIkpSdLJkmSatDiNZu5++X5/C1VLl15ZMXKJcslSZIkpTtLJkmSakDlcinLckmSJEmNkCWTJEnVsHjNZu56aT5Pzqoolz53ZB+uOaYfXSyXJEmS1MhYMkmSdAAWrdnMXS/l8/dZy8jKCFx1VB++/GnLJUmSJDVelkySJO2HXeXSkzOXkp2VUVEuHdOPLq0tlyRJktS4WTJJklQFC1dv4u7Ux+KyszL4wtF9+S/LJUmSJOljlkySJO3DglS59PdUufTFT/Xlvz7dn86tmyYdTZIkSapXLJkkSdoDyyVJkiRp/1gySZJUyfxVm7j7pXyeem8Z2VkZXD2uH18a189ySZIkSfoElkySJFFRLt2VKpeaZWXypXH9+NKn+9GpleWSJEmSVBWWTJKkRm33cum/Pl2xcslySZIkSdo/lkySpEZp/qqN3DllPv94/1/l0n+N60dHyyVJkiTpgFgySZIalfyVG7nzpfk8/f4ymjfJ5Muf7s+XxvW1XJIkSZKqyZJJktQo7F4uXXNMf740rh8dWmYnHU2SJElKC5ZMkqS0lrdyI3dOyeeZD5ZbLkmSJEm1yJJJkpSW8lZuZMKUfJ79YDktmmTylWP6c7XlkiRJklRr6qRkCiF0BP4E9Ae2A/OBL8cYV4cQBgEPAh2BtcCVMcb81OP2uk+SpD2Zt2Ijd770r3Lp2mP7c/Wn+tHeckmSJEmqVXW1kikCN8cYXwEIIdwC3AR8EbgPuCfG+FAI4QrgN8Dxqcfta58kSR+bt+JfH4trmW25JEmSJNW1OimZYozrgFcqbXoL+EoIoQswCjgptf0R4O4QQmcg7G1fjHF1XeSWJNV/c1ds4M4p+Tz7wQpaNc3i/x03gC9+qq/lkiRJklTH6nwmUwghA/gK8BSQCyyNMZYBxBjLQgjLUtvDPvat3u2Y7YB2uz1VTi2+DElSwnYvl647vqJcatfCckmSJElKQhKDv+8CNgF3A4fW0DGvB35cQ8eSJNVjc5ZXlEvPfWi5JEmSJNUndVoyhRBuBQYCZ8UYy0MIhUDPEEJmaqVSJtADKKRiJdPe9u1uPPCH3bblAK/X0kuRJNWx2csqyqXnP1pB66ZZfO34AXzBckmSJEmqN+qsZAoh/Bw4DDgjxrgdIMa4KoQwC7gUeCh1OXPXzKV97assxlgMFO/2fLX0SiRJdek/yqUTBvLFo/vStkWTpKNJkiRJqqROSqYQwnDgBiAPeCNVAC2KMZ4LXAM8GEL4EbAeuLLSQ/e1T5KUxj5aVsKdU/KZ9NFKyyVJkiSpAairb5f7iIqPv+1p31xg7P7ukySlp4+WlTBhcj4vzF5J62ZZfP2EgXzBckmSJEmq95IY/C1J0n/4cGnFyqVd5dL1Jw7k80f3pW1zyyVJkiSpIbBkkiQl6sOlJUyYks+LlkuSJElSg2bJJElKxIdLSxg/OZ/Jc1bSplkW3zhxEFcd3cdySZIkSWqgLJkkSXVq93LpmydVlEttmlkuSZIkSQ2ZJZMkqU58UFTChCl5TJ6zynJJkiRJSkOWTJKkWvV+UTETJuczZe4q2jZvwrdOGsTnLJckSZKktGPJJEmqFbuXS98+eRCfO6oPrS2XJEmSpLRkySRJqlHvFRYzYUo+L81dRbsWTfjOKYO58sjelkuSJElSmrNkkiTViFmFxUyYnMfL81ZbLkmSJEmNkCWTJKla9lQufe6oPrRq6l8xkiRJUmPiOwBJ0gGZWbCeCVPyeWXeatq3aMJ3Tx3MlUdaLkmSJEmNle8EJEn75d2C9UyYnM+reZZLkiRJkv7FdwSSpCrZvVz63qlD+OyRvS2XJEmSJAGWTJKkT/DOkoqPxb2Wt5oOLbP5/mlD+OwRvWlpuSRJkiSpEt8hSJL26J0l6xk/OY/X89dYLkmSJEn6RL5TkCT9m3eWrGP85PyPy6X/Pm0IV1guSZIkSfoEvmOQJAHw9uJ1TJhSUS51bJnNDadXlEstsv2rQpIkSdIn852DJDVyby+uWLk0df4aOrWyXJIkSZJ0YHwHIUmN1IzF6xg/OY9/zl9Lp1bZ/M/pQ7n8iF6WS5IkSZIOiO8kJKmRmb5oHROm/Ktc+sEZQ7l8bG+aZ2cmHU2SJElSA2bJJEmNxPRFFSuX3liwlk6tmlouSZIkSapRlkySlOamLVzL+Mn5vLnQckmSJElS7bFkkqQ09dbCtUyoVC798MxhXHZ4L8slSZIkSbXCkkmS0sxbC9cyfnIeby1cR+fWlkuSJEmS6oYlkySliTcXVJRL0xZVlEs/OnMYl43tRbMmlkuSJEmSap8lkyQ1cJXLpS6tm/Ljs4Zx6eGWS5IkSZLqliWTJDVAMUbeTA30np4ql/73rGFcYrkkSZIkKSGWTJLUgMQYK1YuTbFckiRJklS/WDJJUgPwcbk0OZ/pi9fRtU1TfvKZ4Vw8JtdySZIkSVK9YMkkSfVYjJE3UjOXZixeT7c2zfjp2cO5aLTlkiRJkqT6xZJJkuqhGCP/nL+WCVMslyRJkiQ1DJZMklSP7CqXxk/O4+0lFeXSjWcP50LLJUmSJEn1nCWTJNUDMUamzl/D+Mn5vLNkPd3bNuPGcw7iotE5NM2yXJIkSZJU/1kySVKCYoy8nr+GCVMslyRJkiQ1bJZMkpSAXeXS+Ml5vFtQTI+2zfjZOQdxoeWSJEmSpAbKkkmS6lCMkddS5dLMVLn083MP4oLDLJckSZIkNWyWTJJUB2KMvJq3mglT8plZUEzPds0tlyRJkiSlFUsmSapFu8ql8ZPzmVVYUS794tyDueCwHLKzMpKOJ0mSJEk1xpJJkmpBjJFXUuXSe6ly6ZfnHcz5oyyXJEmSJKUnSyZJqkExRl6Zt5rxUyyXJEmSJDUulkySVAM+Lpcm5/FeUQk57Ztz03kHc57lkiRJkqRGwpJJkqohxsjL81YxfnI+76fKpV+dX1EuNcm0XJIkSZLUeFgySdIBiDHy0txVTJhSUS7ldrBckiRJktS4WTJJ0n7YVS6Nn5zPB0sryqWbzx/BuaN6Wi5JkiRJatQsmSSpCmKMTJlTsXLpg6Ul9OrQgpsvGMG5h1ouSZIkSRJYMknSPsUYmTxnFROm5PHh0g2WS5IkSZK0F5ZMkrQHu8ql8ZPz+GjZBnp3bMEtF4zgHMslSZIkSdojSyZJqiTGyIuzVzJhSv7H5dKtF47knEN6kGW5JEmSJEl7ZckkSVSUSy/MXsmEyfnMXr6BPh1bcNuFIznbckmSJEmSqsSSSVKjZrkkSZIkSTXDkklSo1ReniqXpuQzZ/kG+nZqye0XjeQzIy2XJEmSJOlAWDJJalQqyqUVjJ+cz9wVG+nbqSV3XDySs0ZYLkmSJElSdVgySWoUdi+X+lkuSZIkSVKNsmSSlNbKyyOTPlrBhCn/KpfGX3wIZ43sQWZGSDqeJEmSJKUNSyZJaam8PPL8RyuYMDmfeSs30q9zSyZccghnjrBckiRJkqTaYMkkKa1YLkmSJElSMiyZJKWF8vLIcx+u4M4pFeVSf8slSZIkSapTlkySGrQYI1PmrOLWF+Yxd8VGBnRpxZ2XHsoZB3e3XJIkSZKkOmTJJKnBemPBGm6ZNI+ZBcX06djClUuSJEmSlCBLJkkNzsyC9dz6wjz+OX8t3ds246bzDub8w3JokpmRdDRJkiRJarQsmSQ1GHNXbOC2F/J4cfZKOrbM5odnDuPysb1o1iQz6WiSJEmS1OhZMkmq9xav2cwdk/N46r1ltGqaxbdPHsTnj+5Ly6b+ESZJkiRJ9YXv0CTVW8tLtnLnlPn8+e1CmmQGrjmmP1/+dD/atchOOpokSZIkaTeWTJLqnbWbtnPvKwv401tLiDHy2SN6c+1x/enSulnS0SRJkiRJe2HJJKne2LCtlPtfW8gDUxextbSM80fl8LUTBpLboUXS0SRJkiRJn8CSSVLitu4o4w9vLOa+VxdQsrWUM0Z05xsnDmJAl1ZJR5MkSZIkVZElk6TE7NhZzqMzCrjrpfms3rid44d04ZsnDeKgnm2TjiZJkiRJ2k+WTJLq3M6ycv42cykTpuRTtH4rh/ftwK8vH8XoPh2SjiZJkiRJOkCWTJLqTHl55PmPVnDbC/NYsHozI3La8otzD2bcwE6EEJKOJ0mSJEmqBksmSbUuxsgreau57YV5fLh0AwO7tOK+Kw7jlOFdLZckSZIkKU1YMkmqVdMXreOWSXOZsXg9uR2ac/tFIzn7kJ5kZlguSZIkSVI6sWSSVCs+KCrh1hfm8Wrearq0bsrPzjmIi0bnkp2VkXQ0SZIkSVItsGSSVKPyV27k9hfzeO7DFbRv0YQbTh/ClUf2oVmTzKSjSZIkSZJqUZ2UTCGEW4HzgT7AwTHGD1PbFwPbUj8A34sxTkrtGwQ8CHQE1gJXxhjz6yKvpP1XuG4Ld0zO48mZS2mRncX1Jw7ki5/qS+tmTZKOJkmSJEmqA3W1kulJYALw+h72XbCrdNrNfcA9McaHQghXAL8Bjq+9iJIOxMoN27jrpXwem1FIRghcPa4f1xzTnw4ts5OOJkmSJEmqQ3VSMsUYpwJV/hapEEIXYBRwUmrTI8DdIYTOMcbVtRJS0n5Zv3kH9726gD+8sZiy8sglh+dy3fED6dqmWdLRJEmSJEkJqA8zmR4OFe3TVOCGGGMxkAssjTGWAcQYy0IIy1Lb/6NkCiG0A9rttjmnFjNLjdbGbaU8MHUR97++iM07dnLuIT25/sRB9OrYIulokiRJkqQEJV0yjYsxFoYQmgLjgbuBKw7gONcDP67BXJJ2s620jD+9uYR7X5nP+i2lnDq8G988eRCDurZOOpokSZIkqR5ItGSKMRamLreHEO4FnkrtKgR6hhAyU6uYMoEeqe17Mh74w27bctjzDChJ+6G0rJzHZhRy10v5rNywnXEDO/HtkwczMrdd0tEkSZIkSfVIYiVTCKElkBVjLEl9XO4SYBZAjHFVCGEWcCnwUOpy5t7mMaU+Yle82/FrK7rUKJSVR556byl3vJhPwbotjO7dngmXHMoR/TomHU2SJEmSVA/VSckUQrgTOA/oBkwOIawFzgKeSK1SygRmA9dWetg1wIMhhB8B64Er6yKr1NjFGJn00Upuf3EeeSs3Max7G35/1RiOHdzZ8laSJEmStFd19e1yXwO+toddh+7jMXOBsbUWStK/iTEydf4abp00j/eKSujXuSX3XDaK0w7qRkaG5ZIkSZIkad+SHvwtqR54Z8k6bpk0j7cWrqNnu+bcfMEIzju0J1mZGUlHkyRJkiQ1EJZMUiP20bISbnshj5fmrqJTq6b85DPDueTwXJpmZSYdTZIkSZLUwFgySY3QgtWbuOPFPJ5+fzltmmXx3VMHc9VRfWiR7R8JkiRJkqQD4ztKqREpWr+FO6fk8/g7RTRrksl1xw/g6nH9aNu8SdLRJEmSJEkNnCWT1Ais3ride16ez8RpBQBcdVRfrj2uP51aNU04mSRJkiQpXVgySWmsZEspv3ltAb//52J2lJVz0egcrjt+ID3aNU86miRJkiQpzVgySWlo8/ad/OGNxdz36gI2btvJZ0b24BsnDaJvp5ZJR5MkSZIkpSlLJimNbCstY+K0Au59ZT5rNu3gxKFd+dbJgxjavU3S0SRJkiRJac6SSUoDO8vKeeLdIiZMzmdZyTaOHtCR3548mFG92icdTZIkSZLUSFgySQ1YeXnk6Q+Wc8eLeSxas5lDcttxy4UjOXpAp6SjSZIkSZIaGUsmqQGKMfLS3FXcMmkec1dsZEi31tx/5WhOGNqFEELS8SRJkiRJjZAlk9TAvLFgDbdMmsfMgmL6dGzBhEsO4awRPcjIsFySJEmSJCXHkklqIGYVFnPrpHlMnb+G7m2bcdN5B3P+YTk0ycxIOpokSZIkSZZMUn03d8UGbnshjxdnr6Rjy2x+eOYwLh/bi2ZNMpOOJkmSJEnSxyyZpHpq8ZrN3DE5j6feW0arpll8++RBfP7ovrRs6mkrSZIkSap/fLcq1TPLS7Zy55T5/PntQppkBq45pj9f/nQ/2rXITjqaJEmSJEl7Zckk1RNrN23n3lcW8Ke3lhBj5LNH9Oba4/rTpXWzpKNJkiRJkvSJLJmkhG3YVsr9ry3kgamL2FpaxvmjcvjaCQPJ7dAi6WiSJEmSJFWZJZOUkK07yvjDG4u579UFlGwt5YwR3fnGiYMY0KVV0tEkSZIkSdpvlkxSHduxs5xHZxRw10vzWb1xO8cN7sy3Th7MQT3bJh1NkiRJkqQDZskk1ZGdZeX8beZSJkzJp2j9Vg7v24FfXz6K0X06JB1NkiRJkqRqs2SSall5eeT5j1Zw2wvzWLB6Mwf3bMsvzj2YcQM7EUJIOp4kSZIkSTXCkkmqJTFGXslbzW0vzOPDpRsY2KUV910xilOGd7NckiRJkiSlHUsmqRZMX7SOWybNZcbi9eR2aM7tF43k7EN6kplhuSRJkiRJSk+WTFIN+qCohFtfmMereavp0ropN55zEBePziU7KyPpaJIkSZIk1SpLJqkG5K/cyO0v5vHchyto16IJN5w+hM8e0Yfm2ZlJR5MkSZIkqU5YMknVULhuC+Mn5/O3mUW0yM7i6ycM5OpxfWndrEnS0SRJkiRJqlOWTNIBWLVhG3e9NJ9HZxSQEQJXj+vHNcf0p0PL7KSjSZIkSZKUCEsmaT+s37yD+15dwINvLmZnWeTiMblcd/xAurVtlnQ0SZIkSZISZckkVcGm7Tt54PVF3P/6Qjbt2Mm5h/Tk+hMH0atji6SjSZIkSZJUL1gySfuwrbSMP725hF+/uoB1m3dw6vBufPPkQQzq2jrpaJIkSZIk1SuWTNIelJaV8+e3C7lzSj4rN2xn3MBOfPvkwYzMbZd0NEmSJEmS6iVLJqmSsvLIU+8t5Y4X8ylYt4XRvdsz4ZJDOaJfx6SjSZIkSZJUr1kySUCMkRdmr+S2F+aRt3ITw7q34fdXjeHYwZ0JISQdT5IkSZKkes+SSY1ajJGp89dw66R5vFdUQr/OLbnnslGcdlA3MjIslyRJkiRJqipLJjVa7yxZxy2T5vHWwnX0bNecmy8YwXmH9iQrMyPpaJIkSZIkNTiWTGp0PlpWwm0v5PHS3FV0atWUn3xmOJccnkvTrMyko0mSJEmS1GBZMqnRWLB6E3e8mMfT7y+nTbMsvnvqYK46qg8tsj0NJEmSJEmqLt9dK+0Vrd/CnVPyefydIpo1yeS64wdw9bh+tG3eJOlokiRJkiSlDUsmpa3VG7dzz8vzmTitAICrjurLtcf1p1OrpgknkyRJkiQp/VgyKe2UbCnlN68t4Pf/XMyOsnIuGp3DdccPpEe75klHkyRJkiQpbVkyKW1s3r6TP7yxmPteXcDGbTv5zMgefOOkQfTt1DLpaJIkSZIkpT1LJjV420rLmDitgHtfmc+aTTs4cWhXvnXyIIZ2b5N0NEmSJEmSGg1LJjVYO8vKeeLdIiZMzmdZyTaO6t+R3145mFG92icdTZIkSZKkRseSSQ1OeXnk6Q+Wc8eLeSxas5lDcttxy4UjOXpAp6SjSZIkSZLUaFkyqcGIMfLS3FXcMmkec1dsZHDX1vzflaM5cWgXQghJx5MkSZIkqVGzZFKD8MaCNdwyaR4zC4rp07EFEy45hLNG9CAjw3JJkiRJkqT6wJJJ9dqswmJunTSPqfPX0K1NM3553sFccFgOTTIzko4mSZIkSZIqsWRSvTR3xQZueyGPF2evpEPLbH545jAuH9uLZk0yk44mSZIkSZL2wJJJ9criNZsZPzmPv7+3jFbZWXzrpEF8/lN9adXU/1UlSZIkSarPfOeuemF5yVbunDKfv7xdSFZm4Jpj+vPlT/ejXYvspKNJkiRJkqQqsGRSotZu2s6vX1nAH99aQoyRy8f24qvHDaBLm2ZJR5MkSZIkSfvBkkmJ2LCtlPtfW8gDUxextbSM80fl8LUTBpLboUXS0SRJkiRJ0gGwZFKd2rqjjAffXMyvX1lAydZSzji4O984aRADurRKOpokSZIkSaoGSybViR07y3l0RgF3vTSf1Ru3c9zgznzr5MEc1LNt0tEkSZIkSVINsGRSrSorj/xt5lLGT86jaP1WDu/bgV9fPorRfTokHU2SJEmSJNUgSybVivLyyPMfreD2F/OYv2oTB/dsyy/OPZhxAzsRQkg6niRJkiRJqmGWTKpRMUZezVvNrS/M48OlGxjYpRX3XTGKU4Z3s1ySJEmSJCmNWTKpxkxftI5bJs1lxuL15HZozu0XjeTsQ3qSmWG5JEmSJElSurNkUrV9UFTCrS/M49W81XRp3ZQbzzmIi0fnkp2VkXQ0SZIkSZJURyyZdMDyV27k9hfzeO7DFbRr0YQbTh/CZ4/oQ/PszKSjSZIkSZKkOmbJpP1WuG4L4yfn87eZRbTIzuLrJwzk6nF9ad2sSdLRJEmSJElSQiyZVGWrNmzjrpfm8+iMAjJC4Opx/bjmmP50aJmddDRJkiRJkpQwSyZ9ovWbd3Dfqwt48M3F7CyLXDwml+uOH0i3ts2SjiZJkiRJkuoJSybt1abtO3ng9UXc//pCNu3YybmH9OT6EwfRq2OLpKNJkiRJkqR6xpJJ/2FbaRl/enMJv351Aes27+CU4V351smDGdS1ddLRJEmSJElSPWXJpI+VlpXz57cLuXNKPis3bGfcwE58++TBjMxtl3Q0SZIkSZJUz1kyibLyyFPvLeWOF/MpWLeFw3q3Z/zFh3Jk/45JR5MkSZIkSQ2EJVMjFmPkhdkrue2FeeSt3MSw7m34/VVjOHZwZ0IISceTJEmSJEkNiCVTIxRjZOr8Ndw6aR7vFZXQr1NL7r7sUE4/qDsZGZZLkiRJkiRp/1kyNTLvLFnHLZPm8dbCdfRs15ybLxjBeYf2JCszI+lokiRJkiSpAbNkaiRmL9vAbS/MY8rcVXRqlc3/njWMS8f2omlWZtLRJEmSJElSGrBkSnMLV2/i9hfzePr95bRplsV3Tx3MVUf1oUW2/+klSZIkSVLNqZOmIYRwK3A+0Ac4OMb4YWr7IOBBoCOwFrgyxpj/Sfv0yZYWb+XOyfk8/m4RTbMy+H/HDeBLn+5H2+ZNko4mSZIkSZLSUF0tZ3kSmAC8vtv2+4B7YowPhRCuAH4DHF+FfdqL1Ru3c8/L85k4rQCAzx3Zh2uP60+nVk0TTiZJkiRJktJZnZRMMcapACH865vLQghdgFHASalNjwB3hxA6A2Fv+2KMq3c/fgihHdBut805NfcK6r+SLaX89vUF/G7qYnaUlXPhYTlcd8JAerZrnnQ0SZIkSZLUCCQ5mCcXWBpjLAOIMZaFEJaltod97PuPkgm4HvhxnaSuZzZv38kf3ljMb15dwIZtO/nMyB5846RB9O3UMulokiRJkiSpEUmX6c/jgT/sti2H//x4XtrYvrOMidMKuOfl+azZtIMTh3bhmycNZliPNklHkyRJkiRJjVCSJVMh0DOEkJlaqZQJ9EhtD/vY9x9ijMVAceVtlT+al052lpXzxLtFTJicz7KSbRzVvyO/vXIwo3q1TzqaJEmSJElqxBIrmWKMq0IIs4BLgYdSlzN3zVza177GqLw88swHy7njxTwWrtnMIbntuOXCkRw9oFPS0SRJkiRJkuqmZAoh3AmcB3QDJocQ1sYYhwPXAA+GEH4ErAeurPSwfe1rNGKMvDR3Fbe+kMec5RsY3LU1/3flaE4c2iVtV2tJkiRJkqSGp66+Xe5rwNf2sH0uMHYvj9nrvsbkL+8U8d3H36dPxxZMuOQQzhrRg4wMyyVJkiRJklS/pMvg77R15ojuEOHcUT1pkpmRdBxJkiRJkqQ9smSq51pkZ3HRmNykY0iSJEmSJO2TS2MkSZIkSZJUbZZMkiRJkiRJqjZLJkmSJEmSJFWbJZMkSZIkSZKqzZJJkiRJkiRJ1WbJJEmSJEmSpGqzZJIkSZIkSVK1WTJJkiRJkiSp2iyZJEmSJEmSVG2WTJIkSZIkSao2SyZJkiRJkiRVmyWTJEmSJEmSqs2SSZIkSZIkSdVmySRJkiRJkqRqs2SSJEmSJElStVkySZIkSZIkqdosmSRJkiRJklRtlkySJEmSJEmqNksmSZIkSZIkVZslkyRJkiRJkqrNkkmSJEmSJEnVlpV0gFqUCVBUVJR0DkmSJEmSpLRQqWfJ3H1fiDHWbZo6EkL4FPB60jkkSZIkSZLS0LgY49TKG9K5ZGoKjAGWA2UJx6mOHCrKsnGAy7KkvfNckarGc0WqGs8VqWo8V6SqSadzJRPoDsyIMW6vvCNtPy6XeqFTP/GO9VwIYdfVohjj4gSjSPWa54pUNZ4rUtV4rkhV47kiVU0anisL9rTRwd+SJEmSJEmqNksmSZIkSZIkVZslkyRJkiRJkqrNkqn+KwZ+krqUtHfFeK5IVVGM54pUFcV4rkhVUYznilQVxTSCcyVtv11OkiRJkiRJdceVTJIkSZIkSao2SyZJkiRJkiRVmyVTPRFCGBRCeDOEkJe6HLiH+2SGEO4JISwIIcwPIVydRFYpSVU8V34YQvgohPBeCOGdEMIpSWSVklSVc6XSfQeHELaEEG6ty4xSfVDVcyWEcFEI4YMQwoepy651nVVKUhV/B+sSQngmhPB+CGFuCOHeEEJWEnmlJIQQbg0hLAohxBDCQXu5T1q/r7dkqj/uA+6JMQ4C7gF+s4f7XA4MAAYCRwL/G0LoU2cJpfqhKufKdGBMjHEk8AXgsRBC8zrMKNUHVTlXCCFkpvY9WXfRpHrlE8+VEMJo4H+Bk2KMBwGfAkrqMqRUD1Tl75UbgDkxxhHAwcBhwHl1F1FK3JPAp4El+7hPWr+vd/B3PRBC6ALkAR1jjGWpX/jXAgNjjKsr3e8Z4PcxxsdTt+8GlsQYb0kit1TXqnqu7PaYQMU3OAyPMRbVWVgpQftzroQQ/gfYDrQCWsUYv13ngaWE7MfvYA8DU2KMv0soqpSo/ThX7gBaAF9JXb4O/L8Y4z8TiC0lJoSwGDgzxvjhHval9ft6VzLVD7nA0hhjGUDqcllqe2W9+PdGtGAP95HSWVXPlcquBBZYMKmRqdK5EkIYAZwC3FHnCaX6oap/rwwD+oUQXgshvBtC+EHqHzGkxqKq58qNwCBgObACmGTBJP2HtH5fb8kkKW2FEI6h4pedS5POItU3IYQmwP8B1+x60yBpr7KAEcBJwDHAacBnE00k1U8XAu8D3YGewKdDCBckG0lSXbJkqh8KgZ6pZae75mP0SG2vrADoXel2rz3cR0pnVT1XCCEcCTwEnBNjnFenKaXkVeVc6Q70B55NLem+HvhSCOG3dRtVSlRV/15ZAjweY9weY9wI/B04vE6TSsmq6rlyHfBwjLE8xlhCxblyXJ0mleq/tH5fb8lUD8QYVwGz+Ndqi0uBmXuYMfMXKt4AZIQQOgPnAE/UVU4paVU9V0IIY4DHgAtijO/WaUipHqjKuRJjLIgxdoox9okx9gHGA/8XY/yvOo4rJWY/fgebCJwcKjQBTgDeq7OgUsL241xZBJwKEELIBk4E/mMmjdTIpfX7ekum+uMa4LoQQh4V/wJwDUAI4dnUN5oA/AlYCOQDbwE/jTEuTCKslKCqnCv3As2B34QQZqV+Dk4mrpSYqpwrkqp2rjwKrAJmU/FG+yPggbqPKiWqKufK9cC4EMIHVJwreVR8NFtqFEIId4YQioAcYHII4aPU9kbzvt5vl5MkSZIkSVK1uZJJkiRJkiRJ1WbJJEmSJEmSpGqzZJIkSZIkSVK1WTJJkiRJkiSp2iyZJEmSJEmSVG2WTJIkSbUkhHBDCOH+hJ57cQjhxE+4T68QwqYQQmZd5ZIkSenLkkmSJKWVqpQrdSXG+IsY49UH+vgQwuEhhGdDCMUhhHUhhOkhhM/XYL6CGGOrGGNZTR1TkiQ1XpZMkiRJ9VAI4UjgJeBVYADQEfgKcFqSuSRJkvbGkkmSJKWNEMKfgF7AP1IfA/tuavsRIYQ3UiuC3gshHFvpMa+EEH6W2r8phPCPEELHEMLDIYQNIYQZIYQ+le4fQwhfCyEsDCGsCSHcEkLY4+9UIYT/DSE8lLreJ/XYz4UQClKP/Z99vJxbgAdjjL+KMa6JFd6JMV5U6fhnhhBmpV7XGyGEEXvJcXgI4e3U61kZQrh9t0xZqdv/tgpst/zNQggPhRDWpp5vRgih6z7/g0iSpEbFkkmSJKWNGONngQLgrNTHwG4OIfQEngF+BnQAvg08EULoXOmhlwCfBXoC/YE3gd+n7j8H+PFuT3UuMBoYBZwNfGE/Yn4KGAycAPwohDB09zuEEFoARwKP7+0gIYRRwO+AL1Oxyuk3wFMhhKZ7uPsEYEKMsU3q9f15P/Lu8jmgLZCber5rgK0HcBxJkpSmLJkkSVK6uwJ4Nsb4bIyxPMb4IvA2cHql+/w+xrggxlgCPAcsiDFOjjHuBP4CHLrbMX8VY1wXYywAxgOX7keen8QYt8YY3wPeA0bu4T7tqfg9bfk+jvMl4DcxxmkxxrIY44PAduCIPdy3FBgQQugUY9wUY3xrP/JWPkZHYEDq+d6JMW44gONIkqQ0ZckkSZLSXW/gwtRHvIpDCMVUrCbqXuk+Kytd37qH2612O2ZhpetLgB77kWdFpetb9nBsgPVA+W4Zd9cb+NZuryt3L1m+CAwC5qY+5nbmfuTd5U/AJODREMKyEMLNIYQmB3AcSZKUpiyZJElSuom73S4E/hRjbFfpp2WM8aZqPEdupeu9gGXVONZ/iDFuoeIje+fv426FwM93e10tYoyP7OF4+THGS4EuwK+Ax0MILfdwzM1Ai0q3u1U6RmmM8ScxxmHAUcCZwJX7/eIkSVLasmSSJEnpZiXQr9Lth4CzQginhBAyUwOsjw0h5FTjOb4TQmgfQsgFvg48Vp3Ae/Fd4KoQwndCCB0BQggjQwiPpvb/H3BNCGFsqNAyhHBGCKH17gcKIVwRQugcYywHilOby/bwnLOAS0IITUIIo4ELKh3juBDCwSGETGADFR+f29MxJElSI2XJJEmS0s0vgR+kPkL27RhjIRXDuW8AVlOxAug7VO/3oL8D71BRyjwDPFCtxHsQY3wDOD71szCEsA74LfBsav/bVMxlupuKj9fNB67ay+FOBT4KIWyiYgj4JTHGbXu43w+pGAy+HvgJMLHSvm5UDCLfQMUw9FepKPAkSZIACDHuvqJckiRJexNCiMDAGOP8pLNIkiTVJ65kkiRJkiRJUrVZMkmSJEmSJKna/LicJEmSJEmSqs2VTJIkSZIkSao2SyZJkiRJkiRVmyWTJEmSJEmSqs2SSZIkSZIkSdVmySRJkiRJkqRqs2SSJEmSJElStf1/vrCp7mkECQgAAAAASUVORK5CYII=\n",
          "text/plain": "<Figure size 1440x720 with 1 Axes>"
         },
         "metadata": {
          "needs_background": "light"
         },
         "output_type": "display_data"
        }
       ]
      }
     },
     "6ee4fad781a24df789fee575cd7a2dab": {
      "model_module": "@jupyter-widgets/controls",
      "model_module_version": "1.5.0",
      "model_name": "ButtonModel",
      "state": {
       "description": "View Predictions",
       "layout": "IPY_MODEL_0a0b4219c1b5472a93bb02253b11c93c",
       "style": "IPY_MODEL_edd60a3f14194328b617a479126f78e0"
      }
     },
     "6f7c309b344c45eea3ac098c50517466": {
      "model_module": "@jupyter-widgets/controls",
      "model_module_version": "1.5.0",
      "model_name": "VBoxModel",
      "state": {
       "children": [
        "IPY_MODEL_bb5c85edd06e471e8ff4e7458629fe82"
       ],
       "layout": "IPY_MODEL_f3dd68601e7d4aa3945772af1bb85cfc"
      }
     },
     "707a349c4e724023b219de2e49ddd5fc": {
      "model_module": "@jupyter-widgets/base",
      "model_module_version": "1.2.0",
      "model_name": "LayoutModel",
      "state": {}
     },
     "71e5ff42a09e462eafd3e69d23c22098": {
      "model_module": "@jupyter-widgets/base",
      "model_module_version": "1.2.0",
      "model_name": "LayoutModel",
      "state": {}
     },
     "726c1cb363ef4d7d8ace05f0185e07f5": {
      "model_module": "@jupyter-widgets/controls",
      "model_module_version": "1.5.0",
      "model_name": "ButtonModel",
      "state": {
       "description": "View Predictions",
       "layout": "IPY_MODEL_d32d7498c5374239bfe3a064b3b6a466",
       "style": "IPY_MODEL_e655abb77e724d479076e416a95335cc"
      }
     },
     "726ea68ea99e4026a187c96f315402b6": {
      "model_module": "@jupyter-widgets/base",
      "model_module_version": "1.2.0",
      "model_name": "LayoutModel",
      "state": {}
     },
     "739c60500ec44f07b19223fc027d221b": {
      "model_module": "@jupyter-widgets/base",
      "model_module_version": "1.2.0",
      "model_name": "LayoutModel",
      "state": {}
     },
     "7560a1ad0f3a43828d89c66b388baa98": {
      "model_module": "@jupyter-widgets/base",
      "model_module_version": "1.2.0",
      "model_name": "LayoutModel",
      "state": {}
     },
     "7675e02c0a424c69a28cd1c12099e0a9": {
      "model_module": "@jupyter-widgets/base",
      "model_module_version": "1.2.0",
      "model_name": "LayoutModel",
      "state": {}
     },
     "77646c21b9164a3ea8fc2964b3904f34": {
      "model_module": "@jupyter-widgets/base",
      "model_module_version": "1.2.0",
      "model_name": "LayoutModel",
      "state": {}
     },
     "77fee13ad3644db2a05ebd5a3400dd1f": {
      "model_module": "@jupyter-widgets/controls",
      "model_module_version": "1.5.0",
      "model_name": "ButtonModel",
      "state": {
       "description": "View Predictions",
       "layout": "IPY_MODEL_739c60500ec44f07b19223fc027d221b",
       "style": "IPY_MODEL_7a37601e9f9142c9adaf3a96cc5d232a"
      }
     },
     "78759ec911cf4556a47bf7435e23121f": {
      "model_module": "@jupyter-widgets/base",
      "model_module_version": "1.2.0",
      "model_name": "LayoutModel",
      "state": {}
     },
     "788c39d0d12b445996253f42f551f47c": {
      "model_module": "@jupyter-widgets/controls",
      "model_module_version": "1.5.0",
      "model_name": "VBoxModel",
      "state": {
       "children": [
        "IPY_MODEL_9dea0f41e50c4653bd6a92500185476c"
       ],
       "layout": "IPY_MODEL_50fe79cf864a413bb9a4e34cca181944"
      }
     },
     "78a894e52bb94857b1654ffe78cdb55a": {
      "model_module": "@jupyter-widgets/output",
      "model_module_version": "1.0.0",
      "model_name": "OutputModel",
      "state": {
       "layout": "IPY_MODEL_370a9b7e35824446aa2072d407066c89",
       "outputs": [
        {
         "name": "stdout",
         "output_type": "stream",
         "text": "Temperature Chosen: 0.2\n"
        }
       ]
      }
     },
     "792b4e1c229c4536b5978694f6f18046": {
      "model_module": "@jupyter-widgets/base",
      "model_module_version": "1.2.0",
      "model_name": "LayoutModel",
      "state": {}
     },
     "79564ae0504b4e8980593ea4e7bc9b8f": {
      "model_module": "@jupyter-widgets/controls",
      "model_module_version": "1.5.0",
      "model_name": "ButtonModel",
      "state": {
       "description": "View Predictions",
       "layout": "IPY_MODEL_b3eb8fd6901649e6a0c0c8bc80db5755",
       "style": "IPY_MODEL_83cea590bf854152839cb6523381ecbe"
      }
     },
     "7a2edaf7d44a4459b1f1eebec66b9139": {
      "model_module": "@jupyter-widgets/controls",
      "model_module_version": "1.5.0",
      "model_name": "ButtonStyleModel",
      "state": {}
     },
     "7a37601e9f9142c9adaf3a96cc5d232a": {
      "model_module": "@jupyter-widgets/controls",
      "model_module_version": "1.5.0",
      "model_name": "ButtonStyleModel",
      "state": {}
     },
     "7aa98904e26543319d5ae9f2cf3792fa": {
      "model_module": "@jupyter-widgets/base",
      "model_module_version": "1.2.0",
      "model_name": "LayoutModel",
      "state": {}
     },
     "7abbe2d4e9624c159c95c76b9486ab69": {
      "model_module": "@jupyter-widgets/base",
      "model_module_version": "1.2.0",
      "model_name": "LayoutModel",
      "state": {}
     },
     "7b52f09578774584a1b9c4178298c2ad": {
      "model_module": "@jupyter-widgets/base",
      "model_module_version": "1.2.0",
      "model_name": "LayoutModel",
      "state": {}
     },
     "7cc2d138d3ce4e45af9f3120d1ccfbd9": {
      "model_module": "@jupyter-widgets/base",
      "model_module_version": "1.2.0",
      "model_name": "LayoutModel",
      "state": {}
     },
     "7d5725e6d7c94ae6a226457f28975fdd": {
      "model_module": "@jupyter-widgets/controls",
      "model_module_version": "1.5.0",
      "model_name": "HBoxModel",
      "state": {
       "children": [
        "IPY_MODEL_ae84bca58288453b935b83c09dc7fb6b",
        "IPY_MODEL_2c801778a2ea420fad080195c4915619"
       ],
       "layout": "IPY_MODEL_f81b23f0c42244389c6bbc37584619bf"
      }
     },
     "7ded95d9656f4f159ae770a9cfe0f670": {
      "model_module": "@jupyter-widgets/controls",
      "model_module_version": "1.5.0",
      "model_name": "FloatSliderModel",
      "state": {
       "continuous_update": false,
       "description": "Temp Celsius",
       "layout": "IPY_MODEL_d415b90a940244629a5a1346b9361519",
       "max": 1,
       "readout_format": ".1f",
       "step": 0.1,
       "style": "IPY_MODEL_f580d2afa0174817821dab82e636d35c",
       "value": 0.2
      }
     },
     "804073ce7e044533a28f77841b0886eb": {
      "model_module": "@jupyter-widgets/output",
      "model_module_version": "1.0.0",
      "model_name": "OutputModel",
      "state": {
       "layout": "IPY_MODEL_32f2b785c7904987821d4792c4014c88",
       "outputs": [
        {
         "name": "stdout",
         "output_type": "stream",
         "text": "Date Chosen: 2021-09-09\n"
        }
       ]
      }
     },
     "805431d8fccc40b5b233faba4742a1ff": {
      "model_module": "@jupyter-widgets/base",
      "model_module_version": "1.2.0",
      "model_name": "LayoutModel",
      "state": {}
     },
     "807df5b9f5d5462dbdd487224684bf22": {
      "model_module": "@jupyter-widgets/controls",
      "model_module_version": "1.5.0",
      "model_name": "VBoxModel",
      "state": {
       "children": [
        "IPY_MODEL_bd4d50d4a5064669a55c0c24645bdd03"
       ],
       "layout": "IPY_MODEL_188312c8c75d4d5ebae0d2832f9e5513"
      }
     },
     "812866f36fd7474ab8546833bdd1535d": {
      "model_module": "@jupyter-widgets/controls",
      "model_module_version": "1.5.0",
      "model_name": "VBoxModel",
      "state": {
       "children": [
        "IPY_MODEL_db240f0673264d519949de3179a6a2b4"
       ],
       "layout": "IPY_MODEL_15542c37d02a4995aa4dea225f9eceed"
      }
     },
     "81355d25437c4490a51fe04a1fc0f02e": {
      "model_module": "@jupyter-widgets/output",
      "model_module_version": "1.0.0",
      "model_name": "OutputModel",
      "state": {
       "layout": "IPY_MODEL_91a3c47defdc4c3386e21f0fee680ecf",
       "outputs": [
        {
         "name": "stdout",
         "output_type": "stream",
         "text": "   mnth weekday  season workingday holiday  hr  bikes_rented\n0   Sep     Thu  summer        yes      no   0     11.023438\n1   Sep     Thu  summer        yes      no   1     -8.813477\n2   Sep     Thu  summer        yes      no   2    -15.621094\n3   Sep     Thu  summer        yes      no   3    -27.316406\n4   Sep     Thu  summer        yes      no   4    -29.981445\n5   Sep     Thu  summer        yes      no   5    -14.173828\n6   Sep     Thu  summer        yes      no   6     76.145508\n7   Sep     Thu  summer        yes      no   7    206.561523\n8   Sep     Thu  summer        yes      no   8    347.228516\n9   Sep     Thu  summer        yes      no   9    241.358398\n10  Sep     Thu  summer        yes      no  10    181.060547\n11  Sep     Thu  summer        yes      no  11    242.023438\n12  Sep     Thu  summer        yes      no  12    313.250000\n13  Sep     Thu  summer        yes      no  13    301.977539\n14  Sep     Thu  summer        yes      no  14    293.543945\n15  Sep     Thu  summer        yes      no  15    270.479492\n16  Sep     Thu  summer        yes      no  16    330.070312\n17  Sep     Thu  summer        yes      no  17    484.865234\n18  Sep     Thu  summer        yes      no  18    423.651367\n19  Sep     Thu  summer        yes      no  19    315.324219\n20  Sep     Thu  summer        yes      no  20    236.489258\n21  Sep     Thu  summer        yes      no  21    152.859375\n22  Sep     Thu  summer        yes      no  22    115.160156\n23  Sep     Thu  summer        yes      no  23     74.492188\n"
        },
        {
         "data": {
          "image/png": "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\n",
          "text/plain": "<Figure size 864x432 with 1 Axes>"
         },
         "metadata": {},
         "output_type": "display_data"
        }
       ]
      }
     },
     "81f8ed943096424faa9eb72ee26690e5": {
      "model_module": "@jupyter-widgets/controls",
      "model_module_version": "1.5.0",
      "model_name": "SliderStyleModel",
      "state": {
       "description_width": ""
      }
     },
     "829cd4bc890a48b08a08e20b41291390": {
      "model_module": "@jupyter-widgets/controls",
      "model_module_version": "1.5.0",
      "model_name": "ButtonStyleModel",
      "state": {}
     },
     "830975a03be744aeb515c8cb15535626": {
      "model_module": "@jupyter-widgets/output",
      "model_module_version": "1.0.0",
      "model_name": "OutputModel",
      "state": {
       "layout": "IPY_MODEL_b062a20f84684083a0bd0356b6e04dfa",
       "outputs": [
        {
         "name": "stdout",
         "output_type": "stream",
         "text": "Temperature Chosen: 0.7\n"
        }
       ]
      }
     },
     "83cea590bf854152839cb6523381ecbe": {
      "model_module": "@jupyter-widgets/controls",
      "model_module_version": "1.5.0",
      "model_name": "ButtonStyleModel",
      "state": {}
     },
     "8538afcdb8a34fc2ad747a1a746ed3fe": {
      "model_module": "@jupyter-widgets/base",
      "model_module_version": "1.2.0",
      "model_name": "LayoutModel",
      "state": {}
     },
     "85b30fb069f445a58e9629179804ddd6": {
      "model_module": "@jupyter-widgets/base",
      "model_module_version": "1.2.0",
      "model_name": "LayoutModel",
      "state": {}
     },
     "878009350fdb41a09a4b54278f44a22f": {
      "model_module": "@jupyter-widgets/base",
      "model_module_version": "1.2.0",
      "model_name": "LayoutModel",
      "state": {}
     },
     "8a58dded3d174a7c997059f370e4d8da": {
      "model_module": "@jupyter-widgets/base",
      "model_module_version": "1.2.0",
      "model_name": "LayoutModel",
      "state": {}
     },
     "8d44313edd684914a17f8551b3eacc5d": {
      "model_module": "@jupyter-widgets/base",
      "model_module_version": "1.2.0",
      "model_name": "LayoutModel",
      "state": {}
     },
     "8ed132ee9f41417699301fd9e413ab54": {
      "model_module": "@jupyter-widgets/output",
      "model_module_version": "1.0.0",
      "model_name": "OutputModel",
      "state": {
       "layout": "IPY_MODEL_c512034bb0384c2692377cf4aeb910a8",
       "outputs": [
        {
         "name": "stdout",
         "output_type": "stream",
         "text": "Hour Chosen: 12\n"
        }
       ]
      }
     },
     "8f630ef14a1f400b8c6f7ddc7d142407": {
      "model_module": "@jupyter-widgets/output",
      "model_module_version": "1.0.0",
      "model_name": "OutputModel",
      "state": {
       "layout": "IPY_MODEL_ba8ac47d82b94aa2b36e91a3a35d8aa5",
       "outputs": [
        {
         "name": "stdout",
         "output_type": "stream",
         "text": "   mnth weekday  season workingday holiday  hr  bikes_rented\n0   Sep     Fri  summer        yes      no   0     18.773438\n1   Sep     Fri  summer        yes      no   1      1.191406\n2   Sep     Fri  summer        yes      no   2     -8.531250\n3   Sep     Fri  summer        yes      no   3    -21.882812\n4   Sep     Fri  summer        yes      no   4    -22.820312\n5   Sep     Fri  summer        yes      no   5     -5.804688\n6   Sep     Fri  summer        yes      no   6     82.027344\n7   Sep     Fri  summer        yes      no   7    208.875000\n8   Sep     Fri  summer        yes      no   8    355.980469\n9   Sep     Fri  summer        yes      no   9    240.859375\n10  Sep     Fri  summer        yes      no  10    189.511719\n11  Sep     Fri  summer        yes      no  11    247.460938\n12  Sep     Fri  summer        yes      no  12    319.667969\n13  Sep     Fri  summer        yes      no  13    318.750000\n14  Sep     Fri  summer        yes      no  14    299.984375\n15  Sep     Fri  summer        yes      no  15    278.156250\n16  Sep     Fri  summer        yes      no  16    331.835938\n17  Sep     Fri  summer        yes      no  17    489.445312\n18  Sep     Fri  summer        yes      no  18    426.921875\n19  Sep     Fri  summer        yes      no  19    317.675781\n20  Sep     Fri  summer        yes      no  20    238.218750\n21  Sep     Fri  summer        yes      no  21    157.179688\n22  Sep     Fri  summer        yes      no  22    121.535156\n23  Sep     Fri  summer        yes      no  23     80.632812\n"
        },
        {
         "data": {
          "image/png": "iVBORw0KGgoAAAANSUhEUgAAAtsAAAGKCAYAAADdSo1nAAAAOXRFWHRTb2Z0d2FyZQBNYXRwbG90bGliIHZlcnNpb24zLjMuNCwgaHR0cHM6Ly9tYXRwbG90bGliLm9yZy8QVMy6AAAACXBIWXMAAAsTAAALEwEAmpwYAAAxxklEQVR4nO3de3RU5b3/8c8MSQhMLiQZouGaqGjUcxRFrUK4aWnw0GM5tQLCQS6KghkP4o0fWkVWxVahIEpAiVyrRwlQsKus1npBQhAFVFCMIpfBImOA3MnEyGX27w8OU0MyA6PzTC68X2tlrcl+Zp7vs5PsJ5/sPLO3zbIsSwAAAADCzt7YAwAAAABaKsI2AAAAYAhhGwAAADCEsA0AAAAYQtgGAAAADCFsAwAAAIYQtgGghViyZImioqIaexgAgB8gbAM4p3z33Xd6/PHH1a1bN7Vp00YpKSm69tpr9fzzz4e91s9//nONHj067P02JQsWLNBNN92k5ORk2Ww2FRYWNvi8JUuW6JJLLlHr1q2VmZmpV199NeRaixcvVv/+/dW+fXvFx8erR48eDfbz1VdfKTs7W23btpXT6dT48ePl9Xr97Rs2bNCtt96qTp06qU2bNurWrZuefPJJff/993X6uf/++/Wzn/1Mbdu25Y8YAD8asweAc8qECRO0bt06zZkzR1deeaWqqqr0ySef6J///GdjD63J8vl8sixLrVq1qtdWU1OjG2+8UcOHD9ddd93V4OvXrFmjO++8UzNnztTNN9+stWvX6o477lBycrJuvvnmsx7HO++8o1tuuUXPPvuskpKStHr1ao0cOVJRUVEaOnSoJKm6ulo33XSTrrjiCr3//vsqKyvT2LFjVVFRoddff12StHHjRl144YWaOHGiOnfurI8//ljjx4/XwYMHNX/+fH+9EydOaPjw4dq/f7+ee+65EL5iAPADFgCcQxITE60XXnjhjM977bXXrCuvvNJq3bq11bVrV2vSpElWdXW1v71v377WmDFjrMmTJ1spKSlWfHy8deedd1o1NTWWZVnWqFGjLEl1PtatW2dZlmUVFxdbo0aNspxOpxUXF2f17NnTWr9+vb/vdevWWZKstWvXWtdff70VGxtrXX311daOHTusHTt2WL169bLatGljXXvttdbnn3/uf93ixYutVq1aWW+99ZZ12WWXWa1bt7auvfZa66OPPqqzb1u3brUGDBhgORwOy+l0Wv/1X/9l7du3z98+depU68ILL7Ref/1165JLLrFatWplffbZZ0G/Xm6325JkbdiwoV7bDTfcYN1+++11tv3mN7+x+vbtG/ybcBZ++ctfWr/+9a/9n7/00ktWbGysVVFR4d/217/+1ZJk7d27N2A/M2fOtJKTkxtsO/V1BYAfg2UkAM4paWlp+vvf/66ysrKAz1myZIkmTJigBx98UEVFRVq2bJnefvttjR8/vs7zVq5cqdLSUm3YsEGvvvqq/vKXv2jy5MmSpDlz5qh3794aMmSIvv32W3377bfq2bOnvvvuO/Xv319HjhzR3/72N33yySf6j//4Dw0YMEBffPFFnf4fe+wxTZ8+XR999JFiYmJ0++23a8KECZo2bZp/25gxY+q8xufz6ZFHHtG8efO0efNmpaamatCgQaqpqZEkFRUVqW/fvrrhhhu0detWvfvuu2rVqpUGDBig2tpafz8ej0fz5s3TkiVLVFRUpK5du/6or/fRo0e1ZcsWDRw4sM72gQMH6oMPPtCJEyd+VL+nVFZWyul0+j/fuHGjbrjhBiUmJvq3/eIXv5DdbtfGjRvPuh8ACJvGTvsAEEmFhYVWly5dLLvdbv37v/+7NW7cOGvNmjWWz+fzP6dr167W/Pnz67xu/fr1liSrrKzMsqyTZ7a7du1qHT9+3P+cl156yYqJifGfAb/pppusUaNG1eln8eLFVseOHa1jx47V2d6/f39r4sSJlmX968z26tWr/e35+fmWJGvlypX+bX/+858tSdaRI0f8fUuy3n77bf9zysrKLIfDYeXl5VmWdfKM+9ChQ+vUrq2ttdq0aeOvN3XqVMtms1lff/110K/lDwU6s33gwAFLkvXmm2/W2X7qbPOhQ4fOusbp/vSnP1nR0dF1ztwPGDCg3ll0y7Isp9NpPfvssw32U1RUZMXHxwf8jwdntgH8FKzZBnBO6dWrl/bs2aPNmzdr06ZNKigo0K233qqbb75Zf/nLX1RSUqKvv/5aDzzwgB566CH/6yzLkiTt3r1b1157rSTpuuuuq7OOuVevXjp69Kj27NmjK664osH6W7ZsUXFxsdq1a1dn+/fff682bdrU2XbllVf6H59//vmSVKffU9sOHTqkuLg4//YbbrjB/zgpKUmXXnqpioqK/PV3795d5/mSVFtbq127dvk/P++889SlS5cG9yGcbDbbj3rdG2+8oXHjxmnhwoW6+uqrf3StXbt26Re/+IWGDRsml8v1o8YCAMEQtgGcc6KiotSzZ0/17NlTDz74oF555RWNHDlSBQUFyszMlHRyGUj//v3rvbZTp04B+z0VyIPx+Xy69NJLtXr16nptbdu2rfN5dHS0//GpoNjQNp/PF7TmD8fl8/k0cuRI/b//9//qPS8lJcX/2OFwBO3zbDmdTkVFRam4uLjO9oMHD6p169ZKSkoKuc/XX39do0ePVl5enkaOHFmnLS0tTfv376+z7dixYyorK/P/cXLKjh07NGDAAP3qV7+q88ZIAAgn1mwDOOddeumlkk6eIT7vvPPUuXNn7dy5UxdddFG9j9jYWP/rtmzZUmfN8aZNmxQTE6MLL7xQkhQTE1NvTfI111yjvXv3KiEhoV7fHTp0CMv+fPDBB/7HFRUV+vLLL/37eM011+jTTz/VhRdeWK/+jwm+ZxITE6Nrr71Wb775Zp3tf//733X99dc3eIWTYPLy8jR69GgtXbq0XtCWTv53YdOmTaqqqvJve+utt+Tz+dSrVy//ti1btqhv374aMmSI5s+f/6PPsAPAmRC2AZxT+vbtqxdffFFbt27V119/rXfeeUf33nuv2rVr5z+TPX36dD3//PN66qmntGPHDu3cuVNr1qzRPffcU6ev0tJS5eTk6IsvvtDatWv1+OOPa9y4cf6zwhkZGfroo4+0Z88elZSU6NixYxoxYoQyMjI0aNAg/eMf/9C+ffv04Ycf6ve//73WrFnzk/fPZrPpkUceUUFBgT777DPdcccdcjgcGj58uCTp0Ucf1RdffKH//u//1ubNm+V2u7Vu3TpNnDhRe/fuDblecXGxtm3b5l+msnv3bm3btq3OmexHHnlEy5cv15w5c7Rz507NmjVLf/7zn/1vJj1bs2fP1oQJEzRnzhz17dtXxcXFKi4urvNm1+HDh8vpdGr48OHavn271q1bp5ycHA0dOlQZGRmSpIKCAt1000361a9+pSlTpujgwYP+vn7o1L6cuizktm3btG3bNlVXV4f8dQJwDmvkNeMAEFG///3vraysLKt9+/ZW69atrc6dO1sjRoyocwk9y7Ks1atXW9dff73Vpk0bKz4+3rryyiutadOm+dtPXfrvoYcespKTk624uDhrzJgxltfr9T9nz549Vu/evS2Hw1Hn0n8lJSXW+PHjrQ4dOljR0dFWhw4drMGDB1sff/yxZVn/eoPk/v37/X1t2LDBkmS53W7/tk2bNlmSrF27dlmW9a838r355ptWZmamFRMTY11zzTXWli1b6uzbp59+at1yyy1Wu3btrNjYWOvCCy+0xo0bZ5WWllqW9a9L/52NqVOn1rvEoSRr6tSpdZ63ePFiq1u3blZ0dLR18cUXW3/605/qtZ++f6fr2rVrg7VOv4Tgl19+aQ0YMMBq06aNlZycbN199911LtvY0GUZT338UN++fRt8zqnvIwCcDZtlncUiQwBAHf369dNFF12kl19+ubGH0iI88cQTWrVqlbZv387dGgG0KCwjAQA0ur/+9a+aO3cuQRtAixORWe3QoUOaMWOG//OamhrV1NRo8eLF8ng8ys3NVXV1teLi4uRyuZSWliZJQdsAAC3Hxx9/3NhDAAAjGmUZyZIlS3TixAndeeedmjZtmvr3768+ffqooKBA69at09SpUyUpaBsAAADQ1EV8Gcnx48e1YcMG9e/fX5WVlXK73crKypIkZWVlye12q6qqKmgbAAAA0BxEfHHc1q1blZycrAsuuEB79+5VcnKy7PaTmd9utyspKUklJSWSFLAtISGhTp9er1der7deLYfDEbYbMwAAAAChinjYXrduXYN3Zfsp1q5dq5UrV9bbnp+fH9Y6AAAAQCgiGrbLyspUVFQkl8sl6eStgcvKyuTz+WS32+Xz+VReXi6n0ynLsgK2nW7QoEHq169fgzU9Ho/JXQIAAMA5LtgdgCO6Zvu9997TVVddpfj4eElSYmKi0tPTVVhYKEkqLCxURkaGEhISgradzuFwKDU1td4HAAAA0JgiejWSiRMnasyYMerevbt/24EDB5Sbmyuv1yuHwyGXy+X/6yBY29nizDYAAABMCpZPW/wdJAnbAAAAMKnJLCMBAAAAziWEbQAAAMAQwjYAAABgCGEbAAAAMISwDQAAABhC2AYAAAAMIWwDAAAAhhC2AQAAAEMI2wAAAIAhhG0AAADAEMI2AAAAYAhhGwAAADCEsA0AAAAYQtgGAAAADCFsAwAAAIYQtgEAAABDCNsAAACAIYRtAAAAwBDCNgAAAGAIYRsAAAAwhLANAAAAGELYBgAAAAwhbAMAAACGELYBAAAAQwjbAAAAgCGEbQAAAMAQwjYAAABgCGEbAAAAMISwDQAAABhC2AYAAAAMIWwDAAAAhhC2AQAAAEMI2wAAAIAhhG0AAADAEMI2AAAAYAhhGwAAADCEsA0AAAAYQtgGAAAADImKVKGjR49q6dKl+uyzzxQdHa2LL75Y99xzjzwej3Jzc1VdXa24uDi5XC6lpaVJUtA2AAAAoKmLWNh+5ZVXFB0drTlz5shms6miokKSlJeXp+zsbPXp00cFBQVasGCBpk6desY2AAAAoKmLyDKS2tpaFRQUaNiwYbLZbJKkdu3aqbKyUm63W1lZWZKkrKwsud1uVVVVBW0DAAAAmoOInNkuLi5WfHy8VqxYoc8//1yxsbEaNmyYYmJilJycLLv9ZOa32+1KSkpSSUmJJAVsS0hIqNO/1+uV1+utVzc1NdXwngEAAACBRSRs+3w+HTx4UBkZGRo5cqR27dqlZ555Rg888EBY+l+7dq1WrlxZb3t+fr46dOgQlhoAAABAqCIStp1Op1q1aqVevXpJkrp166b4+HjFxMSorKxMPp9PdrtdPp9P5eXlcjqdsiwrYNvpBg0apH79+jVY2+PxmNw1AAAAnOOCndyNyJrthIQEXX755fr0008lnQzAVVVVSktLU3p6ugoLCyVJhYWFysjIUEJCghITEwO2nc7hcCg1NbXeBwAAANCYbJZlWZEodPDgQc2fP19HjhxRVFSUhg0bpquuukoHDhxQbm6uvF6vHA6HXC6X/6+DYG1nizPbAAAAMClYPo1Y2G4shG0AAACY1OjLSAAAAIBzEWEbAAAAMISwDQAAABhC2AYAAAAMIWwDAAAAhhC2AQAAAEMI2wAAAIAhhG0AAADAEMI2AAAAYAhhGwAAADCEsA0AAAAYQtgGAAAADCFsAwAAAIYQtgEAAABDCNsAAACAIYRtAAAAwBDCNgAAAGAIYRsAAAAwhLANAAAAGELYBgAAAAwhbAMAAACGELYBAAAAQwjbAAAAgCGEbQAAAMAQwjYAAABgCGEbAAAAMISwDQAAABhC2AYAAAAMIWwDAAAAhhC2AQAAAEMI2wAAAIAhhG0AAADAEMI2AAAAYAhhGwAAADCEsA0AAAAYQtgGAAAADCFsAwAAAIZERapQTk6OoqOjFR0dLUkaMWKEunfvLo/Ho9zcXFVXVysuLk4ul0tpaWmSFLQNAAAAaOoiFrYl6YEHHlCXLl3qbMvLy1N2drb69OmjgoICLViwQFOnTj1jGwAAANDUNeoyksrKSrndbmVlZUmSsrKy5Ha7VVVVFbQNAAAAaA4iemb7hRdekGVZyszM1O23367S0lIlJyfLbj+Z+e12u5KSklRSUiJJAdsSEhLq9Ov1euX1euvVS01NNbxHAAAAQGARC9vTpk2T0+nUsWPHtGTJEi1cuFC//OUvw9L32rVrtXLlynrb8/Pz1aFDh7DUAAAAAEIVsbDtdDolSdHR0crOztYzzzyjUaNGqaysTD6fT3a7XT6fT+Xl5XI6nbIsK2Db6QYNGqR+/fo1WNfj8ZjcLQAAAJzjgp3cjcia7draWtXU1EiSLMvSxo0blZ6ersTERKWnp6uwsFCSVFhYqIyMDCUkJARtO53D4VBqamq9DwAAAKAx2SzLskwXOXjwoP74xz/K5/PJ5/OpU6dOGjNmjJKSknTgwAHl5ubK6/XK4XDI5XL5/zoI1na2OLMNAAAAk4Ll04iE7cZE2AYAAIBJwcJ2RK9GAgAAWqZjO1800m/0JeON9AtECrdrBwAAAAwhbAMAAACGELYBAAAAQwjbAAAAgCGEbQAAAMAQwjYAAABgCGEbAAAAMISwDQAAABhC2AYAAAAMIWwDAAAAhhC2AQAAAEMI2wAAAIAhhG0AAADAEMI2AAAAYAhhGwAAADCEsA0AAAAYQtgGAAAADCFsAwAAAIYQtgEAAABDCNsAAACAIYRtAAAAwBDCNgAAAGAIYRsAAAAwhLANAAAAGELYBgAAAAwhbAMAAACGELYBAAAAQwjbAAAAgCFRjT0AAACAUMV8+Ecj/R792YNG+sW5izPbAAAAgCFnPLP9xBNPyGaznbGjadOmhWVAAAAAQEtxxrB94403+h8fPHhQ69atU9++fdW+fXuVlJRo/fr16t+/v9FBAgAAAM3RGcN2v379/I8fe+wxPfbYY+rcubN/W1ZWlubPn68hQ4YYGSAAAADQXIW0Zvubb77ReeedV2dbamqqDhw4ENZBAQAAAC1BSGH7sssu07x58/Ttt9/q6NGj8ng8mj9/vjIzM02NDwAAAGi2Qrr0X05Ojl5++WU98MAD8vl8atWqla677jrde++9psYHAAAANFshhe24uDjdf//98vl8qqqqUkJCgux2rh4IAAAANCTkm9p88803+uCDD1RZWak777xTHo9Hx44dU9euXc/q9StWrNCKFSs0c+ZMdenSRR6PR7m5uaqurlZcXJxcLpfS0tIkKWgbAAAA0NSFdFp606ZNmjp1qsrKylRQUCBJ+u6777Rs2bKzev3evXu1a9cuOZ1O/7a8vDxlZ2drzpw5ys7O1oIFC86qDQAAAGjqQgrb+fn5evzxx3X33Xf7l4907dpV+/btO+Nrjx07poULF+quu+7y3ySnsrJSbrdbWVlZkk5eRtDtdquqqipoGwAAANAchLSMpLKyst5yEZvNdlZ3mFy+fLl69+6t1NRU/7bS0lIlJyf7g7vdbldSUpJKSkokKWBbQkJCnb69Xq+8Xm+9mj+sBQAAAERaSGH7ggsuUEFBgfr27evftnHjRl100UVBX/fVV19pz549GjFixI8b5RmsXbtWK1eurLc9Pz9fHTp0MFITAAD8y9c7zfQb6Pd4iZly5AaEXUhhe8yYMXrqqaf07rvv6vvvv9f06dPl8Xj029/+NujrioqK5PF45HK5JJ08oz19+nSNGjVKZWVl8vl8stvt8vl8Ki8vl9PplGVZAdtON2jQoDp3uvwhj8cTyi4CAIAmJNDv8ZgI1wOCCfZHWkhhu2PHjnruuef00UcfqUePHkpJSVGPHj0UGxsb9HWDBw/W4MGD/Z/n5ORo8uTJ6tKli/7xj3+osLBQffr0UWFhoTIyMvzLRNLT0wO2/ZDD4ZDD4QhlVwAAAADjQgrbixYt0tixY9WzZ88625csWaLRo0f/qAGMGzdOubm5WrVqlRwOh//s95naAAAAgKbOZlmWdbZPHjVqlJYuXVpv+9ixY7Vo0aKwDixc+HcQAADmHdv5opF+oy8Z3+D2mA//aKTe0Z89aKRftGw/eRnJu+++K0k6ceKE//Ephw4dUnx8/E8YHgAAANAynVXY3rBhgyTp+PHj/senJCYmKicnJ/wjAwAAAJq5swrbU6dOlSS9/vrrGjZsmNEBAQAAAC1FSG+QPBW0KysrVVtbW6ftvPPOC9+oAAAAgBYgpLC9bds2zZ8/XxUVFfXali9fHq4xAQAAAC1CSGF74cKFuvXWW9WvXz/FxJi6nDwAAADQMoQUtqurqzVgwADZbDZT4wEAAABaDHsoT77xxhu1bt06U2MBAAAAWpSQzmzv2rVLf/vb3/TGG2+oXbt2ddqmTZsWznEBAAAAzV5IYfvGG2/UjTfeaGosAAAAQIsSUtju16+foWEAAAAALU9IYduyLL3zzjvauHGjjhw5opkzZ6qoqEgVFRXq2bOnqTECAAAAzVJIb5Bcvny51q1bp5///OcqKSmRJKWkpOiNN94wMjgAAACgOQspbK9fv16TJ09Wr169/Jf/S01N1aFDh4wMDgAAAGjOQgrbPp9PsbGxdbbV1tbW2wYAAAAgxDXb3bt317JlyzRq1ChJJ9dwL1++XD169DAyOADN34SSfUb6ne9MN9IvAADhFNKZ7VGjRqm8vFyjR49WTU2N7rjjDh0+fFgjRowwNT4AAACg2TrrM9s+n08ffPCBJk6cqO+++06HDx+W0+msd3MbAAAAACed9Zltu92uZcuWKSYmRomJibrooosI2gAAAEAQIS0j6dGjh7Zu3WpqLAAAAECLEtIbJI8dO6ZZs2bp4osvVkpKiv/yf5LkcrnCPjgAAACgOQspbHfu3FmdO3c2NRYAAACgRQkpbN92221nfM6aNWs0ePDgHzseAAAAoMUIac322Vi9enW4uwQAAACapbCHbcuywt0lAAAA0CyFPWz/8E2TAAAAwLks7GEbAAAAwEkhvUHybLCMBACAxnf426VG+m2fNspIv0BLFfYz25deemm4uwQAAACapZDObO/YsUOpqalKTU1VeXm5Xn31Vdntdg0fPtx/6/YpU6aYGCcAAADQ7IR0ZnvhwoWy20++ZNmyZTpx4oRsNpteeuklI4MDAAAAmrOQzmyXlZXJ6XTqxIkT2r59u+bNm6eoqCjdc889psYHAAAANFshhe02bdqooqJC+/fvV6dOnRQbG6vjx4/r+PHjpsYHAGgkf3V8YqzvX3qvMtY3ADQlIYXtgQMHasqUKTp+/LhGjx4tSfryyy/VsWNHE2MDAJxDNrb9wFjfvWquN9Y3zg1Ra5800u/xQWb6RdMRUtgePHiwrrvuOtntdp1//vmSpOTkZI0fP97I4AAAAIDmLORL/526Esn7778v6WTYTk1NDfvAAAAAgOYupDPb//znP/XMM88oOjpapaWl6tmzp4qKirR+/XpNmjTJ1BgBAACAZimkM9t5eXkaOnSonnvuOUVFnczpl112mb788ksjgwMAAACas5DObH/zzTfq3bt3nW2xsbE6evToGV/77LPP6vDhw7LZbIqNjdXYsWOVnp4uj8ej3NxcVVdXKy4uTi6XS2lpaZIUtA0AAABo6kI6s92+fXvt3bu3zrbdu3f73ywZjMvl0owZM/Tss8/qP//zPzV//nxJJ8+WZ2dna86cOcrOztaCBQv8rwnWBgAAADR1IYXtoUOH6g9/+IPy8/N1/PhxrV69WrNmzdKwYcPO+Nq2bdv6H9fU1Mhms6myslJut1tZWVmSpKysLLndblVVVQVtAwAAAJqDkJaR9OjRQ1OmTNG7776ryy67TIcPH9ZDDz2kCy644Kxe/+KLL2r79u2SpEcffVSlpaVKTk723wLebrcrKSlJJSUlkhSwLSEhoU6/Xq9XXq+3Xj2ukgIAAIDGFFLYfv/999WzZ8964To/P19Dhgw54+tPXY+7oKBAr7zyioYOHRpK+YDWrl2rlStX1tuen5+vDh06hKUGgB+pZJ+Rbjm2I6DS3B0kG/z+VRgr12C9vxcvM1Jr4Pl3GOk3VIe/NdNvoGPv652RrVdiplzAeociXA8tR0hh+3//93/Vpk0bXXXVVXW2bdu27azC9il9+vTRSy+9pAkTJqisrEw+n092u10+n0/l5eVyOp2yLCtg2+kGDRqkfv36NVjL4/GEsosAmgmO7QhwmOu6we9f2/qbjNYL+U4TP6FWCxLp/QtULybC9UIKTGGoh+Yl2B9NIU01U6ZMUV5enoqKiiRJS5cu1aeffqonnngi6Otqa2v9S0MkaevWrYqLi1NiYqLS09NVWFgoSSosLFRGRoYSEhKCtp3O4XAoNTW13gcAAADQmEL6Q61jx4566KGHNGPGDF1yySUqKSnRE088UefNjw2pra3V7NmzVVtbK7vdrri4OE2ePFk2m03jxo1Tbm6uVq1aJYfDIZfL5X9dsDYAAACgqTtj2N6xY0e9bf3799fbb7+tcePG+S8F+G//9m8B+2jXrp2mT5/eYFvHjh319NNPh9wGAAAANHVnDNunrod9uujoaC1ZskSSZLPZNHfu3LAODAAAAGjuzhi2c3NzIzEOAAAAoMUx9F5sAAAAAGc8sz1p0iTNnj1bkjRhwoSAzwu03AQAAAA4V50xbN9zzz3+x/fdd5/RwQAAAAAtyRnDdmZmpv/xxRdfrFWrVqmwsFAVFRVKSkpSz5499etf/9roIAEAaO721qwx0u8FbQcb6RdAeIR0ne28vDx5PB6NHTtW7du31+HDh7VmzRq9/PLLuvfee02NEQAAAGiWQgrbW7Zs0QsvvCCH4+Q9fDt16qRu3bqxvAQAAABoQEhXI2nXrp2+//77OtuOHj2qpKSksA4KAAAAaAlCuoNknz599PTTT2vgwIFKSUlRaWmp3nzzTfXp08foIAEAAIDm6EfdQXL16tV1Pn/77bc1ePDgsA0KAAAAaAm4gyQAAABgCHeQBAAAAAwhbAMAAACGELYBAAAAQwjbAAAAgCGEbQAAAMAQwjYAAABgCGEbAAAAMOSM19kGADQNS2M/N9b3qNrLjfUNAOcyzmwDAAAAhhC2AQAAAENYRgKgRfnt93uN9PtU6wuM9AsAaNkI2wAAAE2IfeEkY3377pxtrG80jGUkAAAAgCGEbQAAAMAQwjYAAABgCGEbAAAAMISwDQAAABhC2AYAAAAMIWwDAAAAhhC2AQAAAEMI2wAAAIAhhG0AAADAEMI2AAAAYAhhGwAAADCEsA0AAAAYEhWJIkeOHNHcuXNVXFys6OhonX/++br77ruVkJAgj8ej3NxcVVdXKy4uTi6XS2lpaZIUtA3Aj3Pb7v1G+l1xUWcj/QIA0JxF5My2zWbTLbfcojlz5mjmzJk677zz9Oqrr0qS8vLylJ2drTlz5ig7O1sLFizwvy5YGwAAANDURSRsx8XF6fLLL/d/3q1bN5WUlKiyslJut1tZWVmSpKysLLndblVVVQVtAwAAAJqDiCwj+SGfz6e33npLPXr0UGlpqZKTk2W3n8z8drtdSUlJKikpkaSAbQkJCXX69Hq98nq99WqlpqYa3hsAAAAgsIiH7UWLFql169YaOHCg9u3bF5Y+165dq5UrV9bbnp+frw4dOoSlBtBiGFqzHfBYK9kX2XruvZGtF0llnxvrusH9q/wksvUqjJVrsN6nxZGrJUl7d0e23uFvI1vv652RrVdiplzAeociWM/Qj2bAejAromF72bJlKi4u1uTJk2W325WSkqKysjL5fD7Z7Xb5fD6Vl5fL6XTKsqyAbacbNGiQ+vXr12BNj8djeK8ASJE/1lp6vQbFmuu6wf1zRLhe2wjXM7SQsqX/bDaVejERrmcqMDVUz+Qa3yYxl7VAwf6Iidil/1577TW53W49/PDDio6OliQlJiYqPT1dhYWFkqTCwkJlZGQoISEhaNvpHA6HUlNT630AAAAAjSkiZ7b379+v1atXKy0tTb/97W8lnVxP/fDDD2vcuHHKzc3VqlWr5HA45HK5/K8L1gYAAAA0dREJ2507d1Z+fn6DbR07dtTTTz8dchsAAADQ1EX8DZIA0FLMtn9lrO9JvouN9Q0AiBxu1w4AAAAYQtgGAAAADCFsAwAAAIYQtgEAAABDCNsAAACAIYRtAAAAwBDCNgAAAGAIYRsAAAAwhLANAAAAGELYBgAAAAwhbAMAAACGELYBAAAAQwjbAAAAgCGEbQAAAMCQqMYeAAAAABrR03eZ6/vRl8313UxwZhsAAAAwhLANAAAAGELYBgAAAAwhbAMAAACGELYBAAAAQwjbAAAAgCGEbQAAAMAQwjYAAABgCGEbAAAAMISwDQAAABhC2AYAAAAMIWwDAAAAhhC2AQAAAEMI2wAAAIAhhG0AAADAEMI2AAAAYEhUYw8AAAAA5w7ffUOM9W1/Id9Y3z8WZ7YBAAAAQwjbAAAAgCGEbQAAAMAQwjYAAABgCGEbAAAAMCQiVyNZtmyZPvzwQx0+fFgzZ85Uly5dJEkej0e5ubmqrq5WXFycXC6X0tLSztgGAAAANAcRObN93XXXadq0aWrfvn2d7Xl5ecrOztacOXOUnZ2tBQsWnFUbAAAA0BxEJGxnZmbK6XTW2VZZWSm3262srCxJUlZWltxut6qqqoK2AQAAAM1Fo93UprS0VMnJybLbT+Z9u92upKQklZSUSFLAtoSEhHp9eb1eeb3eettTU1MN7gEAAAAQXIu4g+TatWu1cuXKetvz8/PVoUOHRhgR0ITt3m+k24DHWsm+yNZz741cveKvjNQKWK/s88jWq/wksvUqjJVrsN6nxZGrJUl7d0e23uFvI1vv652RrVdiplzAeociWM/Qj2bAep4I1/smwvUaW6OF7ZSUFJWVlcnn88lut8vn86m8vFxOp1OWZQVsa8igQYPUr1+/Bts8HpM/QgBOifSx1iTqGVyI12C92AjXc0S4XtsI1zP0/WsSP5vnQL2YCNczFZgaqmdyjW9T+f61lHqnBAv5jXbpv8TERKWnp6uwsFCSVFhYqIyMDCUkJARta4jD4VBqamq9DwAAAKAxReTM9qJFi7R582ZVVFTod7/7neLj4zVr1iyNGzdOubm5WrVqlRwOh1wul/81wdoAAACA5iAiYXvs2LEaO3Zsve0dO3bU008/3eBrgrUBAAAAzQF3kAQAAAAMIWwDAAAAhhC2AQAAAENaxHW2geZswFYzF8N965o0I/0CAICzR9gGAABAi3X8Nzcb6ztq5d/O+ByWkQAAAACGELYBAAAAQwjbAAAAgCGEbQAAAMAQwjYAAABgCGEbAAAAMISwDQAAABhC2AYAAAAMIWwDAAAAhhC2AQAAAEMI2wAAAIAhhG0AAADAEMI2AAAAYAhhGwAAADCEsA0AAAAYQtgGAAAADCFsAwAAAIYQtgEAAABDCNsAAACAIYRtAAAAwBDCNgAAAGAIYRsAAAAwhLANAAAAGELYBgAAAAwhbAMAAACGELYBAAAAQwjbAAAAgCGEbQAAAMCQqMYeQCTMHuIz1vekfP5eAQAAQMNIigAAAIAhhG0AAADAEMI2AAAAYEiTX7Pt8XiUm5ur6upqxcXFyeVyKS0trbGHBQAAAJxRkz+znZeXp+zsbM2ZM0fZ2dlasGBBYw8JAAAAOCtNOmxXVlbK7XYrKytLkpSVlSW3262qqqpGHhkAAABwZk16GUlpaamSk5Nlt5/8m8ButyspKUklJSVKSEjwP8/r9crr9dZ7fWpqasTGCgAAAJzOZlmW1diDCGTv3r2aO3euZs2a5d82adIk3Xfffbrgggv82/Lz87Vy5cp6r8/Pz4/IOAEAAICGNOllJCkpKSorK5PPd/KmND6fT+Xl5XI6nXWeN2jQIM2dO7feR0Nnu8/k0KFDGjJkiA4dOhSWfWhK9VryvlGPetRrvHoted+oRz3qNV69lrJvTXoZSWJiotLT01VYWKg+ffqosLBQGRkZdZaQSJLD4ZDD4WikUQIAAAANa9JhW5LGjRun3NxcrVq1Sg6HQy6Xq7GHBAAAAJyVJh+2O3bsqKeffrqxhwEAAACErEmv2QYAAACaM8L2aRwOh37zm99EbA14JOu15H2jHvWo13j1WvK+UY961Gu8ei1l35r0pf8AAACA5owz2wAAAIAhhG0AAADAkCZ/NZJI8ng8ys3NVXV1teLi4uRyuZSWlmak1rJly/Thhx/q8OHDmjlzprp06WKkzilHjhzR3LlzVVxcrOjoaJ1//vm6++67612zPJyeffZZHT58WDabTbGxsRo7dqzS09ON1ZOkFStWaMWKFca/pjk5OYqOjlZ0dLQkacSIEerevbuxekePHtXSpUv12WefKTo6WhdffLHuueceI7UOHTqkGTNm+D+vqalRTU2NFi9ebKSeJH300Udavny5LMuSZVm67bbb9LOf/cxYvY8//ljLly/X8ePHFRcXp5ycHKWmpoat/0DHt6k5JlA9U/NMQ/2anGMC7YeJOeZMX7NwzzGB6pmaYwLVMzXHNFTP5BwTaP9MzTGB6pmYY4IdYybmlmD1TMwtgerZbDYjc0uw/Qv73GLB78knn7TWr19vWZZlrV+/3nryySeN1friiy+sw4cPW/fee6/19ddfG6tzypEjR6wdO3b4P1+2bJk1b948ozW9Xq//8ebNm61HHnnEaL09e/ZY06dPtyZMmGD8axqp79spCxcutBYvXmz5fD7LsiyrvLw8YrUXL15svfzyy8b69/l81ujRo/1fz3379lkjR460Tpw4YaTekSNHrLFjx1oHDhywLOvksf7UU0+FtUag49vUHBOonql5pqF+Tc4xgfbDxBwT7GtmYo4JVM/UHBOonqk55mx+BsM5xzRUz+QcE+hYMDHHBDvGTMwtweqZmFsC1TM1twTrN9xzC8tI/k9lZaXcbreysrIkSVlZWXK73aqqqjJSLzMzs95t502Ki4vT5Zdf7v+8W7duKikpMVqzbdu2/sc1NTWy2WzGah07dkwLFy7UXXfdZbROY6itrVVBQYGGDRvm37d27dpFpPbx48e1YcMG9e/f32gdm82mmpoaSZLX61VSUpLsdjPTU3FxsRITE9WhQwdJ0tVXX63t27eH9Vhv6Pg2OccEmk9MzTMN9Wtyjgm0HybmmEC1TM0xkf5d0FA9k3PMmfYv3HNMoHqm5piG6pmaYwIdY6bmlmDHtImf20D1TM0twfoN99zCMpL/U1paquTkZP/BZ7fblZSUpJKSEqNLLRqDz+fTW2+9pR49ehiv9eKLL2r79u2SpEcffdRYneXLl6t3795hXQpwJi+88IIsy1JmZqZuv/12Y5cmKi4uVnx8vFasWKHPP/9csbGxGjZsmDIzM43U+6GtW7cqOTlZF1xwgbEaNptNkyZN0owZM9S6dWt99913mjJlirF6HTp0UEVFhXbv3q2LLrpIGzZskCTjxzpzjBnMMT8dc0x4RWKO+eExFom5JZLHdLB6psbRUL/hnFsI2+egRYsWqXXr1ho4cKDxWuPHj5ckFRQU6JVXXjEywX311Vfas2ePRowYEfa+A5k2bZqcTqeOHTumJUuWaOHChfqf//kfI7V8Pp8OHjyojIwMjRw5Urt27dIzzzyj559/vs5f3yasW7fO+FntEydOaM2aNXr44YeVmZmpL7/8UrNnz9bs2bMVGxsb9npt27bV/fffr6VLl+rYsWPq3r27HA6HoqKYDsOFOeanY44Jn5Y4x/zwGNu3b1/Y+j2bepEQqJ6pcTTUbzjnFpaR/J+UlBSVlZXJ5/NJOjn5lJeXR/Tfe5GwbNkyFRcXa9KkScb+Td+QPn36aMeOHTpy5EjY+y4qKpLH45HL5VJOTo5KS0s1ffp0/1+kJpz6uYiOjlZ2drZ27txptFarVq3Uq1cvSSf/1RUfH69vv/3WWE1JKisrU1FRkXr37m20zr59+1RWVuY/i5aZmanY2Fh98803xmpeccUV+t3vfqc//OEPGjhwoI4ePWr8jCVzjFnMMT+tFnNMeJmcY04/xkzPLZE+pgPVMzWOM/UbjrmFsP1/EhMTlZ6ersLCQklSYWGhMjIyWtS/d1977TW53W49/PDD/ne4m1JbW1tnTdXWrVsVFxenuLi4sNcaPHiwXnrpJeXm5io3N1cpKSl67LHHdOWVV4a9lnRy306t/bMsSxs3bjR6lZWEhARdfvnl+vTTTyWdvKJFVVWVzj//fGM1Jem9997TVVddpfj4eKN1Tv2i8Hg8kqRvvvlGFRUVRvevoqJC0slfSq+99poGDBhg5AzXDzHHhBdzTPgwx4SfqTmmoWPM5NwSyWM6WD1T42ioXxNzC3eQ/IEDBw4oNzdXXq9XDodDLpfL/waHcFu0aJE2b96siooKxcfHKz4+XrNmzTJSS5L279+vBx98UGlpaYqJiZEkpaam6uGHHzZSr6KiQjNmzFBtba3sdrvi4uI0cuRIo+vyTsnJydHkyZONXfrv4MGD+uMf/yifzyefz6dOnTppzJgxSkpKMlLvVM358+fryJEjioqK0rBhw3TVVVcZqydJEydO1JgxY4xe0vCUDRs2aM2aNf6zCrfddpuuu+46Y/VefPFF7dy5U8ePH9cVV1yhUaNG+Y+LcAh0fJuaYwLVMzXPNNTvpEmTjM0xDdV74oknjMwxZ/M1C+cc01C9yZMnG5tjAu2fqTkm2NfTxBwTqJ6pOSZQPRNzTLDf4ybmlmD1TMwtgeoNGzbMyNwSqN64cePCPrcQtgEAAABDWEYCAAAAGELYBgAAAAwhbAMAAACGELYBAAAAQwjbAAAAgCGEbQA4R+Xk5PivrQwAMIOwDQAAABhC2AYABHXixInGHgIANFtRjT0AAEDj2bdvn5YtW6bDhw+re/fuysnJ0a5du/TCCy9o4MCBWrt2ra644grdd999jT1UAGiWCNsAcA7btGmTHn30UcXExOjxxx/Xe++9p44dO6qiokLV1dWaN2+euNEwAPx4LCMBgHPYzTffrOTkZMXFxalHjx7at2+fJMlms2nIkCGKjo5WTExM4w4SAJoxwjYAnMPatWvnfxwTE6Pa2lpJUkJCAiEbAMKAsA0AqMdmszX2EACgRSBsAwAAAIYQtgEAAABDbBZvMwcAAACM4Mw2AAAAYAhhGwAAADCEsA0AAAAYQtgGAAAADCFsAwAAAIYQtgEAAABDCNsAAACAIYRtAAAAwBDCNgAAAGDI/wfFmROF1GCqCQAAAABJRU5ErkJggg==\n",
          "text/plain": "<Figure size 864x432 with 1 Axes>"
         },
         "metadata": {},
         "output_type": "display_data"
        }
       ]
      }
     },
     "91a3c47defdc4c3386e21f0fee680ecf": {
      "model_module": "@jupyter-widgets/base",
      "model_module_version": "1.2.0",
      "model_name": "LayoutModel",
      "state": {}
     },
     "91c645fa5e154e2ebad327fa5a7e0c8f": {
      "model_module": "@jupyter-widgets/controls",
      "model_module_version": "1.5.0",
      "model_name": "HBoxModel",
      "state": {
       "children": [
        "IPY_MODEL_9214bea61f7246999cca5560084e20bc",
        "IPY_MODEL_c336f7bf62904bf59bdac52e0a685661"
       ],
       "layout": "IPY_MODEL_3d10f060e3ad4a2b9424523cf98de575"
      }
     },
     "9214bea61f7246999cca5560084e20bc": {
      "model_module": "@jupyter-widgets/controls",
      "model_module_version": "1.5.0",
      "model_name": "VBoxModel",
      "state": {
       "children": [
        "IPY_MODEL_0b02484d26c34a7080ff5cbd541562a1"
       ],
       "layout": "IPY_MODEL_4c83930acfc54122927098458aeb76af"
      }
     },
     "93bc300baae847d3a9cb254636955318": {
      "model_module": "@jupyter-widgets/base",
      "model_module_version": "1.2.0",
      "model_name": "LayoutModel",
      "state": {}
     },
     "94520c2ec3c643919f61c06e6f9a1804": {
      "model_module": "@jupyter-widgets/controls",
      "model_module_version": "1.5.0",
      "model_name": "HBoxModel",
      "state": {
       "children": [
        "IPY_MODEL_40a0eeabf1cd4d44849ad5e249eaeb21",
        "IPY_MODEL_78a894e52bb94857b1654ffe78cdb55a"
       ],
       "layout": "IPY_MODEL_189ca922b1e045f0a76d3ad9fe461a24"
      }
     },
     "953c70c07959421b868dddd86248f88b": {
      "model_module": "@jupyter-widgets/output",
      "model_module_version": "1.0.0",
      "model_name": "OutputModel",
      "state": {
       "layout": "IPY_MODEL_4db6fe1987a04d988047d960fa70b1eb"
      }
     },
     "95491e8020264cea92e378de826e6924": {
      "model_module": "@jupyter-widgets/controls",
      "model_module_version": "1.5.0",
      "model_name": "DatePickerModel",
      "state": {
       "description": "Pick a Date",
       "disabled": false,
       "layout": "IPY_MODEL_c3473ba7773548429317760720d4d84d",
       "style": "IPY_MODEL_3c5d40ab21234a1ab980ae48327b1c8b",
       "value": {
        "date": 9,
        "month": 8,
        "year": 2021
       }
      }
     },
     "95a3151bdc2546589a1775e0205673af": {
      "model_module": "@jupyter-widgets/controls",
      "model_module_version": "1.5.0",
      "model_name": "ButtonStyleModel",
      "state": {}
     },
     "9724be18d7ce442cae988409e2de6ca2": {
      "model_module": "@jupyter-widgets/controls",
      "model_module_version": "1.5.0",
      "model_name": "HBoxModel",
      "state": {
       "children": [
        "IPY_MODEL_27a4a8cf57c041a69517c13d243ab40d",
        "IPY_MODEL_1003d920b3d0458eb942ffc90fd50268"
       ],
       "layout": "IPY_MODEL_0761ffb3e2e24a64accafe7fe48229ab"
      }
     },
     "980e6e8fc2744f2daa4ef568aa9c3f02": {
      "model_module": "@jupyter-widgets/base",
      "model_module_version": "1.2.0",
      "model_name": "LayoutModel",
      "state": {}
     },
     "9a56872676a045d78d3310c431b95a79": {
      "model_module": "@jupyter-widgets/controls",
      "model_module_version": "1.5.0",
      "model_name": "VBoxModel",
      "state": {
       "children": [
        "IPY_MODEL_3010396fbbc64eb7bc88d033b8145d52"
       ],
       "layout": "IPY_MODEL_4e5f50534d5a4a79b267cb8b0d782236"
      }
     },
     "9b2298404d024db480082411547ff82b": {
      "model_module": "@jupyter-widgets/controls",
      "model_module_version": "1.5.0",
      "model_name": "ButtonStyleModel",
      "state": {}
     },
     "9cab250d5fac4c50a6d9cf7b914c31e3": {
      "model_module": "@jupyter-widgets/controls",
      "model_module_version": "1.5.0",
      "model_name": "DescriptionStyleModel",
      "state": {
       "description_width": ""
      }
     },
     "9d196ec0a27a453bae0f14538283e539": {
      "model_module": "@jupyter-widgets/controls",
      "model_module_version": "1.5.0",
      "model_name": "HBoxModel",
      "state": {
       "children": [
        "IPY_MODEL_d6ff12b5e5ae4e8bb4cd47dcac69a677",
        "IPY_MODEL_5cf8c257e5c54148a6a9847f32d1d787"
       ],
       "layout": "IPY_MODEL_348a67c413674bc5be76da77aab510d6"
      }
     },
     "9d26492332df482c85ed162a03c5f554": {
      "model_module": "@jupyter-widgets/controls",
      "model_module_version": "1.5.0",
      "model_name": "ButtonStyleModel",
      "state": {}
     },
     "9de92a17218947b1b06869b9967d67a4": {
      "model_module": "@jupyter-widgets/controls",
      "model_module_version": "1.5.0",
      "model_name": "DropdownModel",
      "state": {
       "_options_labels": [
        "0",
        "1",
        "2",
        "3",
        "4",
        "5",
        "6",
        "7",
        "8",
        "9",
        "10",
        "11",
        "12",
        "13",
        "14",
        "15",
        "16",
        "17",
        "18",
        "19",
        "20",
        "21",
        "22",
        "23"
       ],
       "description": "Pick an Hour:",
       "index": 12,
       "layout": "IPY_MODEL_636989029be94478b8023f3683116392",
       "style": "IPY_MODEL_69325ea1a0294b449efb91f450a30c52"
      }
     },
     "9dea0f41e50c4653bd6a92500185476c": {
      "model_module": "@jupyter-widgets/controls",
      "model_module_version": "1.5.0",
      "model_name": "DropdownModel",
      "state": {
       "_options_labels": [
        "0",
        "1",
        "2",
        "3",
        "4",
        "5",
        "6",
        "7",
        "8",
        "9",
        "10",
        "11",
        "12",
        "13",
        "14",
        "15",
        "16",
        "17",
        "18",
        "19",
        "20",
        "21",
        "22",
        "23"
       ],
       "description": "Pick an Hour:",
       "index": 12,
       "layout": "IPY_MODEL_18e3cb0e4cfe4d4385803c6b6a375344",
       "style": "IPY_MODEL_fbe99cc3536f4b1cabe88208acdf8fd8"
      }
     },
     "9e2228dcbc2a4eb6909e1d345a254d79": {
      "model_module": "@jupyter-widgets/controls",
      "model_module_version": "1.5.0",
      "model_name": "VBoxModel",
      "state": {
       "children": [
        "IPY_MODEL_0bc9199b8ccb4786940fb29bace4bc9f"
       ],
       "layout": "IPY_MODEL_7675e02c0a424c69a28cd1c12099e0a9"
      }
     },
     "9e4620eb8de04703a7468e6f7551bd58": {
      "model_module": "@jupyter-widgets/base",
      "model_module_version": "1.2.0",
      "model_name": "LayoutModel",
      "state": {}
     },
     "9e61e9ad172243a387f178974fa34c2b": {
      "model_module": "@jupyter-widgets/base",
      "model_module_version": "1.2.0",
      "model_name": "LayoutModel",
      "state": {}
     },
     "9eb84c4f9a6c4a5f90f6e18ae8c8b456": {
      "model_module": "@jupyter-widgets/base",
      "model_module_version": "1.2.0",
      "model_name": "LayoutModel",
      "state": {}
     },
     "9fb71e25e57d40a1bb1f36de6d85c4ab": {
      "model_module": "@jupyter-widgets/controls",
      "model_module_version": "1.5.0",
      "model_name": "DescriptionStyleModel",
      "state": {
       "description_width": ""
      }
     },
     "a129e426926d4649948545755cab319d": {
      "model_module": "@jupyter-widgets/controls",
      "model_module_version": "1.5.0",
      "model_name": "VBoxModel",
      "state": {
       "children": [
        "IPY_MODEL_02e6be1530ca44e1affa207b095c2617"
       ],
       "layout": "IPY_MODEL_aad1d8d4008a4d5f9df4267efecc00b4"
      }
     },
     "a18f7b373ffc446586536b760e60048a": {
      "model_module": "@jupyter-widgets/controls",
      "model_module_version": "1.5.0",
      "model_name": "DatePickerModel",
      "state": {
       "description": "Pick a Date",
       "disabled": false,
       "layout": "IPY_MODEL_29d8c8523b51427d9b2f610275db34b1",
       "style": "IPY_MODEL_51a3fa8fea384f048e6c552f6a59727f",
       "value": {
        "date": 10,
        "month": 8,
        "year": 2021
       }
      }
     },
     "a245ae9a6aa84c6dbeb93df65d84dcd4": {
      "model_module": "@jupyter-widgets/output",
      "model_module_version": "1.0.0",
      "model_name": "OutputModel",
      "state": {
       "layout": "IPY_MODEL_b17436e7cba44b2c961d5fdc852d853e"
      }
     },
     "a32faf82dfba4324aecf4351d9e731f0": {
      "model_module": "@jupyter-widgets/base",
      "model_module_version": "1.2.0",
      "model_name": "LayoutModel",
      "state": {}
     },
     "a3811db1f042437c97b9ce4b50a9f7ca": {
      "model_module": "@jupyter-widgets/controls",
      "model_module_version": "1.5.0",
      "model_name": "HBoxModel",
      "state": {
       "children": [
        "IPY_MODEL_807df5b9f5d5462dbdd487224684bf22",
        "IPY_MODEL_2d1cac13b4484e7d8f0373359f4404e5"
       ],
       "layout": "IPY_MODEL_3d89c1e2f696457eb00dfb7958fddafc"
      }
     },
     "a3d9ccce0491491d84bd7dd3f957c651": {
      "model_module": "@jupyter-widgets/controls",
      "model_module_version": "1.5.0",
      "model_name": "FloatSliderModel",
      "state": {
       "continuous_update": false,
       "description": "Temp Celsius",
       "layout": "IPY_MODEL_0e9380bc799440bca9a464afed19c48b",
       "max": 1,
       "readout_format": ".1f",
       "step": 0.1,
       "style": "IPY_MODEL_5262440cbc1e41cd8b8647aeaf1be330",
       "value": 0.7
      }
     },
     "a4a05f3c6aae414ea82c1655c158af21": {
      "model_module": "@jupyter-widgets/controls",
      "model_module_version": "1.5.0",
      "model_name": "ButtonStyleModel",
      "state": {}
     },
     "a539deb29cc34f3eb912d8ad53ca96cf": {
      "model_module": "@jupyter-widgets/base",
      "model_module_version": "1.2.0",
      "model_name": "LayoutModel",
      "state": {}
     },
     "a6eaf300d126436b99a91621f4442c9c": {
      "model_module": "@jupyter-widgets/controls",
      "model_module_version": "1.5.0",
      "model_name": "DatePickerModel",
      "state": {
       "description": "Pick a Date",
       "disabled": false,
       "layout": "IPY_MODEL_631b8fd43dd64689ad4ca900eb99917a",
       "style": "IPY_MODEL_1908ccaa0ef34aa6b9667e121307fc5e",
       "value": {
        "date": 9,
        "month": 8,
        "year": 2021
       }
      }
     },
     "a8eeff7c0a4e4306b749a82e12b27c66": {
      "model_module": "@jupyter-widgets/base",
      "model_module_version": "1.2.0",
      "model_name": "LayoutModel",
      "state": {}
     },
     "a933bc498b4f4f5aab6e77df6ffc47c6": {
      "model_module": "@jupyter-widgets/base",
      "model_module_version": "1.2.0",
      "model_name": "LayoutModel",
      "state": {}
     },
     "a9e80369118c4b218757371af4ac38de": {
      "model_module": "@jupyter-widgets/base",
      "model_module_version": "1.2.0",
      "model_name": "LayoutModel",
      "state": {}
     },
     "aad1d8d4008a4d5f9df4267efecc00b4": {
      "model_module": "@jupyter-widgets/base",
      "model_module_version": "1.2.0",
      "model_name": "LayoutModel",
      "state": {}
     },
     "ac11f8d1afb74e7c867ad49b3ddc9ba9": {
      "model_module": "@jupyter-widgets/base",
      "model_module_version": "1.2.0",
      "model_name": "LayoutModel",
      "state": {}
     },
     "ae1d5c42d5cf45948ea8cee40f1c7794": {
      "model_module": "@jupyter-widgets/controls",
      "model_module_version": "1.5.0",
      "model_name": "DescriptionStyleModel",
      "state": {
       "description_width": ""
      }
     },
     "ae84bca58288453b935b83c09dc7fb6b": {
      "model_module": "@jupyter-widgets/controls",
      "model_module_version": "1.5.0",
      "model_name": "VBoxModel",
      "state": {
       "children": [
        "IPY_MODEL_4e9b89f6dcc0449a8b3b9c9a9dbb642d"
       ],
       "layout": "IPY_MODEL_114ed65ac9e747ba91781e424e6cb184"
      }
     },
     "aed60884a11e4de493600d0368c7f879": {
      "model_module": "@jupyter-widgets/base",
      "model_module_version": "1.2.0",
      "model_name": "LayoutModel",
      "state": {}
     },
     "afc202d511f64e2885a27db0c9a63bcd": {
      "model_module": "@jupyter-widgets/controls",
      "model_module_version": "1.5.0",
      "model_name": "ButtonModel",
      "state": {
       "description": "View Predictions",
       "layout": "IPY_MODEL_a933bc498b4f4f5aab6e77df6ffc47c6",
       "style": "IPY_MODEL_e7fc945ae1434978b76c5a4d56b61a82"
      }
     },
     "b062a20f84684083a0bd0356b6e04dfa": {
      "model_module": "@jupyter-widgets/base",
      "model_module_version": "1.2.0",
      "model_name": "LayoutModel",
      "state": {}
     },
     "b13c7fa86d62441dbd4834b83f8261fe": {
      "model_module": "@jupyter-widgets/base",
      "model_module_version": "1.2.0",
      "model_name": "LayoutModel",
      "state": {}
     },
     "b17436e7cba44b2c961d5fdc852d853e": {
      "model_module": "@jupyter-widgets/base",
      "model_module_version": "1.2.0",
      "model_name": "LayoutModel",
      "state": {}
     },
     "b221cfea754d4c89ac5794e970544d5f": {
      "model_module": "@jupyter-widgets/output",
      "model_module_version": "1.0.0",
      "model_name": "OutputModel",
      "state": {
       "layout": "IPY_MODEL_617ebe4095904540af508c9f0e9b4f07",
       "outputs": [
        {
         "name": "stdout",
         "output_type": "stream",
         "text": "Hour Chosen: 12\n"
        }
       ]
      }
     },
     "b3eb8fd6901649e6a0c0c8bc80db5755": {
      "model_module": "@jupyter-widgets/base",
      "model_module_version": "1.2.0",
      "model_name": "LayoutModel",
      "state": {}
     },
     "b4926a7a0c874c93aa9a2ae2b2dc2422": {
      "model_module": "@jupyter-widgets/base",
      "model_module_version": "1.2.0",
      "model_name": "LayoutModel",
      "state": {}
     },
     "b552ae16af334d9a9bfe8368da6061b8": {
      "model_module": "@jupyter-widgets/controls",
      "model_module_version": "1.5.0",
      "model_name": "VBoxModel",
      "state": {
       "children": [
        "IPY_MODEL_0c86e446bfb1478e9675e151feecabbf"
       ],
       "layout": "IPY_MODEL_71e5ff42a09e462eafd3e69d23c22098"
      }
     },
     "b55eb832e29947379bf746ef49d88b40": {
      "model_module": "@jupyter-widgets/base",
      "model_module_version": "1.2.0",
      "model_name": "LayoutModel",
      "state": {}
     },
     "b6247bdb5c6b4fc3b2d6966b6b032578": {
      "model_module": "@jupyter-widgets/base",
      "model_module_version": "1.2.0",
      "model_name": "LayoutModel",
      "state": {}
     },
     "b7361d9b07b7436fa8bda795624124cd": {
      "model_module": "@jupyter-widgets/controls",
      "model_module_version": "1.5.0",
      "model_name": "VBoxModel",
      "state": {
       "children": [
        "IPY_MODEL_4b34f3e55e734c288a09077a6ecd55af"
       ],
       "layout": "IPY_MODEL_c0c6231d33e443809f411316623be05d"
      }
     },
     "b97075fe677841409efd827b453020fa": {
      "model_module": "@jupyter-widgets/controls",
      "model_module_version": "1.5.0",
      "model_name": "VBoxModel",
      "state": {
       "children": [
        "IPY_MODEL_e07c44c9235d4a75818ca959ed206bb1"
       ],
       "layout": "IPY_MODEL_cc75f8aa372e49aa825040029c11f901"
      }
     },
     "ba8ac47d82b94aa2b36e91a3a35d8aa5": {
      "model_module": "@jupyter-widgets/base",
      "model_module_version": "1.2.0",
      "model_name": "LayoutModel",
      "state": {}
     },
     "bb5c85edd06e471e8ff4e7458629fe82": {
      "model_module": "@jupyter-widgets/controls",
      "model_module_version": "1.5.0",
      "model_name": "DropdownModel",
      "state": {
       "_options_labels": [
        "0",
        "1",
        "2",
        "3",
        "4",
        "5",
        "6",
        "7",
        "8",
        "9",
        "10",
        "11",
        "12",
        "13",
        "14",
        "15",
        "16",
        "17",
        "18",
        "19",
        "20",
        "21",
        "22",
        "23"
       ],
       "description": "Pick an Hour:",
       "index": 12,
       "layout": "IPY_MODEL_1dea0d8e0236426ab4630efb0aebf09e",
       "style": "IPY_MODEL_9fb71e25e57d40a1bb1f36de6d85c4ab"
      }
     },
     "bd120d64dd944430ba639633e5c4d478": {
      "model_module": "@jupyter-widgets/base",
      "model_module_version": "1.2.0",
      "model_name": "LayoutModel",
      "state": {}
     },
     "bd4d50d4a5064669a55c0c24645bdd03": {
      "model_module": "@jupyter-widgets/controls",
      "model_module_version": "1.5.0",
      "model_name": "FloatSliderModel",
      "state": {
       "continuous_update": false,
       "description": "Temp Celsius",
       "layout": "IPY_MODEL_980e6e8fc2744f2daa4ef568aa9c3f02",
       "max": 1,
       "readout_format": ".1f",
       "step": 0.1,
       "style": "IPY_MODEL_e648f0b40c97468b91e9b22505890d99",
       "value": 0.6
      }
     },
     "be80717666b04cee823ab111092b4a0b": {
      "model_module": "@jupyter-widgets/base",
      "model_module_version": "1.2.0",
      "model_name": "LayoutModel",
      "state": {}
     },
     "c054524d670c49789aa4509e3a93c68f": {
      "model_module": "@jupyter-widgets/output",
      "model_module_version": "1.0.0",
      "model_name": "OutputModel",
      "state": {
       "layout": "IPY_MODEL_d25c971ae8ee40ec9947791ae7841096",
       "outputs": [
        {
         "name": "stdout",
         "output_type": "stream",
         "text": "Hour Chosen: 12\n"
        }
       ]
      }
     },
     "c0c6231d33e443809f411316623be05d": {
      "model_module": "@jupyter-widgets/base",
      "model_module_version": "1.2.0",
      "model_name": "LayoutModel",
      "state": {}
     },
     "c0c67ace455846ec9f407caa5f1a9a47": {
      "model_module": "@jupyter-widgets/output",
      "model_module_version": "1.0.0",
      "model_name": "OutputModel",
      "state": {
       "layout": "IPY_MODEL_1926ca192e2b43759849c94ff4af73c1",
       "outputs": [
        {
         "name": "stdout",
         "output_type": "stream",
         "text": "   mnth weekday  temp  season workingday holiday  hr  bikes_rented\n0   Sep     Fri   0.6  summer        yes      no   0    106.234375\n1   Sep     Fri   0.6  summer        yes      no   1     86.734375\n2   Sep     Fri   0.6  summer        yes      no   2     78.687500\n3   Sep     Fri   0.6  summer        yes      no   3     66.921875\n4   Sep     Fri   0.6  summer        yes      no   4     63.828125\n5   Sep     Fri   0.6  summer        yes      no   5     83.187500\n6   Sep     Fri   0.6  summer        yes      no   6    139.203125\n7   Sep     Fri   0.6  summer        yes      no   7    279.343750\n8   Sep     Fri   0.6  summer        yes      no   8    414.375000\n9   Sep     Fri   0.6  summer        yes      no   9    266.375000\n10  Sep     Fri   0.6  summer        yes      no  10    213.156250\n11  Sep     Fri   0.6  summer        yes      no  11    237.468750\n12  Sep     Fri   0.6  summer        yes      no  12    287.156250\n13  Sep     Fri   0.6  summer        yes      no  13    280.765625\n14  Sep     Fri   0.6  summer        yes      no  14    261.250000\n15  Sep     Fri   0.6  summer        yes      no  15    271.500000\n16  Sep     Fri   0.6  summer        yes      no  16    329.859375\n17  Sep     Fri   0.6  summer        yes      no  17    486.984375\n18  Sep     Fri   0.6  summer        yes      no  18    460.531250\n19  Sep     Fri   0.6  summer        yes      no  19    347.265625\n20  Sep     Fri   0.6  summer        yes      no  20    266.921875\n21  Sep     Fri   0.6  summer        yes      no  21    214.296875\n22  Sep     Fri   0.6  summer        yes      no  22    177.500000\n23  Sep     Fri   0.6  summer        yes      no  23    136.656250\n"
        },
        {
         "data": {
          "image/png": "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\n",
          "text/plain": "<Figure size 864x432 with 1 Axes>"
         },
         "metadata": {},
         "output_type": "display_data"
        }
       ]
      }
     },
     "c127b3f6884342bca41be8e5f59566df": {
      "model_module": "@jupyter-widgets/output",
      "model_module_version": "1.0.0",
      "model_name": "OutputModel",
      "state": {
       "layout": "IPY_MODEL_a9e80369118c4b218757371af4ac38de"
      }
     },
     "c22556396cbf4fa8b586569b279f8ea1": {
      "model_module": "@jupyter-widgets/controls",
      "model_module_version": "1.5.0",
      "model_name": "DescriptionStyleModel",
      "state": {
       "description_width": ""
      }
     },
     "c29948cc0b50497ea791717eb3ac5079": {
      "model_module": "@jupyter-widgets/controls",
      "model_module_version": "1.5.0",
      "model_name": "VBoxModel",
      "state": {
       "children": [
        "IPY_MODEL_07b72f81ae0644368eb99de7bf3fda2e"
       ],
       "layout": "IPY_MODEL_fa365325e0314ff9aaa60c9152ffda96"
      }
     },
     "c2fa1de37eed4da18972e7e087e37eb4": {
      "model_module": "@jupyter-widgets/controls",
      "model_module_version": "1.5.0",
      "model_name": "HBoxModel",
      "state": {
       "children": [
        "IPY_MODEL_6153991312ed4e7aa0d5d37358185d85",
        "IPY_MODEL_830975a03be744aeb515c8cb15535626"
       ],
       "layout": "IPY_MODEL_ee81e77c99984dabb7dd30caed85e24b"
      }
     },
     "c336f7bf62904bf59bdac52e0a685661": {
      "model_module": "@jupyter-widgets/output",
      "model_module_version": "1.0.0",
      "model_name": "OutputModel",
      "state": {
       "layout": "IPY_MODEL_cd666ded682c46a89de096a1b2a7de59",
       "outputs": [
        {
         "name": "stdout",
         "output_type": "stream",
         "text": "Date Chosen: 2021-09-10\n"
        }
       ]
      }
     },
     "c3473ba7773548429317760720d4d84d": {
      "model_module": "@jupyter-widgets/base",
      "model_module_version": "1.2.0",
      "model_name": "LayoutModel",
      "state": {}
     },
     "c3480176561241d19e4a929c7811754e": {
      "model_module": "@jupyter-widgets/base",
      "model_module_version": "1.2.0",
      "model_name": "LayoutModel",
      "state": {}
     },
     "c403c32686c64b608f8ef410b21c963b": {
      "model_module": "@jupyter-widgets/base",
      "model_module_version": "1.2.0",
      "model_name": "LayoutModel",
      "state": {}
     },
     "c50938feb5c847f688b5f26d8c243a6d": {
      "model_module": "@jupyter-widgets/controls",
      "model_module_version": "1.5.0",
      "model_name": "ButtonStyleModel",
      "state": {}
     },
     "c512034bb0384c2692377cf4aeb910a8": {
      "model_module": "@jupyter-widgets/base",
      "model_module_version": "1.2.0",
      "model_name": "LayoutModel",
      "state": {}
     },
     "c5c5c846f0034327871c712e731b3800": {
      "model_module": "@jupyter-widgets/output",
      "model_module_version": "1.0.0",
      "model_name": "OutputModel",
      "state": {
       "layout": "IPY_MODEL_d2741b66c0064f1b8e8d27b59c794128",
       "outputs": [
        {
         "name": "stdout",
         "output_type": "stream",
         "text": "Temperature Chosen: 0.7\n"
        }
       ]
      }
     },
     "c6783b43a9b04dfe940ff9fcb3fddee3": {
      "model_module": "@jupyter-widgets/controls",
      "model_module_version": "1.5.0",
      "model_name": "ButtonModel",
      "state": {
       "description": "View Predictions",
       "layout": "IPY_MODEL_66fefe5deeea4fbb93b314404b5ee65a",
       "style": "IPY_MODEL_c50938feb5c847f688b5f26d8c243a6d"
      }
     },
     "c7149659e80e490ba57a40c411a8dec6": {
      "model_module": "@jupyter-widgets/controls",
      "model_module_version": "1.5.0",
      "model_name": "DatePickerModel",
      "state": {
       "description": "Pick a Date",
       "disabled": false,
       "layout": "IPY_MODEL_190b72457d914123a22438bf645c9988",
       "style": "IPY_MODEL_cf7d0d90dfb74d55b003925c6cccf38f",
       "value": {
        "date": 9,
        "month": 8,
        "year": 2021
       }
      }
     },
     "c8f9440f436643eaa3a66c230b4ea74a": {
      "model_module": "@jupyter-widgets/controls",
      "model_module_version": "1.5.0",
      "model_name": "HBoxModel",
      "state": {
       "children": [
        "IPY_MODEL_37ee394eb3b943a2b701ba63e6a33a5c",
        "IPY_MODEL_13234617a34a42afb7c90935cdb1ad44"
       ],
       "layout": "IPY_MODEL_ecaff7392ac849d88bf6203a31e30054"
      }
     },
     "c91e72b34861485692575236b553a7af": {
      "model_module": "@jupyter-widgets/controls",
      "model_module_version": "1.5.0",
      "model_name": "ButtonModel",
      "state": {
       "description": "View Predictions",
       "layout": "IPY_MODEL_7aa98904e26543319d5ae9f2cf3792fa",
       "style": "IPY_MODEL_0d0da28d34c04d86acd934648e23c054"
      }
     },
     "ca0bf7d6d76447b7bb4d94f4130bf6aa": {
      "model_module": "@jupyter-widgets/output",
      "model_module_version": "1.0.0",
      "model_name": "OutputModel",
      "state": {
       "layout": "IPY_MODEL_ac11f8d1afb74e7c867ad49b3ddc9ba9",
       "outputs": [
        {
         "name": "stdout",
         "output_type": "stream",
         "text": "   mnth weekday  hr  temp  bikes_rented\n12  Sep     Fri  12   0.0    105.593750\n12  Sep     Fri  12   0.2    165.781250\n12  Sep     Fri  12   0.4    225.984375\n12  Sep     Fri  12   0.6    286.187500\n12  Sep     Fri  12   0.8    346.390625\n12  Sep     Fri  12   1.0    406.578125\n"
        },
        {
         "data": {
          "image/png": "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\n",
          "text/plain": "<Figure size 1440x720 with 1 Axes>"
         },
         "metadata": {},
         "output_type": "display_data"
        }
       ]
      }
     },
     "ca1d121c120e42cc955a16af8c17223f": {
      "model_module": "@jupyter-widgets/controls",
      "model_module_version": "1.5.0",
      "model_name": "DropdownModel",
      "state": {
       "_options_labels": [
        "0",
        "1",
        "2",
        "3",
        "4",
        "5",
        "6",
        "7",
        "8",
        "9",
        "10",
        "11",
        "12",
        "13",
        "14",
        "15",
        "16",
        "17",
        "18",
        "19",
        "20",
        "21",
        "22",
        "23"
       ],
       "description": "Pick an Hour:",
       "index": 12,
       "layout": "IPY_MODEL_d4c45425b8da45829dcbde872e71e5b2",
       "style": "IPY_MODEL_18c59a1dd87f4f2a90f93e2e2679590b"
      }
     },
     "ca6c705a95834424a67cd6f1621d81a9": {
      "model_module": "@jupyter-widgets/output",
      "model_module_version": "1.0.0",
      "model_name": "OutputModel",
      "state": {
       "layout": "IPY_MODEL_1589bbdb00b74804aa0032d3d38ba394",
       "outputs": [
        {
         "name": "stdout",
         "output_type": "stream",
         "text": "   mnth weekday  season workingday holiday  hr  bikes_rented\n0   Sep     Fri  summer        yes      no   0    137.812500\n1   Sep     Fri  summer        yes      no   1    122.531250\n2   Sep     Fri  summer        yes      no   2    112.265625\n3   Sep     Fri  summer        yes      no   3     96.687500\n4   Sep     Fri  summer        yes      no   4     97.375000\n5   Sep     Fri  summer        yes      no   5    114.031250\n6   Sep     Fri  summer        yes      no   6    170.265625\n7   Sep     Fri  summer        yes      no   7    302.500000\n8   Sep     Fri  summer        yes      no   8    446.046875\n9   Sep     Fri  summer        yes      no   9    300.906250\n10  Sep     Fri  summer        yes      no  10    242.296875\n11  Sep     Fri  summer        yes      no  11    271.953125\n12  Sep     Fri  summer        yes      no  12    316.281250\n13  Sep     Fri  summer        yes      no  13    308.078125\n14  Sep     Fri  summer        yes      no  14    298.343750\n15  Sep     Fri  summer        yes      no  15    309.843750\n16  Sep     Fri  summer        yes      no  16    370.250000\n17  Sep     Fri  summer        yes      no  17    514.218750\n18  Sep     Fri  summer        yes      no  18    490.453125\n19  Sep     Fri  summer        yes      no  19    380.703125\n20  Sep     Fri  summer        yes      no  20    297.859375\n21  Sep     Fri  summer        yes      no  21    249.562500\n22  Sep     Fri  summer        yes      no  22    207.625000\n23  Sep     Fri  summer        yes      no  23    168.953125\n"
        },
        {
         "data": {
          "image/png": "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\n",
          "text/plain": "<Figure size 864x432 with 1 Axes>"
         },
         "metadata": {},
         "output_type": "display_data"
        }
       ]
      }
     },
     "cc75f8aa372e49aa825040029c11f901": {
      "model_module": "@jupyter-widgets/base",
      "model_module_version": "1.2.0",
      "model_name": "LayoutModel",
      "state": {}
     },
     "cd04d3c6fa8442a781093151806825af": {
      "model_module": "@jupyter-widgets/base",
      "model_module_version": "1.2.0",
      "model_name": "LayoutModel",
      "state": {}
     },
     "cd25fcdbe82c4c7ca17d66b77b6766c5": {
      "model_module": "@jupyter-widgets/controls",
      "model_module_version": "1.5.0",
      "model_name": "VBoxModel",
      "state": {
       "children": [
        "IPY_MODEL_9de92a17218947b1b06869b9967d67a4"
       ],
       "layout": "IPY_MODEL_7560a1ad0f3a43828d89c66b388baa98"
      }
     },
     "cd666ded682c46a89de096a1b2a7de59": {
      "model_module": "@jupyter-widgets/base",
      "model_module_version": "1.2.0",
      "model_name": "LayoutModel",
      "state": {}
     },
     "cdaab72c8109411eb848f1ee365c6422": {
      "model_module": "@jupyter-widgets/controls",
      "model_module_version": "1.5.0",
      "model_name": "ButtonModel",
      "state": {
       "description": "View Predictions",
       "layout": "IPY_MODEL_2765267a12e5447c85a6193c75049262",
       "style": "IPY_MODEL_9b2298404d024db480082411547ff82b"
      }
     },
     "cf3ac62a7d1a4c3a870efa0b007e0ae9": {
      "model_module": "@jupyter-widgets/output",
      "model_module_version": "1.0.0",
      "model_name": "OutputModel",
      "state": {
       "layout": "IPY_MODEL_0fe67b1fe3df4a0da88aaa5a3bcf4755",
       "outputs": [
        {
         "name": "stdout",
         "output_type": "stream",
         "text": "Hour Chosen: 12\n"
        }
       ]
      }
     },
     "cf7d0d90dfb74d55b003925c6cccf38f": {
      "model_module": "@jupyter-widgets/controls",
      "model_module_version": "1.5.0",
      "model_name": "DescriptionStyleModel",
      "state": {
       "description_width": ""
      }
     },
     "d0197b4974c845ffad4ba55df6d72311": {
      "model_module": "@jupyter-widgets/output",
      "model_module_version": "1.0.0",
      "model_name": "OutputModel",
      "state": {
       "layout": "IPY_MODEL_ea59329b9d2349c29c9462ff91c73918",
       "outputs": [
        {
         "name": "stdout",
         "output_type": "stream",
         "text": "Date Chosen: 2021-09-09\n"
        }
       ]
      }
     },
     "d162e732d786425cb65f623cdac8268d": {
      "model_module": "@jupyter-widgets/base",
      "model_module_version": "1.2.0",
      "model_name": "LayoutModel",
      "state": {}
     },
     "d1a491fa2bc6436093f13afaf6e2523f": {
      "model_module": "@jupyter-widgets/base",
      "model_module_version": "1.2.0",
      "model_name": "LayoutModel",
      "state": {}
     },
     "d25c971ae8ee40ec9947791ae7841096": {
      "model_module": "@jupyter-widgets/base",
      "model_module_version": "1.2.0",
      "model_name": "LayoutModel",
      "state": {}
     },
     "d2741b66c0064f1b8e8d27b59c794128": {
      "model_module": "@jupyter-widgets/base",
      "model_module_version": "1.2.0",
      "model_name": "LayoutModel",
      "state": {}
     },
     "d32d7498c5374239bfe3a064b3b6a466": {
      "model_module": "@jupyter-widgets/base",
      "model_module_version": "1.2.0",
      "model_name": "LayoutModel",
      "state": {}
     },
     "d415b90a940244629a5a1346b9361519": {
      "model_module": "@jupyter-widgets/base",
      "model_module_version": "1.2.0",
      "model_name": "LayoutModel",
      "state": {}
     },
     "d4c45425b8da45829dcbde872e71e5b2": {
      "model_module": "@jupyter-widgets/base",
      "model_module_version": "1.2.0",
      "model_name": "LayoutModel",
      "state": {}
     },
     "d5b50e8e98b9426fac457ebec1f68b0b": {
      "model_module": "@jupyter-widgets/base",
      "model_module_version": "1.2.0",
      "model_name": "LayoutModel",
      "state": {}
     },
     "d644d72b670a4f9ab7939825455a057b": {
      "model_module": "@jupyter-widgets/controls",
      "model_module_version": "1.5.0",
      "model_name": "VBoxModel",
      "state": {
       "children": [
        "IPY_MODEL_ca1d121c120e42cc955a16af8c17223f"
       ],
       "layout": "IPY_MODEL_e1a69ca5bbc24faf81db0ab9a28b2f13"
      }
     },
     "d6d7ece1d316448d83e267e75e236560": {
      "model_module": "@jupyter-widgets/output",
      "model_module_version": "1.0.0",
      "model_name": "OutputModel",
      "state": {
       "layout": "IPY_MODEL_4b836904d47240a5bab0924fe5e520bc",
       "outputs": [
        {
         "name": "stdout",
         "output_type": "stream",
         "text": "Hour Chosen: 12\n"
        }
       ]
      }
     },
     "d6f43292c0ff46d3a6da6c7110a49652": {
      "model_module": "@jupyter-widgets/base",
      "model_module_version": "1.2.0",
      "model_name": "LayoutModel",
      "state": {}
     },
     "d6ff12b5e5ae4e8bb4cd47dcac69a677": {
      "model_module": "@jupyter-widgets/controls",
      "model_module_version": "1.5.0",
      "model_name": "VBoxModel",
      "state": {
       "children": [
        "IPY_MODEL_a18f7b373ffc446586536b760e60048a"
       ],
       "layout": "IPY_MODEL_7abbe2d4e9624c159c95c76b9486ab69"
      }
     },
     "d925f1210c1f4791b56ec50624b7c065": {
      "model_module": "@jupyter-widgets/base",
      "model_module_version": "1.2.0",
      "model_name": "LayoutModel",
      "state": {}
     },
     "d97ffbe00cd94fb480dfef061a41e155": {
      "model_module": "@jupyter-widgets/controls",
      "model_module_version": "1.5.0",
      "model_name": "ButtonModel",
      "state": {
       "description": "View Predictions",
       "layout": "IPY_MODEL_f035dd31f95d4214bda7eea1cc73f1b9",
       "style": "IPY_MODEL_4d29aba24c2b4bc880fef71c070b849c"
      }
     },
     "da3b3bf03849485bb4e7a066e8394bd0": {
      "model_module": "@jupyter-widgets/controls",
      "model_module_version": "1.5.0",
      "model_name": "ButtonStyleModel",
      "state": {}
     },
     "db240f0673264d519949de3179a6a2b4": {
      "model_module": "@jupyter-widgets/controls",
      "model_module_version": "1.5.0",
      "model_name": "FloatSliderModel",
      "state": {
       "continuous_update": false,
       "description": "Temp Celsius",
       "layout": "IPY_MODEL_9eb84c4f9a6c4a5f90f6e18ae8c8b456",
       "max": 1,
       "readout_format": ".1f",
       "step": 0.1,
       "style": "IPY_MODEL_0bda46236ac84b6883b722e2fcb88b38",
       "value": 0.8
      }
     },
     "db47ae77f09e4c1c99d753072a722530": {
      "model_module": "@jupyter-widgets/output",
      "model_module_version": "1.0.0",
      "model_name": "OutputModel",
      "state": {
       "layout": "IPY_MODEL_d1a491fa2bc6436093f13afaf6e2523f",
       "outputs": [
        {
         "name": "stdout",
         "output_type": "stream",
         "text": "   mnth weekday  hr  temp  bikes_rented\n12  Sep     Thu  12   0.0     98.234375\n12  Sep     Thu  12   0.2    160.421875\n12  Sep     Thu  12   0.4    222.609375\n12  Sep     Thu  12   0.6    284.796875\n12  Sep     Thu  12   0.8    346.984375\n12  Sep     Thu  12   1.0    409.156250\n"
        },
        {
         "data": {
          "image/png": "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\n",
          "text/plain": "<Figure size 1440x720 with 1 Axes>"
         },
         "metadata": {},
         "output_type": "display_data"
        }
       ]
      }
     },
     "dbd39d5195db44a7ae9db10b6c0ac543": {
      "model_module": "@jupyter-widgets/controls",
      "model_module_version": "1.5.0",
      "model_name": "HBoxModel",
      "state": {
       "children": [
        "IPY_MODEL_b97075fe677841409efd827b453020fa",
        "IPY_MODEL_e69bd8f21db043ff94963a49426220fd"
       ],
       "layout": "IPY_MODEL_7b52f09578774584a1b9c4178298c2ad"
      }
     },
     "dc2b70c6534647d8bce0a56d09166a9c": {
      "model_module": "@jupyter-widgets/controls",
      "model_module_version": "1.5.0",
      "model_name": "ButtonStyleModel",
      "state": {}
     },
     "dcc7922fec0b4c50bef8d11c98f11b36": {
      "model_module": "@jupyter-widgets/base",
      "model_module_version": "1.2.0",
      "model_name": "LayoutModel",
      "state": {}
     },
     "dfe1a38ef0cf451fa27c9686d9b4106a": {
      "model_module": "@jupyter-widgets/output",
      "model_module_version": "1.0.0",
      "model_name": "OutputModel",
      "state": {
       "layout": "IPY_MODEL_326a44a911df4289b608bafa0db3f2c6",
       "outputs": [
        {
         "name": "stdout",
         "output_type": "stream",
         "text": "   mnth weekday  temp  season workingday holiday  hr  bikes_rented\n0   Sep     Fri   0.7  summer        yes      no   0    141.843750\n1   Sep     Fri   0.7  summer        yes      no   1    124.261719\n2   Sep     Fri   0.7  summer        yes      no   2    114.539062\n3   Sep     Fri   0.7  summer        yes      no   3    101.187500\n4   Sep     Fri   0.7  summer        yes      no   4    100.250000\n5   Sep     Fri   0.7  summer        yes      no   5    117.265625\n6   Sep     Fri   0.7  summer        yes      no   6    174.332031\n7   Sep     Fri   0.7  summer        yes      no   7    301.179688\n8   Sep     Fri   0.7  summer        yes      no   8    448.285156\n9   Sep     Fri   0.7  summer        yes      no   9    302.398438\n10  Sep     Fri   0.7  summer        yes      no  10    251.050781\n11  Sep     Fri   0.7  summer        yes      no  11    278.234375\n12  Sep     Fri   0.7  summer        yes      no  12    319.667969\n13  Sep     Fri   0.7  summer        yes      no  13    318.750000\n14  Sep     Fri   0.7  summer        yes      no  14    299.984375\n15  Sep     Fri   0.7  summer        yes      no  15    308.929688\n16  Sep     Fri   0.7  summer        yes      no  16    362.609375\n17  Sep     Fri   0.7  summer        yes      no  17    520.218750\n18  Sep     Fri   0.7  summer        yes      no  18    488.460938\n19  Sep     Fri   0.7  summer        yes      no  19    379.214844\n20  Sep     Fri   0.7  summer        yes      no  20    299.757812\n21  Sep     Fri   0.7  summer        yes      no  21    249.484375\n22  Sep     Fri   0.7  summer        yes      no  22    213.839844\n23  Sep     Fri   0.7  summer        yes      no  23    172.937500\n"
        },
        {
         "data": {
          "image/png": "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\n",
          "text/plain": "<Figure size 864x432 with 1 Axes>"
         },
         "metadata": {},
         "output_type": "display_data"
        }
       ]
      }
     },
     "dfe480e69bb648e4861a08c2dc4f33b2": {
      "model_module": "@jupyter-widgets/base",
      "model_module_version": "1.2.0",
      "model_name": "LayoutModel",
      "state": {}
     },
     "e07c44c9235d4a75818ca959ed206bb1": {
      "model_module": "@jupyter-widgets/controls",
      "model_module_version": "1.5.0",
      "model_name": "DropdownModel",
      "state": {
       "_options_labels": [
        "0",
        "1",
        "2",
        "3",
        "4",
        "5",
        "6",
        "7",
        "8",
        "9",
        "10",
        "11",
        "12",
        "13",
        "14",
        "15",
        "16",
        "17",
        "18",
        "19",
        "20",
        "21",
        "22",
        "23"
       ],
       "description": "Pick an Hour:",
       "index": 12,
       "layout": "IPY_MODEL_93bc300baae847d3a9cb254636955318",
       "style": "IPY_MODEL_ae1d5c42d5cf45948ea8cee40f1c7794"
      }
     },
     "e0c63fd6e80a445481008aff87434b63": {
      "model_module": "@jupyter-widgets/controls",
      "model_module_version": "1.5.0",
      "model_name": "HBoxModel",
      "state": {
       "children": [
        "IPY_MODEL_b7361d9b07b7436fa8bda795624124cd",
        "IPY_MODEL_18b6d593262541f7b6b10baaa6e953f8"
       ],
       "layout": "IPY_MODEL_cd04d3c6fa8442a781093151806825af"
      }
     },
     "e13608abb826472a8ef45d8ffba4fdaf": {
      "model_module": "@jupyter-widgets/base",
      "model_module_version": "1.2.0",
      "model_name": "LayoutModel",
      "state": {}
     },
     "e136879da87342049a5c9227cfbbcab9": {
      "model_module": "@jupyter-widgets/output",
      "model_module_version": "1.0.0",
      "model_name": "OutputModel",
      "state": {
       "layout": "IPY_MODEL_fba74d93ed0e4311b67ddecc0ccae2e6",
       "outputs": [
        {
         "name": "stdout",
         "output_type": "stream",
         "text": "Date Chosen: 2021-09-09\n"
        }
       ]
      }
     },
     "e1a69ca5bbc24faf81db0ab9a28b2f13": {
      "model_module": "@jupyter-widgets/base",
      "model_module_version": "1.2.0",
      "model_name": "LayoutModel",
      "state": {}
     },
     "e2935ff0b5df4c1ea87b870d0c444d1d": {
      "model_module": "@jupyter-widgets/controls",
      "model_module_version": "1.5.0",
      "model_name": "HBoxModel",
      "state": {
       "children": [
        "IPY_MODEL_9e2228dcbc2a4eb6909e1d345a254d79",
        "IPY_MODEL_4563757d7f424859bec380402d70ae34"
       ],
       "layout": "IPY_MODEL_305f67b51da043b4a80db6db3fcf2686"
      }
     },
     "e3486a2b21f24b81a53720d7245f1d0b": {
      "model_module": "@jupyter-widgets/controls",
      "model_module_version": "1.5.0",
      "model_name": "HBoxModel",
      "state": {
       "children": [
        "IPY_MODEL_cd25fcdbe82c4c7ca17d66b77b6766c5",
        "IPY_MODEL_fe8ab6cb6b244e60950b39c91766085d"
       ],
       "layout": "IPY_MODEL_44307c62658c44c9988935cede0fcb3d"
      }
     },
     "e4919723e2c345939b753e21e59f2d71": {
      "model_module": "@jupyter-widgets/controls",
      "model_module_version": "1.5.0",
      "model_name": "ButtonModel",
      "state": {
       "description": "View Predictions",
       "layout": "IPY_MODEL_d6f43292c0ff46d3a6da6c7110a49652",
       "style": "IPY_MODEL_7a2edaf7d44a4459b1f1eebec66b9139"
      }
     },
     "e4937943674b488a8e5d8b44b3542255": {
      "model_module": "@jupyter-widgets/base",
      "model_module_version": "1.2.0",
      "model_name": "LayoutModel",
      "state": {}
     },
     "e4aa2e594cf64a86bd257b903b3bc2e7": {
      "model_module": "@jupyter-widgets/output",
      "model_module_version": "1.0.0",
      "model_name": "OutputModel",
      "state": {
       "layout": "IPY_MODEL_a539deb29cc34f3eb912d8ad53ca96cf",
       "outputs": [
        {
         "name": "stdout",
         "output_type": "stream",
         "text": "   mnth weekday  temp  season workingday holiday  hr  bikes_rented\n0   Sep     Thu   0.8  summer        yes      no   0    166.367188\n1   Sep     Thu   0.8  summer        yes      no   1    146.530273\n2   Sep     Thu   0.8  summer        yes      no   2    139.722656\n3   Sep     Thu   0.8  summer        yes      no   3    128.027344\n4   Sep     Thu   0.8  summer        yes      no   4    125.362305\n5   Sep     Thu   0.8  summer        yes      no   5    141.169922\n6   Sep     Thu   0.8  summer        yes      no   6    200.426758\n7   Sep     Thu   0.8  summer        yes      no   7    330.842773\n8   Sep     Thu   0.8  summer        yes      no   8    471.509766\n9   Sep     Thu   0.8  summer        yes      no   9    334.569336\n10  Sep     Thu   0.8  summer        yes      no  10    274.271484\n11  Sep     Thu   0.8  summer        yes      no  11    304.164062\n12  Sep     Thu   0.8  summer        yes      no  12    344.320312\n13  Sep     Thu   0.8  summer        yes      no  13    333.047852\n14  Sep     Thu   0.8  summer        yes      no  14    324.614258\n15  Sep     Thu   0.8  summer        yes      no  15    332.620117\n16  Sep     Thu   0.8  summer        yes      no  16    392.210938\n17  Sep     Thu   0.8  summer        yes      no  17    547.005859\n18  Sep     Thu   0.8  summer        yes      no  18    516.862305\n19  Sep     Thu   0.8  summer        yes      no  19    408.535156\n20  Sep     Thu   0.8  summer        yes      no  20    329.700195\n21  Sep     Thu   0.8  summer        yes      no  21    277.140625\n22  Sep     Thu   0.8  summer        yes      no  22    239.441406\n23  Sep     Thu   0.8  summer        yes      no  23    198.773438\n"
        },
        {
         "data": {
          "image/png": "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\n",
          "text/plain": "<Figure size 864x432 with 1 Axes>"
         },
         "metadata": {},
         "output_type": "display_data"
        }
       ]
      }
     },
     "e648f0b40c97468b91e9b22505890d99": {
      "model_module": "@jupyter-widgets/controls",
      "model_module_version": "1.5.0",
      "model_name": "SliderStyleModel",
      "state": {
       "description_width": ""
      }
     },
     "e655abb77e724d479076e416a95335cc": {
      "model_module": "@jupyter-widgets/controls",
      "model_module_version": "1.5.0",
      "model_name": "ButtonStyleModel",
      "state": {}
     },
     "e69bd8f21db043ff94963a49426220fd": {
      "model_module": "@jupyter-widgets/output",
      "model_module_version": "1.0.0",
      "model_name": "OutputModel",
      "state": {
       "layout": "IPY_MODEL_edab32e1760e49b186fe097f3a82b9d6",
       "outputs": [
        {
         "name": "stdout",
         "output_type": "stream",
         "text": "Hour Chosen: 12\n"
        }
       ]
      }
     },
     "e7fc945ae1434978b76c5a4d56b61a82": {
      "model_module": "@jupyter-widgets/controls",
      "model_module_version": "1.5.0",
      "model_name": "ButtonStyleModel",
      "state": {}
     },
     "e83b1cc167124a37b2aad374d9018ab0": {
      "model_module": "@jupyter-widgets/controls",
      "model_module_version": "1.5.0",
      "model_name": "DescriptionStyleModel",
      "state": {
       "description_width": ""
      }
     },
     "e9484ccda0754bf4801af4ef183b36d7": {
      "model_module": "@jupyter-widgets/base",
      "model_module_version": "1.2.0",
      "model_name": "LayoutModel",
      "state": {}
     },
     "ea59329b9d2349c29c9462ff91c73918": {
      "model_module": "@jupyter-widgets/base",
      "model_module_version": "1.2.0",
      "model_name": "LayoutModel",
      "state": {}
     },
     "ec16646b5fe045d4a3a47f5618af1c5e": {
      "model_module": "@jupyter-widgets/controls",
      "model_module_version": "1.5.0",
      "model_name": "ButtonModel",
      "state": {
       "description": "View Predictions",
       "layout": "IPY_MODEL_0caf4f01f4f140348e2bebd12501704f",
       "style": "IPY_MODEL_fa01fb4e9fbb4ea5ac55a383c06a8ab7"
      }
     },
     "ecaff7392ac849d88bf6203a31e30054": {
      "model_module": "@jupyter-widgets/base",
      "model_module_version": "1.2.0",
      "model_name": "LayoutModel",
      "state": {}
     },
     "ed0a7600e7a449a5bb12048a2e47c832": {
      "model_module": "@jupyter-widgets/controls",
      "model_module_version": "1.5.0",
      "model_name": "HBoxModel",
      "state": {
       "children": [
        "IPY_MODEL_549c4865432644ce97bc0e69cf62a8c3",
        "IPY_MODEL_d0197b4974c845ffad4ba55df6d72311"
       ],
       "layout": "IPY_MODEL_be80717666b04cee823ab111092b4a0b"
      }
     },
     "ed4be046c3994106b635889728260069": {
      "model_module": "@jupyter-widgets/controls",
      "model_module_version": "1.5.0",
      "model_name": "HBoxModel",
      "state": {
       "children": [
        "IPY_MODEL_d644d72b670a4f9ab7939825455a057b",
        "IPY_MODEL_b221cfea754d4c89ac5794e970544d5f"
       ],
       "layout": "IPY_MODEL_878009350fdb41a09a4b54278f44a22f"
      }
     },
     "ed6eaeb4701140358e78fb0dc38315ce": {
      "model_module": "@jupyter-widgets/controls",
      "model_module_version": "1.5.0",
      "model_name": "DescriptionStyleModel",
      "state": {
       "description_width": ""
      }
     },
     "edab32e1760e49b186fe097f3a82b9d6": {
      "model_module": "@jupyter-widgets/base",
      "model_module_version": "1.2.0",
      "model_name": "LayoutModel",
      "state": {}
     },
     "edd60a3f14194328b617a479126f78e0": {
      "model_module": "@jupyter-widgets/controls",
      "model_module_version": "1.5.0",
      "model_name": "ButtonStyleModel",
      "state": {}
     },
     "ee81e77c99984dabb7dd30caed85e24b": {
      "model_module": "@jupyter-widgets/base",
      "model_module_version": "1.2.0",
      "model_name": "LayoutModel",
      "state": {}
     },
     "efbef6417bd942d388e989c49d3bdc10": {
      "model_module": "@jupyter-widgets/base",
      "model_module_version": "1.2.0",
      "model_name": "LayoutModel",
      "state": {}
     },
     "efd5c776a6a44747ab00ea6cfd982479": {
      "model_module": "@jupyter-widgets/base",
      "model_module_version": "1.2.0",
      "model_name": "LayoutModel",
      "state": {}
     },
     "f035dd31f95d4214bda7eea1cc73f1b9": {
      "model_module": "@jupyter-widgets/base",
      "model_module_version": "1.2.0",
      "model_name": "LayoutModel",
      "state": {}
     },
     "f3423e077d454457b7499bde5f7a92f1": {
      "model_module": "@jupyter-widgets/base",
      "model_module_version": "1.2.0",
      "model_name": "LayoutModel",
      "state": {}
     },
     "f3dd68601e7d4aa3945772af1bb85cfc": {
      "model_module": "@jupyter-widgets/base",
      "model_module_version": "1.2.0",
      "model_name": "LayoutModel",
      "state": {}
     },
     "f53f9bbb58594e0cbe49dd4a93a88104": {
      "model_module": "@jupyter-widgets/controls",
      "model_module_version": "1.5.0",
      "model_name": "ButtonModel",
      "state": {
       "description": "View Predictions",
       "layout": "IPY_MODEL_dcc7922fec0b4c50bef8d11c98f11b36",
       "style": "IPY_MODEL_da3b3bf03849485bb4e7a066e8394bd0"
      }
     },
     "f580d2afa0174817821dab82e636d35c": {
      "model_module": "@jupyter-widgets/controls",
      "model_module_version": "1.5.0",
      "model_name": "SliderStyleModel",
      "state": {
       "description_width": ""
      }
     },
     "f63d7048c4a6412f8a802827088cfc71": {
      "model_module": "@jupyter-widgets/output",
      "model_module_version": "1.0.0",
      "model_name": "OutputModel",
      "state": {
       "layout": "IPY_MODEL_a8eeff7c0a4e4306b749a82e12b27c66",
       "outputs": [
        {
         "name": "stdout",
         "output_type": "stream",
         "text": "   mnth weekday  hr  temp  bikes_rented\n12  Sep     Thu  12   0.0     95.765625\n12  Sep     Thu  12   0.2    157.898438\n12  Sep     Thu  12   0.4    220.039062\n12  Sep     Thu  12   0.6    282.179688\n12  Sep     Thu  12   0.8    344.320312\n12  Sep     Thu  12   1.0    406.453125\n"
        },
        {
         "data": {
          "image/png": "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\n",
          "text/plain": "<Figure size 1440x720 with 1 Axes>"
         },
         "metadata": {},
         "output_type": "display_data"
        }
       ]
      }
     },
     "f702fc64bf5f4253a25f70fa6762a182": {
      "model_module": "@jupyter-widgets/controls",
      "model_module_version": "1.5.0",
      "model_name": "SliderStyleModel",
      "state": {
       "description_width": ""
      }
     },
     "f81b23f0c42244389c6bbc37584619bf": {
      "model_module": "@jupyter-widgets/base",
      "model_module_version": "1.2.0",
      "model_name": "LayoutModel",
      "state": {}
     },
     "f82503cebca44bc594af0aa41fda0698": {
      "model_module": "@jupyter-widgets/base",
      "model_module_version": "1.2.0",
      "model_name": "LayoutModel",
      "state": {}
     },
     "fa01fb4e9fbb4ea5ac55a383c06a8ab7": {
      "model_module": "@jupyter-widgets/controls",
      "model_module_version": "1.5.0",
      "model_name": "ButtonStyleModel",
      "state": {}
     },
     "fa365325e0314ff9aaa60c9152ffda96": {
      "model_module": "@jupyter-widgets/base",
      "model_module_version": "1.2.0",
      "model_name": "LayoutModel",
      "state": {}
     },
     "fba74d93ed0e4311b67ddecc0ccae2e6": {
      "model_module": "@jupyter-widgets/base",
      "model_module_version": "1.2.0",
      "model_name": "LayoutModel",
      "state": {}
     },
     "fbe99cc3536f4b1cabe88208acdf8fd8": {
      "model_module": "@jupyter-widgets/controls",
      "model_module_version": "1.5.0",
      "model_name": "DescriptionStyleModel",
      "state": {
       "description_width": ""
      }
     },
     "fcc38abb696644d59ec7fe5b2ff30c10": {
      "model_module": "@jupyter-widgets/controls",
      "model_module_version": "1.5.0",
      "model_name": "ButtonModel",
      "state": {
       "description": "View Predictions",
       "layout": "IPY_MODEL_8538afcdb8a34fc2ad747a1a746ed3fe",
       "style": "IPY_MODEL_022c4ccb56fa40b98e245d8d43f15912"
      }
     },
     "fd2f51cd984144c9933521e96441d1ff": {
      "model_module": "@jupyter-widgets/base",
      "model_module_version": "1.2.0",
      "model_name": "LayoutModel",
      "state": {}
     },
     "fd723e2454144db3a3853783f76fb95a": {
      "model_module": "@jupyter-widgets/controls",
      "model_module_version": "1.5.0",
      "model_name": "HBoxModel",
      "state": {
       "children": [
        "IPY_MODEL_788c39d0d12b445996253f42f551f47c",
        "IPY_MODEL_cf3ac62a7d1a4c3a870efa0b007e0ae9"
       ],
       "layout": "IPY_MODEL_dfe480e69bb648e4861a08c2dc4f33b2"
      }
     },
     "fe2f5458c14c40b6bd9eadd528639476": {
      "model_module": "@jupyter-widgets/controls",
      "model_module_version": "1.5.0",
      "model_name": "ButtonModel",
      "state": {
       "description": "View Predictions",
       "layout": "IPY_MODEL_6d7f888567f74b32b7ddbe4bdc825963",
       "style": "IPY_MODEL_829cd4bc890a48b08a08e20b41291390"
      }
     },
     "fe68343e02d94c55aa026f5fe966a107": {
      "model_module": "@jupyter-widgets/base",
      "model_module_version": "1.2.0",
      "model_name": "LayoutModel",
      "state": {}
     },
     "fe8ab6cb6b244e60950b39c91766085d": {
      "model_module": "@jupyter-widgets/output",
      "model_module_version": "1.0.0",
      "model_name": "OutputModel",
      "state": {
       "layout": "IPY_MODEL_85b30fb069f445a58e9629179804ddd6",
       "outputs": [
        {
         "name": "stdout",
         "output_type": "stream",
         "text": "Hour Chosen: 12\n"
        }
       ]
      }
     },
     "fe8bc0ef518d4219ba740898683fec70": {
      "model_module": "@jupyter-widgets/base",
      "model_module_version": "1.2.0",
      "model_name": "LayoutModel",
      "state": {}
     },
     "ff79b18976674fb49f347005d7f6542d": {
      "model_module": "@jupyter-widgets/controls",
      "model_module_version": "1.5.0",
      "model_name": "VBoxModel",
      "state": {
       "children": [
        "IPY_MODEL_a6eaf300d126436b99a91621f4442c9c"
       ],
       "layout": "IPY_MODEL_0bab12f5e7da4639b9fdec72f599dada"
      }
     },
     "ff9ebbcf3e4a44dda9e7ebe3a9be1c56": {
      "model_module": "@jupyter-widgets/base",
      "model_module_version": "1.2.0",
      "model_name": "LayoutModel",
      "state": {}
     }
    },
    "version_major": 2,
    "version_minor": 0
   }
  }
 },
 "nbformat": 4,
 "nbformat_minor": 5
}
